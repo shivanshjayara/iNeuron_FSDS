{
 "cells": [
  {
   "cell_type": "markdown",
   "id": "qualified-expense",
   "metadata": {},
   "source": [
    "**1. Does assignment to an indexed character of a string violate Python’s immutability for strings?**"
   ]
  },
  {
   "cell_type": "markdown",
   "id": "corresponding-anger",
   "metadata": {},
   "source": [
    "Ans. \n",
    "\n",
    "String is an immutable. So we can't do any updation or deletion with the string items through indexing."
   ]
  },
  {
   "cell_type": "code",
   "execution_count": 2,
   "id": "photographic-portable",
   "metadata": {},
   "outputs": [
    {
     "ename": "TypeError",
     "evalue": "'str' object does not support item assignment",
     "output_type": "error",
     "traceback": [
      "\u001b[1;31m---------------------------------------------------------------------------\u001b[0m",
      "\u001b[1;31mTypeError\u001b[0m                                 Traceback (most recent call last)",
      "\u001b[1;32m<ipython-input-2-889182652773>\u001b[0m in \u001b[0;36m<module>\u001b[1;34m\u001b[0m\n\u001b[0;32m      1\u001b[0m \u001b[0ms\u001b[0m\u001b[1;33m=\u001b[0m\u001b[1;34m'shiavnsh'\u001b[0m\u001b[1;33m\u001b[0m\u001b[1;33m\u001b[0m\u001b[0m\n\u001b[1;32m----> 2\u001b[1;33m \u001b[0ms\u001b[0m\u001b[1;33m[\u001b[0m\u001b[1;36m2\u001b[0m\u001b[1;33m]\u001b[0m\u001b[1;33m=\u001b[0m\u001b[1;34m't'\u001b[0m\u001b[1;33m\u001b[0m\u001b[1;33m\u001b[0m\u001b[0m\n\u001b[0m\u001b[0;32m      3\u001b[0m \u001b[0mprint\u001b[0m\u001b[1;33m(\u001b[0m\u001b[0ms\u001b[0m\u001b[1;33m)\u001b[0m\u001b[1;33m\u001b[0m\u001b[1;33m\u001b[0m\u001b[0m\n",
      "\u001b[1;31mTypeError\u001b[0m: 'str' object does not support item assignment"
     ]
    }
   ],
   "source": [
    "s='shiavnsh'\n",
    "s[2]='t'\n",
    "print(s)"
   ]
  },
  {
   "cell_type": "markdown",
   "id": "sitting-compiler",
   "metadata": {},
   "source": [
    "**2. Does string concatenation, using the += operator, violate Python’s immutability for strings? Why or why not?**"
   ]
  },
  {
   "cell_type": "markdown",
   "id": "polar-rebound",
   "metadata": {},
   "source": [
    "Ans.\n",
    "\n",
    "No it doesnot violate it because string class is having an inbuilt method which is  _ _ add _ _() which takes strings and concatenate them"
   ]
  },
  {
   "cell_type": "markdown",
   "id": "italic-pencil",
   "metadata": {},
   "source": [
    "**3. How many ways are there in Python to index a given character?**"
   ]
  },
  {
   "cell_type": "markdown",
   "id": "brazilian-cycle",
   "metadata": {},
   "source": [
    "Ans.\n",
    "There are various ways in pytho to get some item at some index position.\n",
    "\n",
    "1) By simply using the indexing and slicing method inside square bracket. Eg: item[1] or item[1:4] or item[3::2], etc\n",
    "\n",
    "2) By using list index method. **list.index(position)**. In this way one can get the item at some index position.\n",
    "\n",
    "3) Using built in method like **_ _ getitem _ _ ()**  and **_ _ index _ _**. We can use this inside the class\n"
   ]
  },
  {
   "cell_type": "markdown",
   "id": "acceptable-lindsay",
   "metadata": {},
   "source": [
    "**4. How, precisely, are indexing and slicing related?**\n",
    "\n"
   ]
  },
  {
   "cell_type": "markdown",
   "id": "abandoned-responsibility",
   "metadata": {},
   "source": [
    "Ans.\n",
    "\n",
    "**Indexing**: It is a technique used to get the item of that particuar index position or in cas eof mutable object we can also update the value or add the new value by just giving the index position and assignment operator.\n",
    "    \n",
    "**Slicing**: It is use when we wan to extract some range of a item from some object.  \n",
    "\n",
    "**Example**"
   ]
  },
  {
   "cell_type": "code",
   "execution_count": 11,
   "id": "further-preference",
   "metadata": {},
   "outputs": [
    {
     "name": "stdout",
     "output_type": "stream",
     "text": [
      "Indexing: 66\n",
      "Slicing: [22, 33, 44, 55]\n"
     ]
    }
   ],
   "source": [
    "l = [11,22,33,44,55,66,77,88]\n",
    "\n",
    "indexing=l[5] #getting that item at position 5\n",
    "print(f'Indexing: {indexing}')\n",
    "\n",
    "slicing=l[1:5]  #getting items from position 1 till 4\n",
    "print(f'Slicing: {slicing}')"
   ]
  },
  {
   "cell_type": "code",
   "execution_count": 12,
   "id": "expensive-pixel",
   "metadata": {},
   "outputs": [
    {
     "data": {
      "text/plain": [
       "int"
      ]
     },
     "execution_count": 12,
     "metadata": {},
     "output_type": "execute_result"
    }
   ],
   "source": [
    "type(indexing)"
   ]
  },
  {
   "cell_type": "code",
   "execution_count": 14,
   "id": "built-retailer",
   "metadata": {},
   "outputs": [
    {
     "data": {
      "text/plain": [
       "str"
      ]
     },
     "execution_count": 14,
     "metadata": {},
     "output_type": "execute_result"
    }
   ],
   "source": [
    "type('.')"
   ]
  },
  {
   "cell_type": "markdown",
   "id": "fantastic-property",
   "metadata": {},
   "source": [
    "**5. What is the exact data type of an indexed character? What is the data type of a substring produced from slicing?**\n",
    "\n"
   ]
  },
  {
   "cell_type": "markdown",
   "id": "proper-charles",
   "metadata": {},
   "source": [
    "Ans.\n",
    "\n",
    "The exact data type for the indexed character is **CHAR** but generally it is refer to as a string. Or it could that which was earlier before the indexing.\n",
    "\n",
    "The data type of a substring produced from slicing is also a string"
   ]
  },
  {
   "cell_type": "markdown",
   "id": "smart-perception",
   "metadata": {},
   "source": [
    "**6. In Python, what is the relationship between the string and character “types”?**\n"
   ]
  },
  {
   "cell_type": "markdown",
   "id": "fancy-march",
   "metadata": {},
   "source": [
    "Ans.\n",
    "\n",
    "Character refers to a single letter, number, space, punctuation mark or a symbol. Its data type is actually a **CHAR** which stores character data in a fixed-length field.\n",
    "\n",
    "While String is a sequence of characters. A group of different different character compose a string. We enclosed it by ' ' \n",
    "Strings are arrays of bytes representing Unicode characters. Its type is **string**\n",
    "\n"
   ]
  },
  {
   "cell_type": "markdown",
   "id": "automatic-catalog",
   "metadata": {},
   "source": [
    "\n",
    "**7. Name at least two operators and one method that enable you to build a larger string out of one or more smaller strings.**\n"
   ]
  },
  {
   "cell_type": "markdown",
   "id": "social-interview",
   "metadata": {},
   "source": [
    "Ans.\n",
    "\n",
    "In this case concatenation and a kind of multiple times of string comes into action. Concatenation needed **+** operator while multiple time needed '*' operator.\n",
    "\n",
    "In case of methods there are a method which do the same:\n",
    "\n",
    "**_ _ add _ _** and **_ _ mul_ _**"
   ]
  },
  {
   "cell_type": "code",
   "execution_count": 22,
   "id": "about-clearing",
   "metadata": {},
   "outputs": [
    {
     "name": "stdout",
     "output_type": "stream",
     "text": [
      "shivanshjayara\n",
      "shivansh shivansh \n",
      "shivanshjayara\n",
      "shivansh shivansh \n"
     ]
    }
   ],
   "source": [
    "print('shivansh'+'jayara')\n",
    "print('shivansh '*2)\n",
    "print(str.__add__('shivansh','jayara'))\n",
    "print(str.__mul__('shivansh ',2))"
   ]
  },
  {
   "cell_type": "markdown",
   "id": "signed-pharmacology",
   "metadata": {},
   "source": [
    "\n",
    "**8. If you are going to use the index method to locate a substring, what is the advantage of first testing the target string by using in or not in?**\n"
   ]
  },
  {
   "cell_type": "markdown",
   "id": "expensive-exhibition",
   "metadata": {},
   "source": [
    "Ans. \n",
    "\n",
    "When we first check the target string using **in** or **not in** containment operator then we could get to know whether that particular target string is present or not. If it is not present the it will give True as a result else will False.\n",
    "Its better to check before becaue if we are not testinng it first and the substring is not present in the string then it will result in an exception"
   ]
  },
  {
   "cell_type": "markdown",
   "id": "every-driving",
   "metadata": {},
   "source": [
    "\n",
    "**9. Which built-in string methods, and which operators, produce a simple Boolean (true/false) results?**\n"
   ]
  },
  {
   "cell_type": "markdown",
   "id": "chicken-validation",
   "metadata": {},
   "source": [
    "Ans.\n",
    "\n",
    "**_ _ contains _ _** is a built in method which produces the Boolean values in result.\n",
    "\n",
    "Others are also some methods which result the boolean values: \n",
    "'isalnum','isalpha', 'isascii','isdecimal','isdigit','isidentifier', 'islower', 'isnumeric','isprintable', 'isspace', 'istitle', 'isupper',\n",
    "\n",
    "The operator which used in this is **'in'** which is also called as containment operator"
   ]
  },
  {
   "cell_type": "code",
   "execution_count": null,
   "id": "romance-warren",
   "metadata": {},
   "outputs": [],
   "source": []
  }
 ],
 "metadata": {
  "kernelspec": {
   "display_name": "Python 3",
   "language": "python",
   "name": "python3"
  },
  "language_info": {
   "codemirror_mode": {
    "name": "ipython",
    "version": 3
   },
   "file_extension": ".py",
   "mimetype": "text/x-python",
   "name": "python",
   "nbconvert_exporter": "python",
   "pygments_lexer": "ipython3",
   "version": "3.7.9"
  }
 },
 "nbformat": 4,
 "nbformat_minor": 5
}
