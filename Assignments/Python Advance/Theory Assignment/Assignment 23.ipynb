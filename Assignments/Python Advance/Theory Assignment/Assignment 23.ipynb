{
 "cells": [
  {
   "cell_type": "markdown",
   "id": "disturbed-poetry",
   "metadata": {},
   "source": [
    "**1. What are your options, if any, for increasing the contrast between different figures that occupy the same graph?**"
   ]
  },
  {
   "cell_type": "code",
   "execution_count": null,
   "id": "detailed-polish",
   "metadata": {},
   "outputs": [],
   "source": [
    "Ans.\n",
    "\n"
   ]
  },
  {
   "cell_type": "markdown",
   "id": "directed-vertical",
   "metadata": {},
   "source": [
    "**2. After reading this chapter, can you state what the advantage of compound interest is compared to a higher rate of interest that does not compound?**"
   ]
  },
  {
   "cell_type": "markdown",
   "id": "communist-solomon",
   "metadata": {},
   "source": [
    "**3. What exactly is a histogram? Name one way of producing such a graph with numpy.**"
   ]
  },
  {
   "cell_type": "markdown",
   "id": "refined-taiwan",
   "metadata": {},
   "source": [
    "Ans.\n",
    "\n",
    "Histogram is a type of a plot which hold the total number of counts or the percentile value in y-axis w.r.t. corresponding x-variables.\n",
    "When we say the number of counts it means that for a particular range in x-axis what will be the number of counts of the data points. When we talk about percentile it shows the probability occurrence of the x-variable or what percentage of data are below that particular percetile value w.r.t. particular x-variable range."
   ]
  },
  {
   "cell_type": "markdown",
   "id": "handled-spirit",
   "metadata": {},
   "source": [
    "Numpy has a built-in **numpy. histogram()** function"
   ]
  },
  {
   "cell_type": "markdown",
   "id": "palestinian-banana",
   "metadata": {},
   "source": [
    "**4. How do you adjust the aspect ratios between the X and Y axes, if needed?**"
   ]
  },
  {
   "cell_type": "markdown",
   "id": "stunning-public",
   "metadata": {},
   "source": [
    "Ans. \n",
    "\n",
    "We can use figure(figsize=(10,8)) function inside the matplot.pyplot library which we scale down or up the graph. \n",
    "\n",
    "**figure(figsize=(10,8))**"
   ]
  },
  {
   "cell_type": "markdown",
   "id": "given-split",
   "metadata": {},
   "source": [
    "\n",
    "**5. Summarize the differences in array multiplication between two arrays, as it is used in these three forms: dot product, outer product, and standard multiplication of two numpy arrays.**\n"
   ]
  },
  {
   "cell_type": "code",
   "execution_count": 2,
   "id": "relative-possession",
   "metadata": {},
   "outputs": [],
   "source": [
    "import numpy as np"
   ]
  },
  {
   "cell_type": "code",
   "execution_count": 12,
   "id": "powered-founder",
   "metadata": {},
   "outputs": [],
   "source": [
    "a1=np.array([[1,2,3],[4,5,6],[6,7,8]])\n",
    "a2=np.array([[10,20,30],[40,50,60],[60,70,80]])\n",
    "\n",
    "# suppose above are the two arrays of shape 3 x 3"
   ]
  },
  {
   "cell_type": "code",
   "execution_count": 13,
   "id": "caring-wisconsin",
   "metadata": {},
   "outputs": [
    {
     "name": "stdout",
     "output_type": "stream",
     "text": [
      "[[1 2 3]\n",
      " [4 5 6]\n",
      " [6 7 8]]\n",
      "\n",
      "[[10 20 30]\n",
      " [40 50 60]\n",
      " [60 70 80]]\n"
     ]
    }
   ],
   "source": [
    "print(a1)\n",
    "print()\n",
    "print(a2)"
   ]
  },
  {
   "cell_type": "code",
   "execution_count": 14,
   "id": "therapeutic-volleyball",
   "metadata": {},
   "outputs": [
    {
     "data": {
      "text/plain": [
       "array([[ 10,  40,  90],\n",
       "       [160, 250, 360],\n",
       "       [360, 490, 640]])"
      ]
     },
     "execution_count": 14,
     "metadata": {},
     "output_type": "execute_result"
    }
   ],
   "source": [
    "#standard multiplication\n",
    "a1*a2"
   ]
  },
  {
   "cell_type": "markdown",
   "id": "opponent-independence",
   "metadata": {},
   "source": [
    "When we do standard multiplication in that case values of the same indexes in the array will get multiply. Like in above example. A1(i,j) x A2(i,j)"
   ]
  },
  {
   "cell_type": "code",
   "execution_count": 17,
   "id": "muslim-proposition",
   "metadata": {},
   "outputs": [
    {
     "data": {
      "text/plain": [
       "array([[ 270,  330,  390],\n",
       "       [ 600,  750,  900],\n",
       "       [ 820, 1030, 1240]])"
      ]
     },
     "execution_count": 17,
     "metadata": {},
     "output_type": "execute_result"
    }
   ],
   "source": [
    "# dot product\n",
    "np.dot(a1,a2)"
   ]
  },
  {
   "cell_type": "markdown",
   "id": "novel-staff",
   "metadata": {},
   "source": [
    "In case of dot product vector, multiplication will take place between row of first array and column of secodn array respectively.\n",
    "Like first row of array a1 will be multiply by column value of array a2 one by one and then added"
   ]
  },
  {
   "cell_type": "code",
   "execution_count": 16,
   "id": "directed-pennsylvania",
   "metadata": {},
   "outputs": [
    {
     "data": {
      "text/plain": [
       "array([[ 10,  20,  30,  40,  50,  60,  60,  70,  80],\n",
       "       [ 20,  40,  60,  80, 100, 120, 120, 140, 160],\n",
       "       [ 30,  60,  90, 120, 150, 180, 180, 210, 240],\n",
       "       [ 40,  80, 120, 160, 200, 240, 240, 280, 320],\n",
       "       [ 50, 100, 150, 200, 250, 300, 300, 350, 400],\n",
       "       [ 60, 120, 180, 240, 300, 360, 360, 420, 480],\n",
       "       [ 60, 120, 180, 240, 300, 360, 360, 420, 480],\n",
       "       [ 70, 140, 210, 280, 350, 420, 420, 490, 560],\n",
       "       [ 80, 160, 240, 320, 400, 480, 480, 560, 640]])"
      ]
     },
     "execution_count": 16,
     "metadata": {},
     "output_type": "execute_result"
    }
   ],
   "source": [
    "#outer multiplication\n",
    "np.outer(a1,a2)"
   ]
  },
  {
   "cell_type": "markdown",
   "id": "twenty-exhaust",
   "metadata": {},
   "source": [
    "In outer multiplication every element of first array a1 will be multiply by every element of other array a2 such such the number of columns will be equal to the number of element in another array a2"
   ]
  },
  {
   "cell_type": "markdown",
   "id": "municipal-thomas",
   "metadata": {},
   "source": [
    "\n",
    "**6. Which numpy function could you use to calculate your monthly mortgage payment before you purchase a house?**"
   ]
  },
  {
   "cell_type": "markdown",
   "id": "sexual-cartridge",
   "metadata": {},
   "source": [
    "Ans.\n",
    "\n",
    "**np.pmt(rate, nper, pv)** function we will be using in order to calculate monthly mortgage payment before you purchase a house\n",
    "\n",
    "\n",
    "rate = The periodic interest rate\n",
    "\n",
    "nper = The number of payment periods\n",
    "\n",
    "pv = The total value of the mortgage loan"
   ]
  },
  {
   "cell_type": "markdown",
   "id": "overall-effects",
   "metadata": {},
   "source": [
    "**7. Can numpy arrays store string data? If so, state at least one limitation that is imposed on this data.**"
   ]
  },
  {
   "cell_type": "markdown",
   "id": "exotic-course",
   "metadata": {},
   "source": [
    "Ans.\n",
    "\n",
    "Yes an array can store the string. \n",
    "\n",
    "The limitation which imposed on the string data is, whenever we store the data of string dtype then it should should keep in mind that the **string which is having the maximum length is the limit.** \n",
    "\n",
    "**The dtype value is the maximum length of a string in such data.** Meaning suppose if any new string we wanted to add, then we can add only that string which have the length either equal to that dtype value or less than tha. If any string which are adding and if its length is more than the dtype value then it will only accpet to maximum length and rest of the characters will not be included."
   ]
  },
  {
   "cell_type": "code",
   "execution_count": null,
   "id": "signed-range",
   "metadata": {},
   "outputs": [],
   "source": []
  }
 ],
 "metadata": {
  "kernelspec": {
   "display_name": "Python 3",
   "language": "python",
   "name": "python3"
  },
  "language_info": {
   "codemirror_mode": {
    "name": "ipython",
    "version": 3
   },
   "file_extension": ".py",
   "mimetype": "text/x-python",
   "name": "python",
   "nbconvert_exporter": "python",
   "pygments_lexer": "ipython3",
   "version": "3.7.9"
  }
 },
 "nbformat": 4,
 "nbformat_minor": 5
}
