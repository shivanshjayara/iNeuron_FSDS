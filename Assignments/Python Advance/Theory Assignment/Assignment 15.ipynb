{
 "cells": [
  {
   "cell_type": "markdown",
   "id": "opened-still",
   "metadata": {},
   "source": [
    "**1. Write a function that returns True if a given name can generate an array of words.**\n",
    "\n",
    "Examples\n",
    "\n",
    "**anagram(\"Justin Bieber\", [\"injures\", \"ebb\", \"it\"]) ➞ True**\n",
    "\n",
    "**anagram(\"Natalie Portman\", [\"ornamental\", \"pita\"]) ➞ True**\n",
    "\n",
    "**anagram(\"Chris Pratt\", [\"chirps\", \"rat\"]) ➞ False**\n",
    "\n",
    "*# Not all letters are used*\n",
    "\n",
    "**anagram(\"Jeff Goldblum\", [\"jog\", \"meld\", \"bluffs\"]) ➞ False**\n",
    "\n",
    "*# \"s\" does not exist in the original name*\n",
    "\n"
   ]
  },
  {
   "cell_type": "code",
   "execution_count": 40,
   "id": "visible-sunday",
   "metadata": {},
   "outputs": [],
   "source": [
    "def anagram(name,words):\n",
    "    words=sorted(''.join(words).lower())\n",
    "    name=sorted(name.replace(' ','').lower())\n",
    "    \n",
    "    if words==name:\n",
    "        return True\n",
    "    else:\n",
    "        return False    "
   ]
  },
  {
   "cell_type": "code",
   "execution_count": 41,
   "id": "dutch-guyana",
   "metadata": {},
   "outputs": [
    {
     "data": {
      "text/plain": [
       "True"
      ]
     },
     "execution_count": 41,
     "metadata": {},
     "output_type": "execute_result"
    }
   ],
   "source": [
    "anagram(\"Justin Bieber\", [\"injures\", \"ebb\", \"it\"])"
   ]
  },
  {
   "cell_type": "code",
   "execution_count": 42,
   "id": "dress-objective",
   "metadata": {},
   "outputs": [
    {
     "data": {
      "text/plain": [
       "True"
      ]
     },
     "execution_count": 42,
     "metadata": {},
     "output_type": "execute_result"
    }
   ],
   "source": [
    "anagram(\"Natalie Portman\", [\"ornamental\", \"pita\"])"
   ]
  },
  {
   "cell_type": "code",
   "execution_count": 43,
   "id": "infrared-assumption",
   "metadata": {},
   "outputs": [
    {
     "data": {
      "text/plain": [
       "False"
      ]
     },
     "execution_count": 43,
     "metadata": {},
     "output_type": "execute_result"
    }
   ],
   "source": [
    "anagram(\"Chris Pratt\", [\"chirps\", \"rat\"]) "
   ]
  },
  {
   "cell_type": "code",
   "execution_count": 44,
   "id": "noticed-campbell",
   "metadata": {},
   "outputs": [
    {
     "data": {
      "text/plain": [
       "False"
      ]
     },
     "execution_count": 44,
     "metadata": {},
     "output_type": "execute_result"
    }
   ],
   "source": [
    "anagram(\"Jeff Goldblum\", [\"jog\", \"meld\", \"bluffs\"])"
   ]
  },
  {
   "cell_type": "code",
   "execution_count": null,
   "id": "responsible-dutch",
   "metadata": {},
   "outputs": [],
   "source": []
  },
  {
   "cell_type": "markdown",
   "id": "efficient-george",
   "metadata": {},
   "source": [
    "**2. Given an array of users, each defined by an object with the following properties: name, score, reputation create a function that sorts the array to form the correct leaderboard.**\n",
    "\n",
    "**The leaderboard takes into consideration the score of each user of course, but an emphasis is put on their reputation in the community, so to get the trueScore, you should add the reputation multiplied by 2 to the score.**\n",
    "\n",
    "**Once you know the trueScore of each user, sort the array according to it in descending order.**\n",
    "\n",
    "Examples\n",
    "\n",
    "leaderboards([\n",
    "    \n",
    "  { \"name\": \"a\", \"score\": 100, \"reputation\": 20 },\n",
    "    \n",
    "  { \"name\": \"b\", \"score\": 90, \"reputation\": 40 },\n",
    "    \n",
    "  { \"name\": \"c\", \"score\": 115, \"reputation\": 30 },\n",
    "\n",
    "])\n",
    "\n",
    "O/P:\n",
    "\n",
    "[\n",
    "    \n",
    "    { \"name\": \"c\", \"score\": 115, \"reputation\": 30 },  # trueScore = 175\n",
    "  \n",
    "    { \"name\": \"b\", \"score\": 90, \"reputation\": 40 },   # trueScore = 170\n",
    "  \n",
    "    { \"name\": \"a\", \"score\": 100, \"reputation\": 20 }   # trueScore = 140\n",
    "\n",
    "]\n"
   ]
  },
  {
   "cell_type": "code",
   "execution_count": 75,
   "id": "central-optimization",
   "metadata": {},
   "outputs": [],
   "source": [
    "def leaderboards(d):\n",
    "    for i in d:\n",
    "        i['true'] = (i['score']) + (i['reputation']*2)\n",
    "    \n",
    "    result=sorted(d,key=lambda a:a.get('true'),reverse=True)\n",
    "    \n",
    "    for j in result:\n",
    "        j.pop('true')\n",
    "        \n",
    "    new_result=result\n",
    "    return new_result"
   ]
  },
  {
   "cell_type": "code",
   "execution_count": 76,
   "id": "olympic-lexington",
   "metadata": {},
   "outputs": [
    {
     "data": {
      "text/plain": [
       "[{'name': 'c', 'score': 115, 'reputation': 30},\n",
       " {'name': 'b', 'score': 90, 'reputation': 40},\n",
       " {'name': 'a', 'score': 100, 'reputation': 20}]"
      ]
     },
     "execution_count": 76,
     "metadata": {},
     "output_type": "execute_result"
    }
   ],
   "source": [
    "leaderboards([\n",
    "\n",
    "{ \"name\": \"a\", \"score\": 100, \"reputation\": 20 },\n",
    "\n",
    "{ \"name\": \"b\", \"score\": 90, \"reputation\": 40 },\n",
    "\n",
    "{ \"name\": \"c\", \"score\": 115, \"reputation\": 30 },\n",
    "\n",
    "])"
   ]
  },
  {
   "cell_type": "markdown",
   "id": "knowing-salvation",
   "metadata": {},
   "source": [
    "\n",
    "**3. Create a function that, given a phrase and a number of letters guessed, returns a string with hyphens - for every letter of the phrase not guessed, and each letter guessed in place.**\n",
    "\n",
    "**Examples**\n",
    "\n",
    "**hangman(\"helicopter\", [\"o\", \"e\", \"s\"]) ➞ \"-e---o--e-\"**\n",
    "\n",
    "**hangman(\"tree\", [\"r\", \"t\", \"e\"]) ➞ \"tree\"**\n",
    "\n",
    "**hangman(\"Python rules\", [\"a\", \"n\", \"p\", \"r\", \"z\"]) ➞ \"P----n r----\"**\n",
    "\n",
    "**hangman(\"He\"s a very naughty boy!\", [\"e\", \"a\", \"y\"]) ➞ \"-e\"- a -e-y -a----y –y!\"**\n",
    "\n"
   ]
  },
  {
   "cell_type": "code",
   "execution_count": null,
   "id": "tutorial-fever",
   "metadata": {},
   "outputs": [],
   "source": []
  },
  {
   "cell_type": "markdown",
   "id": "extensive-motor",
   "metadata": {},
   "source": [
    "**4. The Collatz sequence is as follows:**\n",
    "\n",
    "- Start with some given integer n.\n",
    "\n",
    "- If it is even, the next number will be n divided by 2.\n",
    "\n",
    "- If it is odd, multiply it by 3 and add 1 to make the next number.\n",
    "\n",
    "- The sequence stops when it reaches 1.\n",
    "\n",
    "**According to the Collatz conjecture, it will always reach 1. If that's true, you can construct a finite sequence following the aforementioned method for any given integer.**\n",
    "\n",
    "**Write a function that takes in an integer n and returns the highest integer in the corresponding Collatz sequence.**\n",
    "\n",
    "**Examples**\n",
    "\n",
    "*max_collatz(10) ➞ 16*\n",
    "\n",
    "*# Collatz sequence: 10, 5, 16, 8, 4, 2, 1*\n",
    "\n",
    "*max_collatz(32) ➞ 32*\n",
    "\n",
    "*# Collatz sequence: 32, 16, 8, 4, 2, 1*\n",
    "\n",
    "*max_collatz(85) ➞ 256*\n",
    "\n",
    "*# Collatz sequence: 85, 256, 128, 64, 32, 16, 8, 4, 2, 1*\n"
   ]
  },
  {
   "cell_type": "code",
   "execution_count": 17,
   "id": "grand-philippines",
   "metadata": {},
   "outputs": [],
   "source": [
    "def max_collatz(n):\n",
    "    temp=n\n",
    "    l=[]\n",
    "    print('Collatz sequence:',end=' ')\n",
    "    while temp != 1:\n",
    "        l.append(temp)\n",
    "        print(temp,end=' ')\n",
    "        if temp%2==0:\n",
    "            temp=temp//2\n",
    "        else:\n",
    "            temp=3*temp+1\n",
    "    return max(l)\n",
    "# printCollatz(10)"
   ]
  },
  {
   "cell_type": "code",
   "execution_count": 18,
   "id": "contained-surprise",
   "metadata": {},
   "outputs": [
    {
     "name": "stdout",
     "output_type": "stream",
     "text": [
      "Collatz sequence: 10 5 16 8 4 2 "
     ]
    },
    {
     "data": {
      "text/plain": [
       "16"
      ]
     },
     "execution_count": 18,
     "metadata": {},
     "output_type": "execute_result"
    }
   ],
   "source": [
    "max_collatz(10)"
   ]
  },
  {
   "cell_type": "code",
   "execution_count": 19,
   "id": "authorized-championship",
   "metadata": {},
   "outputs": [
    {
     "name": "stdout",
     "output_type": "stream",
     "text": [
      "Collatz sequence: 32 16 8 4 2 "
     ]
    },
    {
     "data": {
      "text/plain": [
       "32"
      ]
     },
     "execution_count": 19,
     "metadata": {},
     "output_type": "execute_result"
    }
   ],
   "source": [
    "max_collatz(32) "
   ]
  },
  {
   "cell_type": "code",
   "execution_count": 21,
   "id": "velvet-rider",
   "metadata": {},
   "outputs": [
    {
     "name": "stdout",
     "output_type": "stream",
     "text": [
      "Collatz sequence: 85 256 128 64 32 16 8 4 2 "
     ]
    },
    {
     "data": {
      "text/plain": [
       "256"
      ]
     },
     "execution_count": 21,
     "metadata": {},
     "output_type": "execute_result"
    }
   ],
   "source": [
    "max_collatz(85)"
   ]
  },
  {
   "cell_type": "markdown",
   "id": "physical-shock",
   "metadata": {},
   "source": [
    "\n",
    "**5. Write a function that sorts a list of integers by their digit length in descending order, then settles ties by sorting numbers with the same digit length in ascending order.**\n",
    "\n",
    "**Examples**\n",
    "\n",
    "**digit_sort([77, 23, 5, 7, 101])**\n",
    "\n",
    "*➞ [101, 23, 77, 5, 7]**\n",
    "\n",
    "**digit_sort([1, 5, 9, 2, 789, 563, 444])**\n",
    "\n",
    "*➞ [444, 563, 789, 1, 2, 5, 9]*\n",
    "\n",
    "**digit_sort([53219, 3772, 564, 32, 1])**\n",
    "\n",
    "*➞ [53219, 3772, 564, 32, 1]*"
   ]
  },
  {
   "cell_type": "code",
   "execution_count": 106,
   "id": "union-inspector",
   "metadata": {},
   "outputs": [],
   "source": [
    "def digit_sort(l):\n",
    "    l2=[]\n",
    "    for i in l:\n",
    "        l2.append(len(str(i)))\n",
    "    print(list(set(l2)))\n",
    "    print()\n",
    "    \n",
    "    d={}\n",
    "    \n",
    "    for j in l:\n",
    "        for k in l2:\n",
    "            if len(str(j))==k:\n",
    "                d[j]=k\n",
    "    print(d)"
   ]
  },
  {
   "cell_type": "code",
   "execution_count": 107,
   "id": "indonesian-illinois",
   "metadata": {},
   "outputs": [
    {
     "name": "stdout",
     "output_type": "stream",
     "text": [
      "[1, 2, 3]\n",
      "\n",
      "{77: 2, 23: 2, 5: 1, 7: 1, 101: 3}\n"
     ]
    }
   ],
   "source": [
    "digit_sort([77, 23, 5, 7, 101])"
   ]
  },
  {
   "cell_type": "code",
   "execution_count": null,
   "id": "naughty-extra",
   "metadata": {},
   "outputs": [],
   "source": []
  }
 ],
 "metadata": {
  "kernelspec": {
   "display_name": "Python 3",
   "language": "python",
   "name": "python3"
  },
  "language_info": {
   "codemirror_mode": {
    "name": "ipython",
    "version": 3
   },
   "file_extension": ".py",
   "mimetype": "text/x-python",
   "name": "python",
   "nbconvert_exporter": "python",
   "pygments_lexer": "ipython3",
   "version": "3.7.9"
  }
 },
 "nbformat": 4,
 "nbformat_minor": 5
}
