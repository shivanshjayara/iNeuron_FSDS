{
 "cells": [
  {
   "cell_type": "markdown",
   "id": "considered-capacity",
   "metadata": {},
   "source": [
    "**1. What is the try statement for?**"
   ]
  },
  {
   "cell_type": "markdown",
   "id": "greater-water",
   "metadata": {},
   "source": [
    "Ans.\n",
    "\n",
    "Under **try** block we write the codes in which there is a chances of exception. Whatever the codes is, we write those inside the **try** block"
   ]
  },
  {
   "cell_type": "markdown",
   "id": "broad-poetry",
   "metadata": {},
   "source": [
    "**2. What are the two common variations of the try statement?**"
   ]
  },
  {
   "cell_type": "markdown",
   "id": "national-arlington",
   "metadata": {},
   "source": [
    "Ans.\n",
    "\n",
    "1) *try* with *except* block: When try fails except will execute. When try passess, except do not execute\n",
    "\n",
    "2) *try* with *except* and *else*: When try will execute then only else block will exceute. If try fails then only except block will exceute not else block"
   ]
  },
  {
   "cell_type": "markdown",
   "id": "local-kansas",
   "metadata": {},
   "source": [
    "**3. What is the raise statement for?**"
   ]
  },
  {
   "cell_type": "markdown",
   "id": "latter-fantasy",
   "metadata": {},
   "source": [
    "Ans. \n",
    "\n",
    "**raise** keyword is use for raising out the error by ourself. Means we can define the which kind of error we want to raise. We can also simply write down the text message to show the user if error encountered"
   ]
  },
  {
   "cell_type": "code",
   "execution_count": 6,
   "id": "adopted-likelihood",
   "metadata": {},
   "outputs": [
    {
     "ename": "ValueError",
     "evalue": "Only integers are allowed",
     "output_type": "error",
     "traceback": [
      "\u001b[1;31m---------------------------------------------------------------------------\u001b[0m",
      "\u001b[1;31mValueError\u001b[0m                                Traceback (most recent call last)",
      "\u001b[1;32m<ipython-input-6-4db8afca92cc>\u001b[0m in \u001b[0;36m<module>\u001b[1;34m\u001b[0m\n\u001b[0;32m      2\u001b[0m \u001b[1;33m\u001b[0m\u001b[0m\n\u001b[0;32m      3\u001b[0m \u001b[1;32mif\u001b[0m \u001b[1;32mnot\u001b[0m \u001b[0mtype\u001b[0m\u001b[1;33m(\u001b[0m\u001b[0mx\u001b[0m\u001b[1;33m)\u001b[0m \u001b[1;32mis\u001b[0m \u001b[0mint\u001b[0m\u001b[1;33m:\u001b[0m\u001b[1;33m\u001b[0m\u001b[1;33m\u001b[0m\u001b[0m\n\u001b[1;32m----> 4\u001b[1;33m     \u001b[1;32mraise\u001b[0m \u001b[0mValueError\u001b[0m\u001b[1;33m(\u001b[0m\u001b[1;34m\"Only integers are allowed\"\u001b[0m\u001b[1;33m)\u001b[0m\u001b[1;33m\u001b[0m\u001b[1;33m\u001b[0m\u001b[0m\n\u001b[0m",
      "\u001b[1;31mValueError\u001b[0m: Only integers are allowed"
     ]
    }
   ],
   "source": [
    "x = \"shivansh\"\n",
    "\n",
    "if not type(x) is int:\n",
    "    raise ValueError(\"Only integers are allowed\")"
   ]
  },
  {
   "cell_type": "markdown",
   "id": "numerical-cleaners",
   "metadata": {},
   "source": [
    "**4. What is the assert statement designed to do, and what other statement is it like?**"
   ]
  },
  {
   "cell_type": "markdown",
   "id": "vertical-saver",
   "metadata": {},
   "source": [
    "Ans.\n",
    "\n",
    "**assert** statement is for raising assertion error. When any script is not True under the assert keyword, it will raise the assertion error. Else it will simply print.\n",
    "\n",
    "Another statement which work the same is **raise** keyword\n",
    "\n",
    "Examples are :"
   ]
  },
  {
   "cell_type": "code",
   "execution_count": 10,
   "id": "similar-gambling",
   "metadata": {},
   "outputs": [
    {
     "ename": "Exception",
     "evalue": "Wrong",
     "output_type": "error",
     "traceback": [
      "\u001b[1;31m---------------------------------------------------------------------------\u001b[0m",
      "\u001b[1;31mException\u001b[0m                                 Traceback (most recent call last)",
      "\u001b[1;32m<ipython-input-10-1f1cddd1229f>\u001b[0m in \u001b[0;36m<module>\u001b[1;34m\u001b[0m\n\u001b[0;32m      4\u001b[0m \u001b[1;33m\u001b[0m\u001b[0m\n\u001b[0;32m      5\u001b[0m \u001b[1;32mif\u001b[0m \u001b[0ma\u001b[0m\u001b[1;33m==\u001b[0m\u001b[1;36m10\u001b[0m\u001b[1;33m:\u001b[0m\u001b[1;33m\u001b[0m\u001b[1;33m\u001b[0m\u001b[0m\n\u001b[1;32m----> 6\u001b[1;33m     \u001b[1;32mraise\u001b[0m \u001b[0mException\u001b[0m\u001b[1;33m(\u001b[0m\u001b[1;34m'Wrong'\u001b[0m\u001b[1;33m)\u001b[0m\u001b[1;33m\u001b[0m\u001b[1;33m\u001b[0m\u001b[0m\n\u001b[0m",
      "\u001b[1;31mException\u001b[0m: Wrong"
     ]
    }
   ],
   "source": [
    "#raise keyword\n",
    "\n",
    "a=10\n",
    "\n",
    "if a==10:\n",
    "    raise Exception('Wrong')"
   ]
  },
  {
   "cell_type": "code",
   "execution_count": 12,
   "id": "labeled-variance",
   "metadata": {},
   "outputs": [
    {
     "ename": "AssertionError",
     "evalue": "Wrong number",
     "output_type": "error",
     "traceback": [
      "\u001b[1;31m---------------------------------------------------------------------------\u001b[0m",
      "\u001b[1;31mAssertionError\u001b[0m                            Traceback (most recent call last)",
      "\u001b[1;32m<ipython-input-12-b0a32476773a>\u001b[0m in \u001b[0;36m<module>\u001b[1;34m\u001b[0m\n\u001b[0;32m      3\u001b[0m \u001b[0ma\u001b[0m\u001b[1;33m=\u001b[0m\u001b[1;36m10\u001b[0m\u001b[1;33m\u001b[0m\u001b[1;33m\u001b[0m\u001b[0m\n\u001b[0;32m      4\u001b[0m \u001b[1;33m\u001b[0m\u001b[0m\n\u001b[1;32m----> 5\u001b[1;33m \u001b[1;32massert\u001b[0m \u001b[0ma\u001b[0m\u001b[1;33m==\u001b[0m\u001b[1;36m1\u001b[0m\u001b[1;33m,\u001b[0m\u001b[1;34m'Wrong number'\u001b[0m\u001b[1;33m\u001b[0m\u001b[1;33m\u001b[0m\u001b[0m\n\u001b[0m\u001b[0;32m      6\u001b[0m \u001b[0mprint\u001b[0m\u001b[1;33m(\u001b[0m\u001b[1;34m'right number'\u001b[0m\u001b[1;33m)\u001b[0m\u001b[1;33m\u001b[0m\u001b[1;33m\u001b[0m\u001b[0m\n",
      "\u001b[1;31mAssertionError\u001b[0m: Wrong number"
     ]
    }
   ],
   "source": [
    "#assert keyword\n",
    "\n",
    "a=10\n",
    "\n",
    "assert a==1,'Wrong number'\n",
    "print('right number')"
   ]
  },
  {
   "cell_type": "markdown",
   "id": "communist-state",
   "metadata": {},
   "source": [
    "**5. What is the with/as statement designed to do, and what other statement is it like?**"
   ]
  },
  {
   "cell_type": "markdown",
   "id": "posted-killing",
   "metadata": {},
   "source": [
    "Ans.\n",
    "\n",
    "using **with/as** statement makes the code much compact and readable. While using with staement we do not need to call the file.close() function to close the execution of the resource. \n",
    "The with statement itself ensures proper acquisition and release of resources. \n",
    "\n",
    "In **try** and **except** block if any file handling operation done like reading or writing and there is no **with/as** statement is used and if there is any error occur then it may happen that it prevents the closing of the file due to which several bugs comes into that. So to avoid this we use **with/as** statement, it helps in ensuring that the resource is properly released and code using the resource propery till it get executed completly.\n",
    "\n",
    "\n",
    "Example:\n",
    "try:\n",
    "    with open('xyz.txt','w') as file:\n",
    "    \n",
    "        file.write('this is a file name xyz')\n",
    "\n",
    "execpt Exception as e:\n",
    "\n",
    "    print(e)\n",
    "    \n",
    "#No ned to write file.close here. With/as statement take care of those hing and beautify the readability of the code\n",
    "\n",
    "\n",
    "**Similar statement**: It s like \n",
    "try:\n",
    "\n",
    "    file = open('xyz.txt','w')\n",
    "    \n",
    "    file.write('This is a xyz file')\n",
    "\n",
    "except Exception as :\n",
    "    \n",
    "    print(e)\n",
    "    \n",
    "else:\n",
    "    \n",
    "    print(file.close())\n",
    "\n",
    "Here if file.close() is required to complete teh effect of the file opration in the fie 'xyz.txt'. Secondaly if ther eis any execption then it causes difficulties in file closing and effecting the file operation insid ethe 'xyz.txt' file"
   ]
  },
  {
   "cell_type": "code",
   "execution_count": null,
   "id": "casual-seating",
   "metadata": {},
   "outputs": [],
   "source": []
  },
  {
   "cell_type": "code",
   "execution_count": null,
   "id": "frequent-sustainability",
   "metadata": {},
   "outputs": [],
   "source": []
  }
 ],
 "metadata": {
  "kernelspec": {
   "display_name": "Python 3",
   "language": "python",
   "name": "python3"
  },
  "language_info": {
   "codemirror_mode": {
    "name": "ipython",
    "version": 3
   },
   "file_extension": ".py",
   "mimetype": "text/x-python",
   "name": "python",
   "nbconvert_exporter": "python",
   "pygments_lexer": "ipython3",
   "version": "3.7.10"
  }
 },
 "nbformat": 4,
 "nbformat_minor": 5
}
