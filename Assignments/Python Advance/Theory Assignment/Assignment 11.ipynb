{
 "cells": [
  {
   "cell_type": "markdown",
   "id": "mobile-shift",
   "metadata": {},
   "source": [
    "**1. What is a metaclass?**"
   ]
  },
  {
   "cell_type": "markdown",
   "id": "searching-respondent",
   "metadata": {},
   "source": [
    "Ans.\n",
    "\n",
    "In object-oriented programming, a metaclass is a class whose instances are classes. \n",
    "Just as an ordinary class defines the behavior of certain objects, a metaclass defines the behavior of certain classes and their instances.\n",
    "A class is itself an instance of a metaclass."
   ]
  },
  {
   "cell_type": "markdown",
   "id": "sharing-lying",
   "metadata": {},
   "source": [
    "**2. How do you declare the metaclass of a class?**"
   ]
  },
  {
   "cell_type": "markdown",
   "id": "fluid-wallpaper",
   "metadata": {},
   "source": [
    "Ans.\n",
    "\n",
    "**type** is a default metaclass in python. But we can create a meta class in the following way: "
   ]
  },
  {
   "cell_type": "code",
   "execution_count": 54,
   "id": "experimental-needle",
   "metadata": {},
   "outputs": [],
   "source": [
    "class meta_class(type):\n",
    "    pass\n",
    "\n",
    "class ineuron(metaclass=meta_class):\n",
    "    pass"
   ]
  },
  {
   "cell_type": "code",
   "execution_count": 55,
   "id": "silent-petite",
   "metadata": {},
   "outputs": [
    {
     "data": {
      "text/plain": [
       "__main__.meta_class"
      ]
     },
     "execution_count": 55,
     "metadata": {},
     "output_type": "execute_result"
    }
   ],
   "source": [
    "type(ineuron)"
   ]
  },
  {
   "cell_type": "markdown",
   "id": "entitled-relay",
   "metadata": {},
   "source": [
    "So here ineuron was a class but now it is an instance for meta_class class"
   ]
  },
  {
   "cell_type": "markdown",
   "id": "suburban-possibility",
   "metadata": {},
   "source": [
    "**3. How do class decorators overlap with metaclasses for managing classes?**"
   ]
  },
  {
   "cell_type": "markdown",
   "id": "special-hayes",
   "metadata": {},
   "source": [
    "Ans.\n",
    "\n",
    "Anything which we can do with a class decorator, can be done with a custom metaclass. We just need to apply the functionality of the \"decorator function\", i.e., the one that takes a class object and modifies it, in the course of the metaclass's _ _ new _ _  or _ _ init _ _ that make the class object.\n",
    "\n",
    "Decorartors rebind a class name to a result which could be called and metaclass route the class creation through a callable object but both hooks can be used for similar class objects. Meta class augment a class after they create it. Decorator simply augment and return the original class object. Decorators may have a slight disadvantage in this role if a new class must be defined because original class has been already created"
   ]
  },
  {
   "cell_type": "markdown",
   "id": "extreme-cookie",
   "metadata": {},
   "source": [
    "**4. How do class decorators overlap with metaclasses for managing instances?**"
   ]
  },
  {
   "cell_type": "markdown",
   "id": "forward-airfare",
   "metadata": {},
   "source": [
    "Ans.\n",
    "\n",
    "We can use both class decorator and metaclasses to manage class instances by inserting a wrapper object to catch the instance creation calls. Decorators may rebind the class name to a cllabale run on instance creation that retains the original class object. Metaclasses can also do the same but they might have some disadvantage as they need to create a new object for that"
   ]
  },
  {
   "cell_type": "code",
   "execution_count": null,
   "id": "established-entrance",
   "metadata": {},
   "outputs": [],
   "source": []
  }
 ],
 "metadata": {
  "kernelspec": {
   "display_name": "Python 3",
   "language": "python",
   "name": "python3"
  },
  "language_info": {
   "codemirror_mode": {
    "name": "ipython",
    "version": 3
   },
   "file_extension": ".py",
   "mimetype": "text/x-python",
   "name": "python",
   "nbconvert_exporter": "python",
   "pygments_lexer": "ipython3",
   "version": "3.7.9"
  }
 },
 "nbformat": 4,
 "nbformat_minor": 5
}
