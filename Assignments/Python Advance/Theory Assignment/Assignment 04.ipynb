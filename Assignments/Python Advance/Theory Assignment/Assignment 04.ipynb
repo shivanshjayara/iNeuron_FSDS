{
 "cells": [
  {
   "cell_type": "markdown",
   "id": "cardiac-municipality",
   "metadata": {},
   "source": [
    "**1. What two operator overloading methods can you use to support iteration in your classes?**"
   ]
  },
  {
   "cell_type": "markdown",
   "id": "yellow-medicine",
   "metadata": {},
   "source": [
    "Ans.\n",
    "\n",
    "1) _ _ _iter_ _ _()\n",
    "\n",
    "2) _ _ _next_ _ _()\n",
    "\n",
    "These are the two operator overloading methods that can be used for iteration in the class"
   ]
  },
  {
   "cell_type": "markdown",
   "id": "worse-holocaust",
   "metadata": {},
   "source": [
    "**2. What two operator overloading methods handle printing, and in what contexts?**"
   ]
  },
  {
   "cell_type": "markdown",
   "id": "little-earthquake",
   "metadata": {},
   "source": [
    "Ans.\n",
    "\n",
    "1) '_ _ _str_ _ _'\n",
    "\n",
    "2) '_ _ _repr_ _ _'\n",
    "\n",
    "**_ _ _str_ _ _** is used to print the string representation of an object in such a way that it is readable to the user. Only informatic part. We can also say that only inofficial string representation of the object is taken care by using this method. We cannot reuse it to build the object again for the respective class.\n",
    "\n",
    "**_ _ _repr_ _ _** is used to print the official information about the object. Meaning, the representation of object in a string format in such a way that it is understand by the machine only, however user can also understand but its representation is not that much readable. It can be reuse for constructing the object again of respective class."
   ]
  },
  {
   "cell_type": "markdown",
   "id": "removed-combine",
   "metadata": {},
   "source": [
    "**3. How can you intercept slice operations in a class?**"
   ]
  },
  {
   "cell_type": "markdown",
   "id": "becoming-windsor",
   "metadata": {},
   "source": [
    "Ans.\n",
    "\n",
    "In a class we use a dunder method '_ _ _getitem_ _ _' for slicing operation. \n",
    "\n",
    "we use _ _ _getitem_ _ _(self,index) method with class object and this returns the value at that index position. It is use for list, tuple as well as dictionary also."
   ]
  },
  {
   "cell_type": "markdown",
   "id": "comfortable-aspect",
   "metadata": {},
   "source": [
    "**4. How can you catch in-place addition in a class?**"
   ]
  },
  {
   "cell_type": "markdown",
   "id": "generous-vertex",
   "metadata": {},
   "source": [
    "Ans.\n",
    "\n",
    "It is possible that we can add something in a function in additional manner. We just need to pass the value inside the function "
   ]
  },
  {
   "cell_type": "code",
   "execution_count": 35,
   "id": "informal-raleigh",
   "metadata": {},
   "outputs": [],
   "source": [
    "class person:\n",
    "    def __init__(self,name):\n",
    "        self.name=name\n",
    "        \n",
    "    def detail(self,age):\n",
    "        return f'name is {self.name} and age is {age}'"
   ]
  },
  {
   "cell_type": "code",
   "execution_count": 36,
   "id": "placed-circumstances",
   "metadata": {},
   "outputs": [],
   "source": [
    "object=person('shivansh jayara')"
   ]
  },
  {
   "cell_type": "code",
   "execution_count": 37,
   "id": "eligible-genius",
   "metadata": {},
   "outputs": [
    {
     "data": {
      "text/plain": [
       "'name is shivansh jayara and age is 29'"
      ]
     },
     "execution_count": 37,
     "metadata": {},
     "output_type": "execute_result"
    }
   ],
   "source": [
    "object.detail(29)"
   ]
  },
  {
   "cell_type": "markdown",
   "id": "medium-model",
   "metadata": {},
   "source": [
    "**5. When should you provide operator overloading?**"
   ]
  },
  {
   "cell_type": "markdown",
   "id": "collectible-tracy",
   "metadata": {},
   "source": [
    "Ans.\n",
    "\n",
    "method use : '_ _ _add__ _'\n",
    "\n",
    "o1=class(1)\n",
    "\n",
    "o2=class(2)\n",
    "\n",
    "o3=class('a')\n",
    "\n",
    "o4=class('b')\n",
    "\n",
    "print(o1+o2)  : 3\n",
    "\n",
    "print(o3+o4)  : ab\n",
    "\n",
    "When we want to get the different result based on data type by performing the similar operaton with the use of a same operator operator on different data type values which a class object stored in it then we use this operator overloading methods and with the use of the respective operator in between the objects of a class we can perform operations between the data. "
   ]
  },
  {
   "cell_type": "code",
   "execution_count": null,
   "id": "computational-keyboard",
   "metadata": {},
   "outputs": [],
   "source": []
  }
 ],
 "metadata": {
  "kernelspec": {
   "display_name": "Python 3",
   "language": "python",
   "name": "python3"
  },
  "language_info": {
   "codemirror_mode": {
    "name": "ipython",
    "version": 3
   },
   "file_extension": ".py",
   "mimetype": "text/x-python",
   "name": "python",
   "nbconvert_exporter": "python",
   "pygments_lexer": "ipython3",
   "version": "3.7.10"
  }
 },
 "nbformat": 4,
 "nbformat_minor": 5
}
