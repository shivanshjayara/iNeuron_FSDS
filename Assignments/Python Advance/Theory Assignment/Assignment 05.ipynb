{
 "cells": [
  {
   "cell_type": "markdown",
   "id": "southern-leadership",
   "metadata": {},
   "source": [
    "**1. What is multiple inheritance?**"
   ]
  },
  {
   "cell_type": "markdown",
   "id": "italic-trial",
   "metadata": {},
   "source": [
    "Ans.\n",
    "\n",
    "Inheritence means one class is deriving data from the single parent class but in case of multiple inheritance, a subclass is derived from more than one parent classes. \n",
    "Suppose A and B are the classes and class C is deriving data from A and B. We can say this is multiple inheritence"
   ]
  },
  {
   "cell_type": "code",
   "execution_count": 2,
   "id": "comparable-buffer",
   "metadata": {},
   "outputs": [],
   "source": [
    "class parent_1:\n",
    "    pass\n",
    "\n",
    "class parent_2:\n",
    "    pass\n",
    "\n",
    "class child(parent_1, parent_2):\n",
    "    pass"
   ]
  },
  {
   "cell_type": "markdown",
   "id": "wound-spider",
   "metadata": {},
   "source": [
    "**2. What is delegation?**"
   ]
  },
  {
   "cell_type": "markdown",
   "id": "stock-cathedral",
   "metadata": {},
   "source": [
    "Ans.\n",
    "\n",
    "Lets say **a** is a object of parent class A and **b** is a object of child class B. Then **b** can use all the variables and methods of parent class A to perform the operations. This is known as delegation. Following is the example of delegation"
   ]
  },
  {
   "cell_type": "code",
   "execution_count": 21,
   "id": "fewer-brooks",
   "metadata": {},
   "outputs": [],
   "source": [
    "class A:\n",
    "    def __init__(self,name,age):\n",
    "        self.name=name\n",
    "        self.age=age\n",
    "        \n",
    "    def f_a(self):\n",
    "        return 'this is class A'\n",
    "        \n",
    "class B(A):\n",
    "    def __init__(self,number,*args):\n",
    "        super(B,self).__init__(*args)\n",
    "        self.number=number"
   ]
  },
  {
   "cell_type": "code",
   "execution_count": 22,
   "id": "fabulous-jefferson",
   "metadata": {},
   "outputs": [],
   "source": [
    "a=A('shivansh',30)\n",
    "b=B(10,'TESHU',25)"
   ]
  },
  {
   "cell_type": "code",
   "execution_count": 23,
   "id": "unlike-morrison",
   "metadata": {},
   "outputs": [
    {
     "data": {
      "text/plain": [
       "'this is class A'"
      ]
     },
     "execution_count": 23,
     "metadata": {},
     "output_type": "execute_result"
    }
   ],
   "source": [
    "a.f_a()"
   ]
  },
  {
   "cell_type": "code",
   "execution_count": 24,
   "id": "artistic-advocate",
   "metadata": {},
   "outputs": [
    {
     "data": {
      "text/plain": [
       "'this is class A'"
      ]
     },
     "execution_count": 24,
     "metadata": {},
     "output_type": "execute_result"
    }
   ],
   "source": [
    "b.f_a()"
   ]
  },
  {
   "cell_type": "markdown",
   "id": "altered-grace",
   "metadata": {},
   "source": [
    "**3. What is composition?**"
   ]
  },
  {
   "cell_type": "markdown",
   "id": "stock-perry",
   "metadata": {},
   "source": [
    "Ans.\n",
    "\n",
    "Suppose there are multiple class say, **class A**, **class B** and **class C** and their respective objects are **a**,**b** and **c**. So when we are going to call the final **class C** and we wanted to utilise the items of the other previous classes **A** and **B** then we use their objects **a** and **b** when we create the final class object **c** by passing **a** and **b** into that."
   ]
  },
  {
   "cell_type": "code",
   "execution_count": 30,
   "id": "raised-cabinet",
   "metadata": {},
   "outputs": [],
   "source": [
    "class A:\n",
    "    def __init__(self):\n",
    "        pass\n",
    "a=A()\n",
    "\n",
    "class B:\n",
    "    def __init__(self):\n",
    "        pass\n",
    "b=B()\n",
    "\n",
    "class C:\n",
    "    def __init__(selfo,bject_a,object_b):\n",
    "        pass\n",
    "c=C(a,b)"
   ]
  },
  {
   "cell_type": "markdown",
   "id": "unlimited-flexibility",
   "metadata": {},
   "source": [
    "**4. What are bound methods?**"
   ]
  },
  {
   "cell_type": "markdown",
   "id": "contained-moscow",
   "metadata": {},
   "source": [
    "Ans.\n",
    "\n",
    "Function whcih is defined insid ethe class and take the instance of a class as its first argument is known as bound function. This is because it bounded by the class. It can only perfrom the operation by using the class object.\n"
   ]
  },
  {
   "cell_type": "code",
   "execution_count": 32,
   "id": "prompt-allen",
   "metadata": {},
   "outputs": [
    {
     "data": {
      "text/plain": [
       "<bound method A.func of <__main__.A object at 0x0000023858ED79C8>>"
      ]
     },
     "execution_count": 32,
     "metadata": {},
     "output_type": "execute_result"
    }
   ],
   "source": [
    "# example of bound method\n",
    "\n",
    "class A:\n",
    "    def __init__(self):\n",
    "        pass\n",
    "\n",
    "    def func(self):\n",
    "        return 'hello world'\n",
    "    \n",
    "obj = A()\n",
    "\n",
    "obj.func\n"
   ]
  },
  {
   "cell_type": "markdown",
   "id": "dressed-miracle",
   "metadata": {},
   "source": [
    "**5. What are pseudoprivate attributes used for?**"
   ]
  },
  {
   "cell_type": "markdown",
   "id": "judicial-clock",
   "metadata": {},
   "source": [
    "Ans.\n",
    "\n",
    "When we create a class and put some attributes inside it, those can be used by us within the class. But it may happen that someone other than us can also be use the same attributes with similar name from outside or inside the class. So in that case there will be change in our program codes. This will change the entire meaning of that code.\n",
    "So in order to make it safe from other users we use double underscore (_ _) as a notation for private attribues or methods So that others cannot use it and if they able to use it then they cannot be able to access it. "
   ]
  },
  {
   "cell_type": "code",
   "execution_count": 51,
   "id": "satellite-africa",
   "metadata": {},
   "outputs": [],
   "source": [
    "class Women:\n",
    " \n",
    "    def __init__(self, name):\n",
    " \n",
    "        self.name = name\n",
    "        self.__age = 18\n",
    " \n",
    "    def __secret(self):\n",
    "        return self.name,self.__age\n",
    " \n",
    " \n",
    "ob = Women (\"shivansh\")\n"
   ]
  },
  {
   "cell_type": "code",
   "execution_count": 52,
   "id": "qualified-scene",
   "metadata": {},
   "outputs": [
    {
     "data": {
      "text/plain": [
       "'shivansh'"
      ]
     },
     "execution_count": 52,
     "metadata": {},
     "output_type": "execute_result"
    }
   ],
   "source": [
    "ob.name"
   ]
  },
  {
   "cell_type": "code",
   "execution_count": 53,
   "id": "grateful-federal",
   "metadata": {},
   "outputs": [
    {
     "data": {
      "text/plain": [
       "18"
      ]
     },
     "execution_count": 53,
     "metadata": {},
     "output_type": "execute_result"
    }
   ],
   "source": [
    "ob._Women__age"
   ]
  },
  {
   "cell_type": "code",
   "execution_count": 54,
   "id": "abstract-stamp",
   "metadata": {},
   "outputs": [
    {
     "data": {
      "text/plain": [
       "('shivansh', 18)"
      ]
     },
     "execution_count": 54,
     "metadata": {},
     "output_type": "execute_result"
    }
   ],
   "source": [
    "ob._Women__secret()"
   ]
  },
  {
   "cell_type": "code",
   "execution_count": null,
   "id": "viral-pound",
   "metadata": {},
   "outputs": [],
   "source": []
  }
 ],
 "metadata": {
  "kernelspec": {
   "display_name": "Python 3",
   "language": "python",
   "name": "python3"
  },
  "language_info": {
   "codemirror_mode": {
    "name": "ipython",
    "version": 3
   },
   "file_extension": ".py",
   "mimetype": "text/x-python",
   "name": "python",
   "nbconvert_exporter": "python",
   "pygments_lexer": "ipython3",
   "version": "3.7.10"
  }
 },
 "nbformat": 4,
 "nbformat_minor": 5
}
