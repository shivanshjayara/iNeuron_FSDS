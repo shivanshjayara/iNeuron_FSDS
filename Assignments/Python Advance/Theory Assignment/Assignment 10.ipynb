{
 "cells": [
  {
   "cell_type": "markdown",
   "id": "floral-uzbekistan",
   "metadata": {},
   "source": [
    "**1. How do _ _ _getattr_ _ _ and _ _ _getattribute_ _ _ differ?**"
   ]
  },
  {
   "cell_type": "markdown",
   "id": "immediate-watts",
   "metadata": {},
   "source": [
    "Ans.\n",
    "\n",
    "**_ _ _getattr_ _ _**: It return the value of attributes which is constructed inside the class and having an class object which store its value. \n",
    "\n",
    "If the attribute is not present inside the class and if default value is provided in the syntax only then it will return that value else it will show attribute error"
   ]
  },
  {
   "cell_type": "code",
   "execution_count": 53,
   "id": "twelve-growing",
   "metadata": {},
   "outputs": [
    {
     "name": "stdout",
     "output_type": "stream",
     "text": [
      "Name is: shivansh\n",
      "Age is: 29\n"
     ]
    }
   ],
   "source": [
    "class Person:\n",
    "    def __init__(self,name):\n",
    "        self.name=name\n",
    "\n",
    "    def __getattr__(self, i):\n",
    "        return 29\n",
    "\n",
    "ob = Person('shivansh')\n",
    "\n",
    "print(f'Name is: {ob.name}')\n",
    "\n",
    "print(f'Age is: {ob.age}')     \n",
    "# 'age' attributes is neither a instance variable nor a class variable but still it is printed because of __getattr__ method"
   ]
  },
  {
   "cell_type": "markdown",
   "id": "necessary-sewing",
   "metadata": {},
   "source": [
    "**_ _ _getattribute_ _ _**: This method will invoked before looking at the actual attributes on the object. Means, if ywe have _ _ _getattribute_ _ _ method in our class, python invokes this method for every attribute regardless whether it exists or not. Lets see the following example."
   ]
  },
  {
   "cell_type": "code",
   "execution_count": 43,
   "id": "express-terrorist",
   "metadata": {},
   "outputs": [
    {
     "name": "stdout",
     "output_type": "stream",
     "text": [
      "29\n",
      "Age is: 29\n"
     ]
    }
   ],
   "source": [
    "class Person:\n",
    "    def __init__(self,name):\n",
    "        self.name=name\n",
    "\n",
    "\n",
    "    def __getattribute__(self, item):\n",
    "        return 29\n",
    "    \n",
    "#     def __getattr__(self, item):\n",
    "#         return 35\n",
    "\n",
    "ob = Person('shivansh')\n",
    "\n",
    "print(ob.name)\n",
    "\n",
    "print(f'Age is: {ob.age}')    \n",
    "\n",
    "# 'age' attributes is neither a instance variable nor a class variable but still it is printed \n",
    "#  because of __getattr__ method"
   ]
  },
  {
   "cell_type": "markdown",
   "id": "variable-accounting",
   "metadata": {},
   "source": [
    "**2. How do properties and descriptors differ?**"
   ]
  },
  {
   "cell_type": "markdown",
   "id": "paperback-roman",
   "metadata": {},
   "source": [
    "Ans\n",
    "\n",
    "**Properties:** We can bind getter, setter and delete functions with an attribute name, using the built-in property function. When we do this, each reference to an attribute looks like simple, direct access, but invokes the appropriate function of the object. \n",
    "\n",
    "\n",
    "**Descriptors:** We can bind getter, setter (and deleter) functions into a separate class. We then assign an object of this class to the attribute name. When we do this, each reference to an attribute looks like simple, direct access, but invokes an appropriate function of the Descriptor object.\n"
   ]
  },
  {
   "cell_type": "markdown",
   "id": "welcome-officer",
   "metadata": {},
   "source": [
    "**3. How are properties and decorators related?**"
   ]
  },
  {
   "cell_type": "markdown",
   "id": "caroline-merit",
   "metadata": {},
   "source": [
    "Ans.\n",
    "\n",
    "**Descriptors** are a low-level mechanism that lets you hook into an object's attributes being accessed. **Properties** are a high-level application of this; that is, properties are implemented using descriptors.\n",
    "\n",
    "The property function gives us a handy way to implement a simple descriptor without defining a separate class. Rather than create a complete class definition, we can write getter and setter method functions, and then bind these functions to an attribute name."
   ]
  },
  {
   "cell_type": "markdown",
   "id": "experimental-salad",
   "metadata": {},
   "source": [
    "**4. What are the main functional differences between __getattr__ and __getattribute__ and properties and descriptors?**"
   ]
  },
  {
   "cell_type": "markdown",
   "id": "developmental-blade",
   "metadata": {},
   "source": [
    "Ans.\n",
    "\n",
    "**_ _ _getattr_ _ _**: It return the value of attributes which is constructed inside the class and having an class object which store its value. \n",
    "\n",
    "If the attribute is not present inside the class and if default value is provided in the syntax only then it will return that value else it will show attribute error\n",
    "\n",
    "**_ _ getattribute _ _:** This method will invoked before looking at the actual attributes on the object. Means, if ywe have _ _ getattribute _ _ method in our class, python invokes this method for every attribute regardless whether it exists or not."
   ]
  },
  {
   "cell_type": "markdown",
   "id": "bigger-straight",
   "metadata": {},
   "source": [
    "**Properties:** We can bind getter, setter and delete functions **with an attribute name, using the built-in property function.** When we do this, each reference to an attribute looks like simple, direct access, but invokes the appropriate function of the object.\n",
    "\n",
    "**Descriptors:** We can bind getter, setter (and deleter) functions **into a separate class. We then assign an object of this class to the attribute name.** When we do this, each reference to an attribute looks like simple, direct access, but invokes an appropriate function of the Descriptor object."
   ]
  },
  {
   "cell_type": "code",
   "execution_count": null,
   "id": "marine-creek",
   "metadata": {},
   "outputs": [],
   "source": []
  }
 ],
 "metadata": {
  "kernelspec": {
   "display_name": "Python 3",
   "language": "python",
   "name": "python3"
  },
  "language_info": {
   "codemirror_mode": {
    "name": "ipython",
    "version": 3
   },
   "file_extension": ".py",
   "mimetype": "text/x-python",
   "name": "python",
   "nbconvert_exporter": "python",
   "pygments_lexer": "ipython3",
   "version": "3.7.10"
  }
 },
 "nbformat": 4,
 "nbformat_minor": 5
}
