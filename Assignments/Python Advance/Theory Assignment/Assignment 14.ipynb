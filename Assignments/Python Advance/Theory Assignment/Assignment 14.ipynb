{
 "cells": [
  {
   "cell_type": "markdown",
   "id": "statutory-packet",
   "metadata": {},
   "source": [
    "**1. Is an assignment operator such as += only a convenience? Can it actually result in faster performance at run time?**"
   ]
  },
  {
   "cell_type": "markdown",
   "id": "single-synthetic",
   "metadata": {},
   "source": [
    "Ans.\n",
    "\n",
    "**+=** adds a number/string to a variable, changing the variable itself in the process. Meaning, ( += ) adds the value of the right operand to a variable and assigns the result to the variable. \n",
    "\n",
    "Not really it result in faster performance because it take lesser time to operate and we dont require a new"
   ]
  },
  {
   "cell_type": "markdown",
   "id": "possible-possession",
   "metadata": {},
   "source": [
    "**2. In most computer languages, what is the minimum number of statements you’d need to write instead of the Python statement a, b = a + b, a?**"
   ]
  },
  {
   "cell_type": "markdown",
   "id": "automotive-second",
   "metadata": {},
   "source": [
    "Ans. In java it takes minimum 2 number of statement"
   ]
  },
  {
   "cell_type": "markdown",
   "id": "growing-attitude",
   "metadata": {},
   "source": [
    "**3. What’s the most efficient way to initialize a list of 100 integers to 0 in Python?**"
   ]
  },
  {
   "cell_type": "markdown",
   "id": "integrated-chuck",
   "metadata": {},
   "source": [
    "Ans. By using list comprehension in reverse order"
   ]
  },
  {
   "cell_type": "code",
   "execution_count": 5,
   "id": "destroyed-victim",
   "metadata": {},
   "outputs": [
    {
     "name": "stdout",
     "output_type": "stream",
     "text": [
      "[100, 99, 98, 97, 96, 95, 94, 93, 92, 91, 90, 89, 88, 87, 86, 85, 84, 83, 82, 81, 80, 79, 78, 77, 76, 75, 74, 73, 72, 71, 70, 69, 68, 67, 66, 65, 64, 63, 62, 61, 60, 59, 58, 57, 56, 55, 54, 53, 52, 51, 50, 49, 48, 47, 46, 45, 44, 43, 42, 41, 40, 39, 38, 37, 36, 35, 34, 33, 32, 31, 30, 29, 28, 27, 26, 25, 24, 23, 22, 21, 20, 19, 18, 17, 16, 15, 14, 13, 12, 11, 10, 9, 8, 7, 6, 5, 4, 3, 2, 1, 0]\n"
     ]
    }
   ],
   "source": [
    "l=[i for i in range(100,-1,-1)]\n",
    "print(l)"
   ]
  },
  {
   "cell_type": "markdown",
   "id": "independent-decrease",
   "metadata": {},
   "source": [
    "**4. What’s the most efficient way of initializing a list of 99 integers with the pattern 1, 2, 3 repeated? Show precisely how to do that, if possible.**"
   ]
  },
  {
   "cell_type": "code",
   "execution_count": 5,
   "id": "chicken-layout",
   "metadata": {},
   "outputs": [
    {
     "name": "stdout",
     "output_type": "stream",
     "text": [
      "[1, 2, 3, 1, 2, 3, 1, 2, 3, 1, 2, 3, 1, 2, 3, 1, 2, 3, 1, 2, 3, 1, 2, 3, 1, 2, 3, 1, 2, 3, 1, 2, 3, 1, 2, 3, 1, 2, 3, 1, 2, 3, 1, 2, 3, 1, 2, 3, 1, 2, 3, 1, 2, 3, 1, 2, 3, 1, 2, 3, 1, 2, 3, 1, 2, 3, 1, 2, 3, 1, 2, 3, 1, 2, 3, 1, 2, 3, 1, 2, 3, 1, 2, 3, 1, 2, 3, 1, 2, 3, 1, 2, 3, 1, 2, 3, 1, 2, 3] \n",
      "\n",
      "Number of integers ares: 99\n"
     ]
    }
   ],
   "source": [
    "l=[i for i in range(1,4)]\n",
    "l2=[]\n",
    "for i in range(33):\n",
    "    \n",
    "    l2.extend(l)\n",
    "    \n",
    "print(l2,'\\n')\n",
    "print(f'Number of integers ares: {len(l2)}')"
   ]
  },
  {
   "cell_type": "markdown",
   "id": "sitting-darwin",
   "metadata": {},
   "source": [
    "**5. If you’re running a Python program from within IDLE, describe how to most efficiently print a multidimensional list.**"
   ]
  },
  {
   "cell_type": "markdown",
   "id": "practical-index",
   "metadata": {},
   "source": [
    "Ans.\n",
    "\n",
    "It is very simple procedure. We first need a variable and assign it a multidimensional list.\n",
    "\n"
   ]
  },
  {
   "cell_type": "code",
   "execution_count": 13,
   "id": "respective-investment",
   "metadata": {},
   "outputs": [
    {
     "name": "stdout",
     "output_type": "stream",
     "text": [
      "[[2, 4, 6, 8, 10], [3, 6, 9, 12, 15], [4, 8, 12, 16, 20]]\n"
     ]
    }
   ],
   "source": [
    "a = [[2, 4, 6, 8, 10], [3, 6, 9, 12, 15], [4, 8, 12, 16, 20]]\n",
    "print(a)\n"
   ]
  },
  {
   "cell_type": "markdown",
   "id": "saved-tribune",
   "metadata": {},
   "source": [
    "**6. Can you use list comprehension on a string? If so, how?**"
   ]
  },
  {
   "cell_type": "code",
   "execution_count": 14,
   "id": "elder-friday",
   "metadata": {},
   "outputs": [
    {
     "name": "stdout",
     "output_type": "stream",
     "text": [
      "['s', 'h', 'i', 'v', 'a', 'n', 's', 'h']\n"
     ]
    }
   ],
   "source": [
    "l=[i for i in 'shivansh']\n",
    "print(l)"
   ]
  },
  {
   "cell_type": "markdown",
   "id": "vocal-factor",
   "metadata": {},
   "source": [
    "**7. How can you get help on a user-written Python program from the command line? From within IDLE?**"
   ]
  },
  {
   "cell_type": "code",
   "execution_count": 16,
   "id": "verbal-parish",
   "metadata": {},
   "outputs": [
    {
     "name": "stdout",
     "output_type": "stream",
     "text": [
      "Help on built-in function print in module builtins:\n",
      "\n",
      "print(...)\n",
      "    print(value, ..., sep=' ', end='\\n', file=sys.stdout, flush=False)\n",
      "    \n",
      "    Prints the values to a stream, or to sys.stdout by default.\n",
      "    Optional keyword arguments:\n",
      "    file:  a file-like object (stream); defaults to the current sys.stdout.\n",
      "    sep:   string inserted between values, default a space.\n",
      "    end:   string appended after the last value, default a newline.\n",
      "    flush: whether to forcibly flush the stream.\n",
      "\n"
     ]
    }
   ],
   "source": [
    "# Ans. We will use help method in that case. Example is as folowed\n",
    "\n",
    "help(print)"
   ]
  },
  {
   "cell_type": "markdown",
   "id": "daily-education",
   "metadata": {},
   "source": [
    "**8. Functions are said to be “first-class objects” in Python but not in most other languages, such as C++ or Java. What is something you can do with a Python function (callable object) that you cannot do in C or C++?**"
   ]
  },
  {
   "cell_type": "markdown",
   "id": "compliant-catch",
   "metadata": {},
   "source": [
    "Ans.\n",
    "\n",
    "In python there is a beautiful things which we can do with the function. It is called first class function because of the following reasons:\n",
    "    \n",
    "1) It can be use as an argument\n",
    "    \n",
    "2) It can be use in return by some other function\n",
    "\n",
    "3) It can be act as variable and we can assign some value to it"
   ]
  },
  {
   "cell_type": "markdown",
   "id": "enclosed-highland",
   "metadata": {},
   "source": [
    "**9. What’s the difference between a wrapper, a wrapped function, and a decorator?**"
   ]
  },
  {
   "cell_type": "markdown",
   "id": "flexible-symbol",
   "metadata": {},
   "source": [
    "Ans.\n",
    "\n",
    "**Wrappers**: It also refers to decorators. It allows programmers to modify the behavior of function or class.\n",
    "\n",
    "**Wrapper Function**: Wrapper functions can be used as an interface to adapt to the existing codes, so as to save from modifying the codes back and forth. It helps in allowing some codes to run repeadtedly. \n",
    "\n",
    "**Decorators**: It allows to wrap another function in order to extend the behavior of the wrapped function, without permanently modifying it.\n"
   ]
  },
  {
   "cell_type": "markdown",
   "id": "theoretical-details",
   "metadata": {},
   "source": [
    "**10. When a function is a generator function, what does it return, if anything?**"
   ]
  },
  {
   "cell_type": "markdown",
   "id": "frozen-cambodia",
   "metadata": {},
   "source": [
    "Ans.\n",
    "\n",
    "Generator function is a kind of a iterable function which knows that what i have generated the last time and what it will give me the next time. Using return or print statement we can simply get every element which we have iterated upon immediately at once. But what if we want that we get the elemenet one by one as per our requrement. Here generator comes.\n",
    "\n",
    "We can also say that Generator is something which help in creating iterator sort of thing.\n",
    "We use **yield** keyword in place of **return** when we are dealing with generators.\n",
    "With the help of generator only it is not necessary to create an itertor from an iterables. We can make any thing an itertaor object.\n",
    "\n",
    "It do not stores all the items at once. Whatever the value we need, it catches and throw it out. Means whenever we need a next value to print we just call a next function over its object and it will give that value."
   ]
  },
  {
   "cell_type": "markdown",
   "id": "interim-leonard",
   "metadata": {},
   "source": [
    "**11. From the standpoint of the Python language, what is the one change that needs to be made to a function to turn it into a generator function?**"
   ]
  },
  {
   "cell_type": "markdown",
   "id": "irish-brick",
   "metadata": {},
   "source": [
    "Ans.\n",
    "\n",
    "Just replace **return** with **yield**"
   ]
  },
  {
   "cell_type": "code",
   "execution_count": 17,
   "id": "protected-affiliation",
   "metadata": {},
   "outputs": [],
   "source": [
    "def gen():\n",
    "    for i in range(10):\n",
    "        yield i"
   ]
  },
  {
   "cell_type": "code",
   "execution_count": 23,
   "id": "offshore-benefit",
   "metadata": {},
   "outputs": [],
   "source": [
    "a=iter(gen())"
   ]
  },
  {
   "cell_type": "code",
   "execution_count": 24,
   "id": "removable-poverty",
   "metadata": {},
   "outputs": [
    {
     "data": {
      "text/plain": [
       "<generator object gen at 0x000001E36938A6C8>"
      ]
     },
     "execution_count": 24,
     "metadata": {},
     "output_type": "execute_result"
    }
   ],
   "source": [
    "a"
   ]
  },
  {
   "cell_type": "code",
   "execution_count": 20,
   "id": "under-science",
   "metadata": {},
   "outputs": [
    {
     "data": {
      "text/plain": [
       "0"
      ]
     },
     "execution_count": 20,
     "metadata": {},
     "output_type": "execute_result"
    }
   ],
   "source": [
    "next(a)"
   ]
  },
  {
   "cell_type": "code",
   "execution_count": 21,
   "id": "wound-scratch",
   "metadata": {},
   "outputs": [
    {
     "data": {
      "text/plain": [
       "1"
      ]
     },
     "execution_count": 21,
     "metadata": {},
     "output_type": "execute_result"
    }
   ],
   "source": [
    "next(a)"
   ]
  },
  {
   "cell_type": "code",
   "execution_count": 22,
   "id": "polish-journalist",
   "metadata": {},
   "outputs": [
    {
     "name": "stdout",
     "output_type": "stream",
     "text": [
      "2\n",
      "3\n",
      "4\n",
      "5\n",
      "6\n",
      "7\n",
      "8\n",
      "9\n"
     ]
    }
   ],
   "source": [
    "for i in a:\n",
    "    print(i)"
   ]
  },
  {
   "cell_type": "markdown",
   "id": "smooth-closer",
   "metadata": {},
   "source": [
    "**12. Name at least one advantage of generators.**"
   ]
  },
  {
   "cell_type": "markdown",
   "id": "regulated-surname",
   "metadata": {},
   "source": [
    "Ans\n",
    "\n",
    "It helps in creating an iterator which do not store all the items at once. This saves the memory and also system do not get hang.\n",
    "\n",
    "It takes the value one by one when we required and throw it out one by one by using **next** function when and only we required. It doesnot give the whole items at onces. It onlt gives when it is needed."
   ]
  },
  {
   "cell_type": "code",
   "execution_count": null,
   "id": "concerned-veteran",
   "metadata": {},
   "outputs": [],
   "source": []
  }
 ],
 "metadata": {
  "kernelspec": {
   "display_name": "Python 3",
   "language": "python",
   "name": "python3"
  },
  "language_info": {
   "codemirror_mode": {
    "name": "ipython",
    "version": 3
   },
   "file_extension": ".py",
   "mimetype": "text/x-python",
   "name": "python",
   "nbconvert_exporter": "python",
   "pygments_lexer": "ipython3",
   "version": "3.7.9"
  }
 },
 "nbformat": 4,
 "nbformat_minor": 5
}
