{
 "cells": [
  {
   "cell_type": "markdown",
   "id": "accomplished-probe",
   "metadata": {},
   "source": [
    "**1. What is the main point of OOP in Python?**"
   ]
  },
  {
   "cell_type": "markdown",
   "id": "enclosed-ethernet",
   "metadata": {},
   "source": [
    "Ans.\n",
    "The main aim of OOP is to bind together the data and the functions that operate on them so that no other part of the code can access this data except that function"
   ]
  },
  {
   "cell_type": "markdown",
   "id": "attempted-zealand",
   "metadata": {},
   "source": [
    "**2. Where does an inheritance search look for an attribute?**"
   ]
  },
  {
   "cell_type": "markdown",
   "id": "technical-definition",
   "metadata": {},
   "source": [
    "**3. What is the difference between a class object and an instance object?**"
   ]
  },
  {
   "cell_type": "markdown",
   "id": "floral-vienna",
   "metadata": {},
   "source": [
    "**4. Why is the first argument in a class’s method function special?**"
   ]
  },
  {
   "cell_type": "markdown",
   "id": "centered-account",
   "metadata": {},
   "source": [
    "**5. What is the __init__ method used for?**"
   ]
  },
  {
   "cell_type": "markdown",
   "id": "modern-compromise",
   "metadata": {},
   "source": [
    "**6. How do you create a class instance?**"
   ]
  },
  {
   "cell_type": "markdown",
   "id": "crazy-television",
   "metadata": {},
   "source": [
    "**7. How do you create a class?**"
   ]
  },
  {
   "cell_type": "markdown",
   "id": "funny-mapping",
   "metadata": {},
   "source": [
    "**8. How do you specify a class’s superclasses?**"
   ]
  },
  {
   "cell_type": "code",
   "execution_count": null,
   "id": "affected-logic",
   "metadata": {},
   "outputs": [],
   "source": []
  }
 ],
 "metadata": {
  "kernelspec": {
   "display_name": "Python 3",
   "language": "python",
   "name": "python3"
  },
  "language_info": {
   "codemirror_mode": {
    "name": "ipython",
    "version": 3
   },
   "file_extension": ".py",
   "mimetype": "text/x-python",
   "name": "python",
   "nbconvert_exporter": "python",
   "pygments_lexer": "ipython3",
   "version": "3.7.10"
  }
 },
 "nbformat": 4,
 "nbformat_minor": 5
}
