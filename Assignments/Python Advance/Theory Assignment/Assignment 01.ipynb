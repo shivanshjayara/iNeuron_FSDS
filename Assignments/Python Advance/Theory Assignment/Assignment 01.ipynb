{
 "cells": [
  {
   "cell_type": "markdown",
   "id": "accomplished-probe",
   "metadata": {},
   "source": [
    "**1. What is the main point of OOP in Python?**"
   ]
  },
  {
   "cell_type": "markdown",
   "id": "enclosed-ethernet",
   "metadata": {},
   "source": [
    "Ans.\n",
    "The main aim of OOP is to bind together the data and the functions that operate on them so that no other part of the code can access this data except for the functions which are within the class.\n",
    "\n",
    "Another reason we may say is, increasing the implementation,modularbility, using encapsulation technqiues, etc."
   ]
  },
  {
   "cell_type": "markdown",
   "id": "attempted-zealand",
   "metadata": {},
   "source": [
    "**2. Where does an inheritance search look for an attribute?**"
   ]
  },
  {
   "cell_type": "markdown",
   "id": "running-technical",
   "metadata": {},
   "source": [
    "Ans. On using inheritence concept, the object of the child class will search all the properties of the parent class and inherit all those "
   ]
  },
  {
   "cell_type": "markdown",
   "id": "technical-definition",
   "metadata": {},
   "source": [
    "**3. What is the difference between a class object and an instance object?**"
   ]
  },
  {
   "cell_type": "markdown",
   "id": "proved-telling",
   "metadata": {},
   "source": [
    "Ans. Actually both are same somehow. \n",
    "The object is something which we can feel or it is real world entity but Instance is a virtual copy of an object. We cannot see it.\n",
    "In programming terms, when we define a class and assign some variable like 'obj_name=class_name()', this will create an instance of a class which is refering to the class actually.\n",
    "And if we create a variable like 'var_name=10', here 'var_name' is a object for integer 10.\n",
    "So 'instance' is nothing but something which represents the class and a virtual copy of an object"
   ]
  },
  {
   "cell_type": "markdown",
   "id": "floral-vienna",
   "metadata": {},
   "source": [
    "**4. Why is the first argument in a class’s method function special?**"
   ]
  },
  {
   "cell_type": "markdown",
   "id": "editorial-acoustic",
   "metadata": {},
   "source": [
    "Ans. First arguement of a class methos is always an instance of a class. It means it is an instance of a class which is pointing to itself saying that this fucntion is belong to this instance of this particular class.\n"
   ]
  },
  {
   "cell_type": "markdown",
   "id": "centered-account",
   "metadata": {},
   "source": [
    "**5. What is the __init__ method used for?**"
   ]
  },
  {
   "cell_type": "markdown",
   "id": "secondary-zoning",
   "metadata": {},
   "source": [
    "Ans. 'init' method is also refer to as contructor function. Because all the data refering to the instance of particular class gets initialize under this function with the values which are given when class object/instance is created."
   ]
  },
  {
   "cell_type": "markdown",
   "id": "modern-compromise",
   "metadata": {},
   "source": [
    "\n",
    "**6. How do you create a class instance?**"
   ]
  },
  {
   "cell_type": "markdown",
   "id": "cubic-drama",
   "metadata": {},
   "source": [
    "Ans. It is very simple.\n",
    "\n",
    "class human:\n",
    "    pass\n",
    "\n",
    "class_instance=human()     #here we have created the class instance"
   ]
  },
  {
   "cell_type": "markdown",
   "id": "crazy-television",
   "metadata": {},
   "source": [
    "**7. How do you create a class?**"
   ]
  },
  {
   "cell_type": "markdown",
   "id": "reduced-hybrid",
   "metadata": {},
   "source": [
    "Ans.\n",
    "\n",
    "By using 'class' key word we can create a class. \n",
    "\n",
    "class human:\n",
    " \n",
    "     pass"
   ]
  },
  {
   "cell_type": "markdown",
   "id": "funny-mapping",
   "metadata": {},
   "source": [
    "**8. How do you specify a class’s superclasses?**"
   ]
  },
  {
   "cell_type": "markdown",
   "id": "planned-sunglasses",
   "metadata": {},
   "source": [
    "Ans. A superclass is a class from where the child class derived the data or we can say inherit the data. It uses the function called super()\n",
    "\n",
    "    Parent class- Person\n",
    "\n",
    "    Child class- Student\n",
    "    \n",
    "    class student(person):\n",
    "    \n",
    "        def __init__(self,variable_of_child_class, *args):   \n",
    "        \n",
    "        super(student,self).__init__(*args)                 \n",
    "        \n",
    "        self.var1=variable_of_child_class   "
   ]
  },
  {
   "cell_type": "code",
   "execution_count": null,
   "id": "noticed-petite",
   "metadata": {},
   "outputs": [],
   "source": []
  }
 ],
 "metadata": {
  "kernelspec": {
   "display_name": "Python 3",
   "language": "python",
   "name": "python3"
  },
  "language_info": {
   "codemirror_mode": {
    "name": "ipython",
    "version": 3
   },
   "file_extension": ".py",
   "mimetype": "text/x-python",
   "name": "python",
   "nbconvert_exporter": "python",
   "pygments_lexer": "ipython3",
   "version": "3.7.10"
  }
 },
 "nbformat": 4,
 "nbformat_minor": 5
}
