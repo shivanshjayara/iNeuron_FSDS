{
 "cells": [
  {
   "cell_type": "code",
   "execution_count": 1,
   "id": "starting-onion",
   "metadata": {},
   "outputs": [],
   "source": [
    "import numpy as np"
   ]
  },
  {
   "cell_type": "code",
   "execution_count": 16,
   "id": "attended-elimination",
   "metadata": {},
   "outputs": [
    {
     "data": {
      "text/plain": [
       "array([10, 11, 12, 13, 14])"
      ]
     },
     "execution_count": 16,
     "metadata": {},
     "output_type": "execute_result"
    }
   ],
   "source": [
    "ar=np.arange(10,15)\n",
    "ar"
   ]
  },
  {
   "cell_type": "code",
   "execution_count": 18,
   "id": "motivated-primary",
   "metadata": {},
   "outputs": [
    {
     "data": {
      "text/plain": [
       "array([[0., 0., 0., 0., 0.],\n",
       "       [0., 0., 0., 0., 0.]])"
      ]
     },
     "execution_count": 18,
     "metadata": {},
     "output_type": "execute_result"
    }
   ],
   "source": [
    "np.zeros(10).reshape(2,5)"
   ]
  },
  {
   "cell_type": "markdown",
   "id": "dimensional-aquarium",
   "metadata": {},
   "source": [
    "**1. What are the advantages, if any, of the built-in array package?**"
   ]
  },
  {
   "cell_type": "markdown",
   "id": "invisible-saudi",
   "metadata": {},
   "source": [
    "Ans.\n",
    "\n",
    "* Arrays represent multiple data items of the same type using a single name.\n",
    "* In arrays, the elements can be accessed randomly by using the index number.\n",
    "* Arrays allocate memory in contiguous memory locations for all its elements. Hence there is no chance of extra memory being allocated in case of arrays. This avoids memory overflow or shortage of memory in arrays.\n",
    "\n",
    "\n",
    "\n",
    "\n",
    "\n",
    "\n",
    "\n",
    "\n",
    "\n",
    "\n",
    "\n"
   ]
  },
  {
   "cell_type": "markdown",
   "id": "earned-consortium",
   "metadata": {},
   "source": [
    "**2. What are some limitations of the array package?**\n",
    "\n"
   ]
  },
  {
   "cell_type": "markdown",
   "id": "least-bulletin",
   "metadata": {},
   "source": [
    "Ans\n",
    "\n",
    "* The number of elements to be stored in an array should be known in advance.\n",
    "\n",
    "* An array is a static structure (which means the array is of fixed size). Once declared the size of the array cannot be modified. The memory which is allocated to it cannot be increased or decreased.\n",
    "\n",
    "* Insertion and deletion are quite difficult in an array as the elements are stored in consecutive memory locations and the shifting operation is costly.\n",
    "\n",
    "* Allocating more memory than the requirement leads to wastage of memory space and less allocation of memory also leads to a problem."
   ]
  },
  {
   "cell_type": "markdown",
   "id": "radio-privacy",
   "metadata": {},
   "source": [
    "**3. State some major differences between the array package and numpy.**\n",
    "\n"
   ]
  },
  {
   "cell_type": "markdown",
   "id": "precious-bruce",
   "metadata": {},
   "source": [
    "Ans.\n",
    "\n",
    "* The array package doesn't provide any help with numerical calculation with the items insdie it in number form while NumPy give you a wide variety of numerical operations \n",
    "\n",
    "* An array is a single dimensional entity which hold the numerical data, while numpy can have more than 1 dimension.\n",
    "\n",
    "* In case of array, item can be accessed by its index position and it is easy task while in numpy item is accessed by its column and row index, which makes it slightly time taking. Same goes with appending operation.\n",
    "\n",
    "* In case of array we do not form a tabular structure, while in numpy it forms a tabular structure"
   ]
  },
  {
   "cell_type": "markdown",
   "id": "alpine-alabama",
   "metadata": {},
   "source": [
    "**4. Describe the differences between the empty, ones, and zeros functions.**\n"
   ]
  },
  {
   "cell_type": "markdown",
   "id": "arctic-interference",
   "metadata": {},
   "source": [
    "Ans.\n",
    "\n",
    "**empty function**: An empty function is a function that does not contain any statement within its body. \n",
    "                    If you try to write a function definition without any statement in python ,it will return an error. To avoid this, we use **pass** statement.  pass is a special statement in Python that does nothing. It only works as a dummy statement\n",
    "    \n",
    "**ones**: This function returns a new array of given shape and data type, where the element’s value is 1.\n",
    "\n",
    "**zeros**: This function returns a new array of given shape and data type, where the element’s value is 0\n"
   ]
  },
  {
   "cell_type": "markdown",
   "id": "likely-license",
   "metadata": {},
   "source": [
    "\n",
    "**5. What is the role of the callable argument in the fromfunction function used to create new arrays?**\n",
    "\n"
   ]
  },
  {
   "cell_type": "markdown",
   "id": "banner-vulnerability",
   "metadata": {},
   "source": [
    "Ans.\n",
    "\n",
    "Its function is to execute the function over each coordinate and the resulting array. The function is called with N parameters, where N is the rank of shape. Each parameter represents the coordinates of the array varying along a specific axis."
   ]
  },
  {
   "cell_type": "markdown",
   "id": "african-shanghai",
   "metadata": {},
   "source": [
    "**6. What happens when a numpy array is combined with a single-value operand (a scalar, such as an int or a floating-point value) through addition, as in the expression A + n?**\n",
    "\n"
   ]
  },
  {
   "cell_type": "markdown",
   "id": "canadian-fiction",
   "metadata": {},
   "source": [
    "Ans.\n",
    "\n",
    "If any scaler value such as integer is added to the numpy array then all the elements inside the array will add that value in it.\n",
    "\n",
    "Example"
   ]
  },
  {
   "cell_type": "code",
   "execution_count": 22,
   "id": "united-lancaster",
   "metadata": {},
   "outputs": [
    {
     "name": "stdout",
     "output_type": "stream",
     "text": [
      "[[0 1 2]\n",
      " [3 4 5]\n",
      " [6 7 8]]\n",
      "\n",
      "[[1 2 3]\n",
      " [4 5 6]\n",
      " [7 8 9]]\n"
     ]
    }
   ],
   "source": [
    "import numpy as np\n",
    "\n",
    "a=np.arange(9).reshape(3,3)\n",
    "print(a)\n",
    "print()\n",
    "print(a+1)"
   ]
  },
  {
   "cell_type": "markdown",
   "id": "hydraulic-venture",
   "metadata": {},
   "source": [
    "**7. Can combined operation-assign operators (such as += or *=) be used in array-to-scalar operation? What is the effect?**\n",
    "\n"
   ]
  },
  {
   "cell_type": "markdown",
   "id": "fitting-practitioner",
   "metadata": {},
   "source": [
    "Ans.\n",
    "\n",
    "It will do the operation as per operators. Like if we use **+** operand it will update the current array by adding and when we use **'*'**, it will update by multiplying.\n",
    "\n",
    "Example"
   ]
  },
  {
   "cell_type": "code",
   "execution_count": 24,
   "id": "large-liechtenstein",
   "metadata": {},
   "outputs": [
    {
     "name": "stdout",
     "output_type": "stream",
     "text": [
      "[[0 1 2]\n",
      " [3 4 5]\n",
      " [6 7 8]]\n"
     ]
    }
   ],
   "source": [
    "print(a)"
   ]
  },
  {
   "cell_type": "code",
   "execution_count": 26,
   "id": "handled-vintage",
   "metadata": {},
   "outputs": [],
   "source": [
    "a+=1"
   ]
  },
  {
   "cell_type": "code",
   "execution_count": 27,
   "id": "applicable-antibody",
   "metadata": {},
   "outputs": [
    {
     "name": "stdout",
     "output_type": "stream",
     "text": [
      "[[1 2 3]\n",
      " [4 5 6]\n",
      " [7 8 9]]\n"
     ]
    }
   ],
   "source": [
    "print(a)"
   ]
  },
  {
   "cell_type": "code",
   "execution_count": 28,
   "id": "optimum-headline",
   "metadata": {},
   "outputs": [],
   "source": [
    "a*=2"
   ]
  },
  {
   "cell_type": "code",
   "execution_count": 29,
   "id": "fluid-pipeline",
   "metadata": {},
   "outputs": [
    {
     "name": "stdout",
     "output_type": "stream",
     "text": [
      "[[ 2  4  6]\n",
      " [ 8 10 12]\n",
      " [14 16 18]]\n"
     ]
    }
   ],
   "source": [
    "print(a)"
   ]
  },
  {
   "cell_type": "markdown",
   "id": "legendary-zambia",
   "metadata": {},
   "source": [
    "**8. Can fixed-length strings be included in a numpy array? What happens when a string of longer length is assigned to such an array?**\n",
    "\n"
   ]
  },
  {
   "cell_type": "markdown",
   "id": "threatened-commander",
   "metadata": {},
   "source": [
    "Ans,\n",
    "\n",
    "Yes it is possible that we can include a string of fixed length in numpy array. The dtype of any numpy array containing string values is the maximum length of any string present in the array. \n",
    "\n",
    "Once set, it will only be able to store new string having length not more than the maximum length at the time of the creation. If we try to reassign some another string value having length greater than the maximum length of the existing elements, it simply discards all the values beyond the maximum length accept upto those values which are under the limit"
   ]
  },
  {
   "cell_type": "code",
   "execution_count": 64,
   "id": "judicial-wright",
   "metadata": {},
   "outputs": [
    {
     "data": {
      "text/plain": [
       "array(['ram', 'mohan', 'shiva'], dtype='<U5')"
      ]
     },
     "execution_count": 64,
     "metadata": {},
     "output_type": "execute_result"
    }
   ],
   "source": [
    "import numpy as np\n",
    "\n",
    "name = np.array(['ram', 'mohan', 'shiva'])\n",
    "\n",
    "name"
   ]
  },
  {
   "cell_type": "code",
   "execution_count": 40,
   "id": "immediate-campbell",
   "metadata": {},
   "outputs": [],
   "source": [
    "name[name=='ram']='undertaker'"
   ]
  },
  {
   "cell_type": "code",
   "execution_count": 42,
   "id": "personalized-international",
   "metadata": {},
   "outputs": [
    {
     "name": "stdout",
     "output_type": "stream",
     "text": [
      "['under' 'mohan' 'shiva']\n"
     ]
    }
   ],
   "source": [
    "print(name) #not gone beyond maximum length 5"
   ]
  },
  {
   "cell_type": "markdown",
   "id": "opened-fifteen",
   "metadata": {},
   "source": [
    "**9. What happens when two numpy arrays are combined through an operation such as addition (+) or multiplication (*)? What requirements must be met to combine two numpy arrays?**\n",
    "\n"
   ]
  },
  {
   "cell_type": "markdown",
   "id": "japanese-opinion",
   "metadata": {},
   "source": [
    "Ans.\n",
    "\n",
    "It will simply add or multiply element to element at same position. \n",
    "\n",
    "The only requirement which must be met are:\n",
    "\n",
    "    * Data type should be same\n",
    "    * Shape of the two matrices must be same\n",
    "\n",
    "    \n",
    "    Example is given below"
   ]
  },
  {
   "cell_type": "code",
   "execution_count": 65,
   "id": "overhead-martial",
   "metadata": {},
   "outputs": [
    {
     "data": {
      "text/plain": [
       "array([[ 2,  4,  6],\n",
       "       [ 8, 10, 12],\n",
       "       [14, 16, 18]])"
      ]
     },
     "execution_count": 65,
     "metadata": {},
     "output_type": "execute_result"
    }
   ],
   "source": [
    "a1=a\n",
    "a1"
   ]
  },
  {
   "cell_type": "code",
   "execution_count": 59,
   "id": "considered-closing",
   "metadata": {},
   "outputs": [
    {
     "data": {
      "text/plain": [
       "array([[ 4,  6,  8],\n",
       "       [10, 12, 14],\n",
       "       [16, 18, 20]])"
      ]
     },
     "execution_count": 59,
     "metadata": {},
     "output_type": "execute_result"
    }
   ],
   "source": [
    "a2=a+2\n",
    "a2"
   ]
  },
  {
   "cell_type": "code",
   "execution_count": 66,
   "id": "close-hudson",
   "metadata": {},
   "outputs": [
    {
     "data": {
      "text/plain": [
       "array([[ 6, 10, 14],\n",
       "       [18, 22, 26],\n",
       "       [30, 34, 38]])"
      ]
     },
     "execution_count": 66,
     "metadata": {},
     "output_type": "execute_result"
    }
   ],
   "source": [
    "a1+a2"
   ]
  },
  {
   "cell_type": "code",
   "execution_count": 67,
   "id": "compound-quilt",
   "metadata": {},
   "outputs": [
    {
     "data": {
      "text/plain": [
       "array([[  8,  24,  48],\n",
       "       [ 80, 120, 168],\n",
       "       [224, 288, 360]])"
      ]
     },
     "execution_count": 67,
     "metadata": {},
     "output_type": "execute_result"
    }
   ],
   "source": [
    "a1*a2"
   ]
  },
  {
   "cell_type": "code",
   "execution_count": 68,
   "id": "material-population",
   "metadata": {},
   "outputs": [
    {
     "ename": "ValueError",
     "evalue": "operands could not be broadcast together with shapes (3,3) (9,1) ",
     "output_type": "error",
     "traceback": [
      "\u001b[1;31m---------------------------------------------------------------------------\u001b[0m",
      "\u001b[1;31mValueError\u001b[0m                                Traceback (most recent call last)",
      "\u001b[1;32m<ipython-input-68-f24d236b5a9f>\u001b[0m in \u001b[0;36m<module>\u001b[1;34m\u001b[0m\n\u001b[1;32m----> 1\u001b[1;33m \u001b[0ma1\u001b[0m\u001b[1;33m+\u001b[0m\u001b[0ma2\u001b[0m\u001b[1;33m.\u001b[0m\u001b[0mreshape\u001b[0m\u001b[1;33m(\u001b[0m\u001b[1;36m9\u001b[0m\u001b[1;33m,\u001b[0m\u001b[1;36m1\u001b[0m\u001b[1;33m)\u001b[0m\u001b[1;33m\u001b[0m\u001b[1;33m\u001b[0m\u001b[0m\n\u001b[0m",
      "\u001b[1;31mValueError\u001b[0m: operands could not be broadcast together with shapes (3,3) (9,1) "
     ]
    }
   ],
   "source": [
    "a1+a2.reshape(9,1)"
   ]
  },
  {
   "cell_type": "code",
   "execution_count": 69,
   "id": "standard-speaker",
   "metadata": {},
   "outputs": [
    {
     "ename": "ValueError",
     "evalue": "operands could not be broadcast together with shapes (3,3) (9,1) ",
     "output_type": "error",
     "traceback": [
      "\u001b[1;31m---------------------------------------------------------------------------\u001b[0m",
      "\u001b[1;31mValueError\u001b[0m                                Traceback (most recent call last)",
      "\u001b[1;32m<ipython-input-69-4ba0754c30f9>\u001b[0m in \u001b[0;36m<module>\u001b[1;34m\u001b[0m\n\u001b[1;32m----> 1\u001b[1;33m \u001b[0ma1\u001b[0m\u001b[1;33m*\u001b[0m\u001b[0ma2\u001b[0m\u001b[1;33m.\u001b[0m\u001b[0mreshape\u001b[0m\u001b[1;33m(\u001b[0m\u001b[1;36m9\u001b[0m\u001b[1;33m,\u001b[0m\u001b[1;36m1\u001b[0m\u001b[1;33m)\u001b[0m\u001b[1;33m\u001b[0m\u001b[1;33m\u001b[0m\u001b[0m\n\u001b[0m",
      "\u001b[1;31mValueError\u001b[0m: operands could not be broadcast together with shapes (3,3) (9,1) "
     ]
    }
   ],
   "source": [
    "a1*a2.reshape(9,1)"
   ]
  },
  {
   "cell_type": "markdown",
   "id": "vietnamese-arrangement",
   "metadata": {},
   "source": [
    "**10. How do you use a Boolean array as a mask for another array?**\n",
    "\n"
   ]
  },
  {
   "cell_type": "code",
   "execution_count": 34,
   "id": "great-karma",
   "metadata": {},
   "outputs": [
    {
     "name": "stdout",
     "output_type": "stream",
     "text": [
      "[True, True, masked, masked]\n"
     ]
    }
   ],
   "source": [
    "y = np.array([True,True,False,True])          \n",
    "x = np.array([1,2,3,4])         \n",
    "m = np.ma.masked_where(x>2,y)  \n",
    "print(list(m))\n",
    "# print(m.ndim)"
   ]
  },
  {
   "cell_type": "markdown",
   "id": "native-official",
   "metadata": {},
   "source": [
    "**11. What are three distinct ways, using both standard Python and its packages, to get the standard deviation of a large set of data? Rank the three of them according to execution speed.**\n",
    "\n"
   ]
  },
  {
   "cell_type": "markdown",
   "id": "inner-patio",
   "metadata": {},
   "source": [
    "Ans.\n",
    "\n",
    "Standard deviation can be calculated in amny ways. If wee see the formula of SD, it says \n",
    "\n",
    "std= Square Root of [ Summation of [square of (x-mean)/number of observation] ]\n",
    "\n",
    "So this can be achive by:\n"
   ]
  },
  {
   "cell_type": "code",
   "execution_count": null,
   "id": "wrapped-corporation",
   "metadata": {},
   "outputs": [],
   "source": [
    "# 1) Using math module\n",
    "import math\n",
    "avg=a\n",
    "total=N\n",
    "x=[1,2]\n",
    "SD=math.sqrt((1-a)**2+(2-a)**2/N)"
   ]
  },
  {
   "cell_type": "code",
   "execution_count": 25,
   "id": "tropical-bibliography",
   "metadata": {},
   "outputs": [],
   "source": [
    "# 2) Using Numpy Array package\n",
    "\n",
    "import numpy as np\n",
    "\n",
    "SD=np.std(x)"
   ]
  },
  {
   "cell_type": "code",
   "execution_count": null,
   "id": "august-washer",
   "metadata": {},
   "outputs": [],
   "source": [
    "# 3) General calculation without using any package\n",
    "\n",
    "SD= (((1-avg)**2 + (2-avg)**2)/N)**1/2"
   ]
  },
  {
   "cell_type": "markdown",
   "id": "polar-falls",
   "metadata": {},
   "source": [
    "**12. What is the dimensionality of an array produced by a Boolean mask?**\n"
   ]
  },
  {
   "cell_type": "markdown",
   "id": "sustainable-limitation",
   "metadata": {},
   "source": [
    "Ans. It will be same as that of the given array.\n",
    "\n",
    "Example we have two aray of same dimensions say 1, then the array produced by given array will be of same dimension"
   ]
  },
  {
   "cell_type": "code",
   "execution_count": 37,
   "id": "assigned-norway",
   "metadata": {},
   "outputs": [
    {
     "name": "stdout",
     "output_type": "stream",
     "text": [
      "[True, True, masked, masked]\n",
      "\n",
      "Dimension is 1\n"
     ]
    }
   ],
   "source": [
    "y = np.array([True,True,False,True])          \n",
    "x = np.array([1,2,3,4])         \n",
    "m = np.ma.masked_where(x>2,y)  \n",
    "print(list(m))\n",
    "print()\n",
    "print('Dimension is',m.ndim)"
   ]
  },
  {
   "cell_type": "code",
   "execution_count": null,
   "id": "japanese-photograph",
   "metadata": {},
   "outputs": [],
   "source": []
  }
 ],
 "metadata": {
  "kernelspec": {
   "display_name": "Python 3",
   "language": "python",
   "name": "python3"
  },
  "language_info": {
   "codemirror_mode": {
    "name": "ipython",
    "version": 3
   },
   "file_extension": ".py",
   "mimetype": "text/x-python",
   "name": "python",
   "nbconvert_exporter": "python",
   "pygments_lexer": "ipython3",
   "version": "3.7.9"
  }
 },
 "nbformat": 4,
 "nbformat_minor": 5
}
