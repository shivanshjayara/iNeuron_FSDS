{
 "cells": [
  {
   "cell_type": "markdown",
   "id": "democratic-invasion",
   "metadata": {},
   "source": [
    "**1. Summarize the differences between text and binary files.**"
   ]
  },
  {
   "cell_type": "markdown",
   "id": "diagnostic-locator",
   "metadata": {},
   "source": [
    "Ans.\n",
    "\n",
    "**Text File:** \n",
    "* Bits represent character.\n",
    "* Less prone to get corrupt as changes reflect as soon as the file is opened and can easily be undone.\n",
    "* Can store only plain text in a file.\n",
    "* Widely used file format and can be opened using any simple text editor.\n",
    "* Mostly .txt and .rtf are used as extensions to text files.\n",
    "* Easy for human to read it.\n",
    "\n",
    "\n",
    "**Binary File:** \n",
    "* Bits represent a custom data.\n",
    "* Can easily get corrupted, even a single bit change may corrupt the file.\n",
    "* Can store different types of data (image, audio, text) in a single file.\n",
    "* Developed especially for an application and may not be understood by other applications.\n",
    "* Can have any application defined extension."
   ]
  },
  {
   "cell_type": "markdown",
   "id": "protecting-airline",
   "metadata": {},
   "source": [
    "\n",
    "**2. What are some situations in which the use of text files would be the best solution? In what situations might you want to use binary files instead?**\n"
   ]
  },
  {
   "cell_type": "markdown",
   "id": "wrapped-shirt",
   "metadata": {},
   "source": [
    "Ans.\n",
    "\n",
    "**Text file:** When we wan to store some information in such a way that every one can easily understand. Means readable and understood by the human not to the machine then in that case we prefer using text file. We can store any kind of information by using just simply writing the characters. We do not write the information in the form of bits and all. So that if any thing is written wrong in that and cause some erro then it can be easily handle.\n",
    "    \n",
    "**Binary file:** When we want to make some kind of a file which can only read by the machine not by the human then we use binary file. With this file we can store the information in bits. We can only be able to see the final functionality of the file like pdf file, audio file, video files, etc. We can only see the fina function but do not see the available data inside that which helped in maing that application."
   ]
  },
  {
   "cell_type": "markdown",
   "id": "announced-performer",
   "metadata": {},
   "source": [
    "\n",
    "**3. What are some of the problems in reading and writing a Python integer directly to disk using binary operations?**\n"
   ]
  },
  {
   "cell_type": "markdown",
   "id": "proud-mercury",
   "metadata": {},
   "source": [
    "Ans.\n",
    "\n",
    "While reading,read method returns a sequence of bytes as a string.\n",
    "With using binary operaions i.e. using bitwise operator the integers are first converted into binary and then operations are performed on bit by bit.\n",
    "This is a very lengthy task from usual steps.\n",
    "More over it is not possible for a reader to read the integers in binary format.\n",
    "\n",
    "\n"
   ]
  },
  {
   "cell_type": "markdown",
   "id": "weekly-pregnancy",
   "metadata": {},
   "source": [
    "\n",
    "**4. Name an advantage of using the with keyword instead of opening a file directly.**\n"
   ]
  },
  {
   "cell_type": "markdown",
   "id": "polish-optimum",
   "metadata": {},
   "source": [
    "Ans.\n",
    "\n",
    "**with** keyword is very useful while working with a file. This gives u a privellage that u dnt need to worry about closing the file after the work is completed.\n",
    "\n",
    "Sometimes it happen that we have written a long codes and we somehow we forgot to close the file. This may lead to error with the file so we use **with** keyword.\n",
    "\n",
    "The with statement itself ensures proper acquisition and release of resources"
   ]
  },
  {
   "cell_type": "markdown",
   "id": "textile-cruise",
   "metadata": {},
   "source": [
    "\n",
    "**5. When you read a line of text, does Python include the trailing newline? When you write a line of text, does Python append a newline?**\n"
   ]
  },
  {
   "cell_type": "markdown",
   "id": "focused-pepper",
   "metadata": {},
   "source": [
    "Ans.\n",
    "**read line:** Yes while reading a line using object.read() function everynew line will be readed\n",
    "\n",
    "**write line:** No it does not append a new line. It will just write the new data side by side. \n",
    "If we use **'w'** as a mode then this will **truncate** the everyline if available there in the file and write the new text which we have given. And again if we give the new text more than one time in the same code, it will get append to the next right.\n"
   ]
  },
  {
   "cell_type": "code",
   "execution_count": 11,
   "id": "collectible-diploma",
   "metadata": {},
   "outputs": [
    {
     "name": "stdout",
     "output_type": "stream",
     "text": [
      "hi my name is shivansh\n",
      "hello\n",
      "world\n",
      "india\n"
     ]
    }
   ],
   "source": [
    "with open('d.txt') as r:\n",
    "    d=r.read()\n",
    "    print(d)"
   ]
  },
  {
   "cell_type": "code",
   "execution_count": 16,
   "id": "increasing-cologne",
   "metadata": {},
   "outputs": [],
   "source": [
    "with open('s.txt','a',newline='\\n') as w:\n",
    "    w.write('teshu')\n",
    "    w.write('jayara')\n",
    "    "
   ]
  },
  {
   "cell_type": "markdown",
   "id": "outdoor-donna",
   "metadata": {},
   "source": [
    "\n",
    "**6. What file operations enable random-access operations?**\n"
   ]
  },
  {
   "cell_type": "markdown",
   "id": "organizational-prefix",
   "metadata": {},
   "source": [
    "Ans. \n",
    "\n",
    "**RandomAccess File** class is used for reading and writing to random access file.\n",
    "\n",
    "\n",
    "**read** and **write** file handling operation enable random access operations. With these operations, random access\n",
    "file allows you to read and write a small chunk of data at any position in the file, using a file pointer.\n",
    "\n",
    "**Following are some of the file operations:**\n",
    "    \n",
    "* close(): It closes this random access fle stream and releases any system\n",
    "resources associated with the stream.\n",
    "* write(): It writes the specifed byte to this fle\n",
    "* read(): It reads a byte of data from this fle.\n",
    "* length(): It returns the length of this fle\n",
    "* seek(long pos): moves the file pointer to a specified position in the file. The offset is measured in bytes from the beginning of the file. At this position, the next read or write occurs."
   ]
  },
  {
   "cell_type": "markdown",
   "id": "proud-float",
   "metadata": {},
   "source": [
    "\n",
    "**7. When would you be most likely to use the struct package?**\n"
   ]
  },
  {
   "cell_type": "markdown",
   "id": "classified-exchange",
   "metadata": {},
   "source": [
    "Ans.\n",
    "\n",
    "Whenever suppose we need to convert the data types (like string and number) into string of bytes we use **struct** module.\n",
    "\n",
    "When we need to parse the binary files of data stored in C into python we generally used this module"
   ]
  },
  {
   "cell_type": "markdown",
   "id": "split-marine",
   "metadata": {},
   "source": [
    "\n",
    "**8. When would pickling be the best choice?**\n"
   ]
  },
  {
   "cell_type": "markdown",
   "id": "genuine-rover",
   "metadata": {},
   "source": [
    "Ans.\n",
    "\n",
    "pickling is storing some data in the binary form to further functionality or operation of application. The data gets converted into binary format by suing pickle module. It best when we are creating some application like AI application and then we need to load it for deployment."
   ]
  },
  {
   "cell_type": "markdown",
   "id": "lesbian-fishing",
   "metadata": {},
   "source": [
    "\n",
    "**9. When would use of the shelve package be the best choice?**\n"
   ]
  },
  {
   "cell_type": "markdown",
   "id": "crucial-boston",
   "metadata": {},
   "source": [
    "Ans.\n",
    "\n",
    "When we need to store the data in constant/continuos manner such that we do not require the relational data base, then we use shelve package.\n",
    "The shelf object defined in this module is dictionary-like object which is persistently stored in a disk file. \n",
    "This creates a file similar to dbm database. \n",
    "Only string data type can be used as key in this special dictionary object."
   ]
  },
  {
   "cell_type": "markdown",
   "id": "isolated-enforcement",
   "metadata": {},
   "source": [
    "\n",
    "**10. What is a special restriction when using the shelve package, as opposed to using other data dictionaries?**\n"
   ]
  },
  {
   "cell_type": "markdown",
   "id": "joint-physics",
   "metadata": {},
   "source": [
    "Ans.\n",
    "\n",
    "One Restriction of shelve objects is that the keys to the objects must be strings, but the values stored in a shelve object can be any Python object, as long as it can be written with the pickle module"
   ]
  }
 ],
 "metadata": {
  "kernelspec": {
   "display_name": "Python 3",
   "language": "python",
   "name": "python3"
  },
  "language_info": {
   "codemirror_mode": {
    "name": "ipython",
    "version": 3
   },
   "file_extension": ".py",
   "mimetype": "text/x-python",
   "name": "python",
   "nbconvert_exporter": "python",
   "pygments_lexer": "ipython3",
   "version": "3.7.9"
  }
 },
 "nbformat": 4,
 "nbformat_minor": 5
}
