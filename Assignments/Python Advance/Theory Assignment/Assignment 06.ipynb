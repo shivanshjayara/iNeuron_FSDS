{
 "cells": [
  {
   "cell_type": "markdown",
   "id": "regular-advantage",
   "metadata": {},
   "source": [
    "**1. Name three things that exception processing is good for.**"
   ]
  },
  {
   "cell_type": "markdown",
   "id": "pending-scope",
   "metadata": {},
   "source": [
    "Ans.\n",
    "\n",
    "1) We can raise our own exception in our own so so that it is easy to understand. However default exception can also happen.\n",
    "\n",
    "2) The readability of error is simple and nice. \n",
    "\n",
    "3) We can able to check the correct code and at which step there is a wrong code. We give exception in every step also to check its correctness\n",
    "\n",
    "4) We can logg the exceptions\n"
   ]
  },
  {
   "cell_type": "markdown",
   "id": "duplicate-packet",
   "metadata": {},
   "source": [
    "**2. What happens to an exception if you don’t do anything special to handle it?**"
   ]
  },
  {
   "cell_type": "markdown",
   "id": "incorporate-notion",
   "metadata": {},
   "source": [
    "Ans.\n",
    "\n",
    "If nothing special is doen to handle the exception then if code is not correctly then then the whole programm will not able able to proceesed further and in the display lon error description comes. Secondaly it is very dangrous also. Suppose there is a very crucial program written and if it gets failed and we havent written any special exception then no one can ever understand the issue and problem and he cannot tell the programm about the code"
   ]
  },
  {
   "cell_type": "markdown",
   "id": "nominated-evans",
   "metadata": {},
   "source": [
    "**3. How can your script recover from an exception?**"
   ]
  },
  {
   "cell_type": "markdown",
   "id": "linear-creativity",
   "metadata": {},
   "source": [
    "Ans.\n",
    "\n",
    "We use **try** and **except** block as a exception handling. If in a try bloack any exception occure, the will will correct it as soon as possible."
   ]
  },
  {
   "cell_type": "markdown",
   "id": "herbal-explanation",
   "metadata": {},
   "source": [
    "**4. Name two ways to trigger exceptions in your script.**"
   ]
  },
  {
   "cell_type": "markdown",
   "id": "compressed-element",
   "metadata": {},
   "source": [
    "Ans.\n",
    "\n",
    "1) By using **Exception** keyword under **try** and **except** block. We can do mistake in **try** block and writing our own exception msg while printing.\n",
    "\n",
    "2) By using **raise** keyword we can give any exception by defining the kind of error we wanted to raise and then we can use to print it.\n",
    "\n",
    "Example is given below"
   ]
  },
  {
   "cell_type": "code",
   "execution_count": 12,
   "id": "german-brick",
   "metadata": {},
   "outputs": [
    {
     "ename": "Exception",
     "evalue": "('The error is', 6)",
     "output_type": "error",
     "traceback": [
      "\u001b[1;31m---------------------------------------------------------------------------\u001b[0m",
      "\u001b[1;31mException\u001b[0m                                 Traceback (most recent call last)",
      "\u001b[1;32m<ipython-input-12-5ea3d45e5c79>\u001b[0m in \u001b[0;36m<module>\u001b[1;34m\u001b[0m\n\u001b[0;32m      5\u001b[0m         \u001b[0mprint\u001b[0m\u001b[1;33m(\u001b[0m\u001b[1;34m'ok input'\u001b[0m\u001b[1;33m)\u001b[0m\u001b[1;33m\u001b[0m\u001b[1;33m\u001b[0m\u001b[0m\n\u001b[0;32m      6\u001b[0m \u001b[1;33m\u001b[0m\u001b[0m\n\u001b[1;32m----> 7\u001b[1;33m \u001b[0ma\u001b[0m\u001b[1;33m=\u001b[0m\u001b[0mx\u001b[0m\u001b[1;33m(\u001b[0m\u001b[1;36m6\u001b[0m\u001b[1;33m)\u001b[0m\u001b[1;33m\u001b[0m\u001b[1;33m\u001b[0m\u001b[0m\n\u001b[0m",
      "\u001b[1;32m<ipython-input-12-5ea3d45e5c79>\u001b[0m in \u001b[0;36mx\u001b[1;34m(n)\u001b[0m\n\u001b[0;32m      1\u001b[0m \u001b[1;32mdef\u001b[0m \u001b[0mx\u001b[0m\u001b[1;33m(\u001b[0m\u001b[0mn\u001b[0m\u001b[1;33m)\u001b[0m\u001b[1;33m:\u001b[0m\u001b[1;33m\u001b[0m\u001b[1;33m\u001b[0m\u001b[0m\n\u001b[0;32m      2\u001b[0m     \u001b[1;32mif\u001b[0m \u001b[0mn\u001b[0m\u001b[1;33m==\u001b[0m\u001b[1;36m6\u001b[0m\u001b[1;33m:\u001b[0m\u001b[1;33m\u001b[0m\u001b[1;33m\u001b[0m\u001b[0m\n\u001b[1;32m----> 3\u001b[1;33m         \u001b[1;32mraise\u001b[0m \u001b[0mException\u001b[0m\u001b[1;33m(\u001b[0m\u001b[1;34m'The error is'\u001b[0m\u001b[1;33m,\u001b[0m\u001b[0mn\u001b[0m\u001b[1;33m)\u001b[0m\u001b[1;33m\u001b[0m\u001b[1;33m\u001b[0m\u001b[0m\n\u001b[0m\u001b[0;32m      4\u001b[0m     \u001b[1;32melse\u001b[0m\u001b[1;33m:\u001b[0m\u001b[1;33m\u001b[0m\u001b[1;33m\u001b[0m\u001b[0m\n\u001b[0;32m      5\u001b[0m         \u001b[0mprint\u001b[0m\u001b[1;33m(\u001b[0m\u001b[1;34m'ok input'\u001b[0m\u001b[1;33m)\u001b[0m\u001b[1;33m\u001b[0m\u001b[1;33m\u001b[0m\u001b[0m\n",
      "\u001b[1;31mException\u001b[0m: ('The error is', 6)"
     ]
    }
   ],
   "source": [
    "def x(n):\n",
    "    if n==6:\n",
    "        raise Exception('The error is',n)\n",
    "    else:\n",
    "        print('ok input')\n",
    "    \n",
    "a=x(6)"
   ]
  },
  {
   "cell_type": "markdown",
   "id": "stunning-legislation",
   "metadata": {},
   "source": [
    "**5. Name two ways to specify actions to be run at termination time, whether an exception occurs or not.**"
   ]
  },
  {
   "cell_type": "markdown",
   "id": "spoken-gravity",
   "metadata": {},
   "source": [
    "Ans..\n",
    "1) Using **Finally** block: This will get executed whether or not exception occur or dont occur.\n",
    "    \n",
    "2) Uisng simple **print** statement outside the try and except block. Example is given below\n",
    "\n"
   ]
  },
  {
   "cell_type": "code",
   "execution_count": 18,
   "id": "empty-malpractice",
   "metadata": {},
   "outputs": [
    {
     "name": "stdout",
     "output_type": "stream",
     "text": [
      "Some error occurred.\n",
      "This is finally block\n",
      "Out of try except blocks.\n"
     ]
    }
   ],
   "source": [
    "try:\n",
    "    a=5\n",
    "    b='5'\n",
    "    print(a/b)\n",
    "except:\n",
    "    print('Some error occurred.')\n",
    "finally:\n",
    "    print('This is finally block')\n",
    "print(\"Out of try except blocks.\")"
   ]
  },
  {
   "cell_type": "code",
   "execution_count": null,
   "id": "growing-student",
   "metadata": {},
   "outputs": [],
   "source": []
  }
 ],
 "metadata": {
  "kernelspec": {
   "display_name": "Python 3",
   "language": "python",
   "name": "python3"
  },
  "language_info": {
   "codemirror_mode": {
    "name": "ipython",
    "version": 3
   },
   "file_extension": ".py",
   "mimetype": "text/x-python",
   "name": "python",
   "nbconvert_exporter": "python",
   "pygments_lexer": "ipython3",
   "version": "3.7.10"
  }
 },
 "nbformat": 4,
 "nbformat_minor": 5
}
