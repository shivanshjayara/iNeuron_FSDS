{
 "cells": [
  {
   "cell_type": "markdown",
   "id": "noble-imaging",
   "metadata": {},
   "source": [
    "**1. Compare and contrast the advantages and disadvantages of the float and Decimal classes.**"
   ]
  },
  {
   "cell_type": "markdown",
   "id": "modern-destruction",
   "metadata": {},
   "source": [
    "Ans.\n",
    "\n",
    "**Decimal class** \n",
    "\n",
    "* Provides support for fast correctly-rounded decimal floating point arithmetic.\n",
    "\n",
    "* It gives the provison to represent the number in a representative way so that it is clearly undertood by the user.\n",
    "\n",
    "* give you the exact arithmatic operation result like we use to do normally,\n",
    "\n",
    "* Object exposes all required parts of the standard. When needed, we can change the rounding and signal handling. This includes an option to enforce exact arithmetic by using exceptions to block any inexact operations.\n",
    "\n",
    "* Objects share many properties with the other built-in numeric types such as float and int. All of the usual math operations and special methods apply.\n",
    "\n",
    "* It can be constructed from integers, strings, floats, or tuples. Construction from an integer or a float performs an exact conversion of the value of that integer or float.\n",
    "\n",
    "* It is faster way to get precise value which we human work and have a smaller range than the float\n",
    "\n",
    "* Decimal types are better suited for financial and monetary calculations\n",
    "\n",
    "* The Decimal has a default precision of 28 places\n",
    "\n",
    "**Floating class** \n",
    "\n",
    "* It do not represent the exact precise value value.\n",
    "\n",
    "* It gives the value close to the result.\n",
    "\n",
    "* The float object exposes only a modest portion of its capabilities\n",
    "\n",
    "* Some values cannot be exactly represented in a float data type. For instance, storing the 0.1 value in float (which is a binary floating point value) variable we get only an approximation of the value. Similarly, the 1/3 value cannot be represented exactly in decimal floating point type.\n",
    "\n",
    "* Float types is best suited for scientific calculations\n",
    "\n",
    "* The float has default precision of 18 places.\n"
   ]
  },
  {
   "cell_type": "markdown",
   "id": "funded-joseph",
   "metadata": {},
   "source": [
    "**2. Consider two objects: Decimal('1.200') and Decimal('1.2'). In what sense are these the same object? Are these just two ways of representing the exact same value, or do they correspond to different internal states?**"
   ]
  },
  {
   "cell_type": "code",
   "execution_count": 154,
   "id": "smooth-savannah",
   "metadata": {},
   "outputs": [],
   "source": [
    "from decimal import Decimal\n",
    "d1=Decimal('1.200')\n",
    "d2=Decimal('1.2')"
   ]
  },
  {
   "cell_type": "code",
   "execution_count": 155,
   "id": "statewide-yeast",
   "metadata": {},
   "outputs": [
    {
     "data": {
      "text/plain": [
       "True"
      ]
     },
     "execution_count": 155,
     "metadata": {},
     "output_type": "execute_result"
    }
   ],
   "source": [
    "d1 == d2"
   ]
  },
  {
   "cell_type": "code",
   "execution_count": 156,
   "id": "center-piece",
   "metadata": {},
   "outputs": [
    {
     "data": {
      "text/plain": [
       "False"
      ]
     },
     "execution_count": 156,
     "metadata": {},
     "output_type": "execute_result"
    }
   ],
   "source": [
    "d1 is d2"
   ]
  },
  {
   "cell_type": "code",
   "execution_count": 157,
   "id": "neutral-future",
   "metadata": {},
   "outputs": [
    {
     "name": "stdout",
     "output_type": "stream",
     "text": [
      "1.200\n"
     ]
    }
   ],
   "source": [
    "print(d1)"
   ]
  },
  {
   "cell_type": "code",
   "execution_count": 158,
   "id": "selected-twenty",
   "metadata": {},
   "outputs": [
    {
     "name": "stdout",
     "output_type": "stream",
     "text": [
      "1.2\n"
     ]
    }
   ],
   "source": [
    "print(d2)"
   ]
  },
  {
   "cell_type": "markdown",
   "id": "posted-overhead",
   "metadata": {},
   "source": [
    "By looking at the value it is not equal. This can be seen if we use **is** operator to check for d1 and d2.\n",
    "If we print the d1 and d2 we do not get the same value but still it will shwo the equality this is because the normalised value of both the object is same.\n",
    "But both the objects are same as they both give the same normalised value.\n",
    "\n",
    "Another way to represent them is in the form of **normlaization**"
   ]
  },
  {
   "cell_type": "markdown",
   "id": "blessed-zambia",
   "metadata": {},
   "source": [
    "**3. What happens if Decimal('1.200') and Decimal('1.2') are tested for equality**"
   ]
  },
  {
   "cell_type": "code",
   "execution_count": 63,
   "id": "geological-zimbabwe",
   "metadata": {},
   "outputs": [],
   "source": [
    "from decimal import Decimal\n",
    "d1=Decimal(str(float('1.200')))\n",
    "d2=Decimal('1.2')"
   ]
  },
  {
   "cell_type": "markdown",
   "id": "academic-silence",
   "metadata": {},
   "source": [
    "We can test for the normalised value of both te objects. In this way we could get the ans"
   ]
  },
  {
   "cell_type": "code",
   "execution_count": 148,
   "id": "secure-bacteria",
   "metadata": {},
   "outputs": [
    {
     "name": "stdout",
     "output_type": "stream",
     "text": [
      "1.2\n"
     ]
    }
   ],
   "source": [
    "d11=d1.normalize()\n",
    "print(d11)"
   ]
  },
  {
   "cell_type": "code",
   "execution_count": 149,
   "id": "entire-channels",
   "metadata": {},
   "outputs": [
    {
     "name": "stdout",
     "output_type": "stream",
     "text": [
      "1.2\n"
     ]
    }
   ],
   "source": [
    "d22=d2.normalize()\n",
    "print(d22)"
   ]
  },
  {
   "cell_type": "code",
   "execution_count": 162,
   "id": "clean-newport",
   "metadata": {},
   "outputs": [
    {
     "data": {
      "text/plain": [
       "True"
      ]
     },
     "execution_count": 162,
     "metadata": {},
     "output_type": "execute_result"
    }
   ],
   "source": [
    "d11 == d22"
   ]
  },
  {
   "cell_type": "markdown",
   "id": "explicit-organizer",
   "metadata": {},
   "source": [
    "**4. Why is it usually better to initialize a Decimal object from a string than from a floating-point value**"
   ]
  },
  {
   "cell_type": "markdown",
   "id": "third-cisco",
   "metadata": {},
   "source": [
    "Ans. \n",
    "\n",
    "Because while initilising with a string, this will give the exact value of the number available in the quotes ' '. While in case of floating point value, it first has to convert from float then using the round operation we will get the result with the desired precision"
   ]
  },
  {
   "cell_type": "markdown",
   "id": "thermal-finger",
   "metadata": {},
   "source": [
    "**5. How easy is it to combine Decimal objects with integers in an arithmetic expression?**"
   ]
  },
  {
   "cell_type": "markdown",
   "id": "powerful-given",
   "metadata": {},
   "source": [
    "Ans. \n",
    "\n",
    "It is that much easy as we do normal calculation.\n",
    "How ever if we do not specify the number as a string then in order to get in decimal form we fisrt need to convert the value from float into decimal object  and use the round method to get the precise value."
   ]
  },
  {
   "cell_type": "code",
   "execution_count": 77,
   "id": "pacific-staff",
   "metadata": {},
   "outputs": [
    {
     "name": "stdout",
     "output_type": "stream",
     "text": [
      "20.00\n"
     ]
    }
   ],
   "source": [
    "o1=Decimal('10.00')\n",
    "print(o1+10)"
   ]
  },
  {
   "cell_type": "code",
   "execution_count": 99,
   "id": "internal-elimination",
   "metadata": {},
   "outputs": [
    {
     "name": "stdout",
     "output_type": "stream",
     "text": [
      "20.00\n"
     ]
    }
   ],
   "source": [
    "d=Decimal(10)\n",
    "print(round(d+10,2))"
   ]
  },
  {
   "cell_type": "code",
   "execution_count": 86,
   "id": "acute-confirmation",
   "metadata": {},
   "outputs": [
    {
     "name": "stdout",
     "output_type": "stream",
     "text": [
      "100\n"
     ]
    }
   ],
   "source": [
    "f=100\n",
    "print(round(f,4))\n",
    "\n",
    "#here we don not have specified the Decimal class so here we do not get the precise value"
   ]
  },
  {
   "cell_type": "markdown",
   "id": "celtic-beaver",
   "metadata": {},
   "source": [
    "**6. How easy is it to combine Decimal objects and floating-point values?**"
   ]
  },
  {
   "cell_type": "code",
   "execution_count": 105,
   "id": "aerial-target",
   "metadata": {},
   "outputs": [
    {
     "ename": "TypeError",
     "evalue": "unsupported operand type(s) for +: 'decimal.Decimal' and 'float'",
     "output_type": "error",
     "traceback": [
      "\u001b[1;31m---------------------------------------------------------------------------\u001b[0m",
      "\u001b[1;31mTypeError\u001b[0m                                 Traceback (most recent call last)",
      "\u001b[1;32m<ipython-input-105-1d41578a3c2e>\u001b[0m in \u001b[0;36m<module>\u001b[1;34m\u001b[0m\n\u001b[0;32m      1\u001b[0m \u001b[0md1\u001b[0m\u001b[1;33m=\u001b[0m\u001b[0mDecimal\u001b[0m\u001b[1;33m(\u001b[0m\u001b[1;36m10\u001b[0m\u001b[1;33m)\u001b[0m\u001b[1;33m\u001b[0m\u001b[1;33m\u001b[0m\u001b[0m\n\u001b[0;32m      2\u001b[0m \u001b[0mf\u001b[0m\u001b[1;33m=\u001b[0m\u001b[1;36m10.0\u001b[0m\u001b[1;33m\u001b[0m\u001b[1;33m\u001b[0m\u001b[0m\n\u001b[1;32m----> 3\u001b[1;33m \u001b[0mprint\u001b[0m\u001b[1;33m(\u001b[0m\u001b[0md1\u001b[0m\u001b[1;33m+\u001b[0m\u001b[0mf\u001b[0m\u001b[1;33m)\u001b[0m\u001b[1;33m\u001b[0m\u001b[1;33m\u001b[0m\u001b[0m\n\u001b[0m",
      "\u001b[1;31mTypeError\u001b[0m: unsupported operand type(s) for +: 'decimal.Decimal' and 'float'"
     ]
    }
   ],
   "source": [
    "d1=Decimal(10)\n",
    "f=10.0\n",
    "print(d1+f)"
   ]
  },
  {
   "cell_type": "markdown",
   "id": "durable-assembly",
   "metadata": {},
   "source": [
    "As we see in the above example combining decimal object with floating value gives an error. To remove this erro we need to first convert the floating point value into decimal object by using using Decimal class and then we can use round function to get a value precised upto given number.\n",
    "\n",
    "example is given below"
   ]
  },
  {
   "cell_type": "code",
   "execution_count": 104,
   "id": "democratic-flooring",
   "metadata": {},
   "outputs": [
    {
     "name": "stdout",
     "output_type": "stream",
     "text": [
      "20.0\n"
     ]
    }
   ],
   "source": [
    "d1=Decimal(10)\n",
    "f=10.0\n",
    "print(round(d1+Decimal(f),1))"
   ]
  },
  {
   "cell_type": "markdown",
   "id": "competitive-belarus",
   "metadata": {},
   "source": [
    "**7. Give an example of a quantity that can be represented with absolute precision by using the Fraction class but not the Decimal class.**"
   ]
  },
  {
   "cell_type": "code",
   "execution_count": 106,
   "id": "moving-peninsula",
   "metadata": {},
   "outputs": [
    {
     "name": "stdout",
     "output_type": "stream",
     "text": [
      "0.30000000000000004\n"
     ]
    }
   ],
   "source": [
    "d=0.1+0.1+0.1\n",
    "print(d)"
   ]
  },
  {
   "cell_type": "code",
   "execution_count": 107,
   "id": "secure-movement",
   "metadata": {},
   "outputs": [
    {
     "name": "stdout",
     "output_type": "stream",
     "text": [
      "0.3000000000000000166533453694\n"
     ]
    }
   ],
   "source": [
    "d=Decimal(0.1)+Decimal(0.1)+Decimal(0.1)\n",
    "print(d)"
   ]
  },
  {
   "cell_type": "markdown",
   "id": "liquid-escape",
   "metadata": {},
   "source": [
    "Here we see that the quantity that can be represemted with abosulte precision by using fraction value is 18 while decimal class it has 28"
   ]
  },
  {
   "cell_type": "markdown",
   "id": "imperial-worker",
   "metadata": {},
   "source": [
    "**8. Give an example of a quantity that can be represented exactly by either the Decimal or Fraction class but not by a floating-point value.**"
   ]
  },
  {
   "cell_type": "code",
   "execution_count": 182,
   "id": "dated-watershed",
   "metadata": {},
   "outputs": [
    {
     "name": "stdout",
     "output_type": "stream",
     "text": [
      "1.000000\n"
     ]
    }
   ],
   "source": [
    "d1=Decimal('1.000000')\n",
    "print(d1)"
   ]
  },
  {
   "cell_type": "code",
   "execution_count": 184,
   "id": "paperback-offense",
   "metadata": {},
   "outputs": [
    {
     "name": "stdout",
     "output_type": "stream",
     "text": [
      "1.0\n"
     ]
    }
   ],
   "source": [
    "d2=1.000000\n",
    "print(d2)"
   ]
  },
  {
   "cell_type": "markdown",
   "id": "cloudy-pillow",
   "metadata": {},
   "source": [
    "**9. Consider two Fraction objects: Fraction(1, 2) and Fraction(5, 10). Do these two objects have the same internal state? Why or why not?**"
   ]
  },
  {
   "cell_type": "code",
   "execution_count": 188,
   "id": "cooked-chain",
   "metadata": {},
   "outputs": [],
   "source": [
    "from fractions import Fraction"
   ]
  },
  {
   "cell_type": "code",
   "execution_count": 191,
   "id": "outside-partner",
   "metadata": {},
   "outputs": [
    {
     "name": "stdout",
     "output_type": "stream",
     "text": [
      "1/2\n"
     ]
    }
   ],
   "source": [
    "f1=Fraction(1,2)\n",
    "print(f1)"
   ]
  },
  {
   "cell_type": "code",
   "execution_count": 193,
   "id": "champion-notion",
   "metadata": {},
   "outputs": [
    {
     "name": "stdout",
     "output_type": "stream",
     "text": [
      "1/2\n"
     ]
    }
   ],
   "source": [
    "f2=Fraction(5,10)\n",
    "print(f2)"
   ]
  },
  {
   "cell_type": "markdown",
   "id": "different-memory",
   "metadata": {},
   "source": [
    "Internal state of both the objects are not same. Though they give the same out output. It is because the fraction class will calculate for the further simplication till the result remains in fraction form"
   ]
  },
  {
   "cell_type": "markdown",
   "id": "brilliant-computer",
   "metadata": {},
   "source": [
    "**10. What is the relationship between the Fraction class and the integer type (int)? Containment or inheritance?**"
   ]
  },
  {
   "cell_type": "markdown",
   "id": "separate-benchmark",
   "metadata": {},
   "source": [
    "Ans.\n",
    "Fraction class contains the pair of intgers values as numerator and denomenator and gives the result in the form of fraction. Since the values are belong to integer class an these class object are using by another object of fraction class. So here Containment is happening."
   ]
  },
  {
   "cell_type": "code",
   "execution_count": 196,
   "id": "further-ballet",
   "metadata": {},
   "outputs": [
    {
     "name": "stdout",
     "output_type": "stream",
     "text": [
      "10/7\n"
     ]
    }
   ],
   "source": [
    "n=10\n",
    "d=7\n",
    "f=Fraction(n,d)\n",
    "print(f)"
   ]
  },
  {
   "cell_type": "code",
   "execution_count": null,
   "id": "thrown-clone",
   "metadata": {},
   "outputs": [],
   "source": []
  }
 ],
 "metadata": {
  "kernelspec": {
   "display_name": "Python 3",
   "language": "python",
   "name": "python3"
  },
  "language_info": {
   "codemirror_mode": {
    "name": "ipython",
    "version": 3
   },
   "file_extension": ".py",
   "mimetype": "text/x-python",
   "name": "python",
   "nbconvert_exporter": "python",
   "pygments_lexer": "ipython3",
   "version": "3.7.9"
  }
 },
 "nbformat": 4,
 "nbformat_minor": 5
}
