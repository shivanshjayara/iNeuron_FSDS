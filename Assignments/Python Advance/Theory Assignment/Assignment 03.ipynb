{
 "cells": [
  {
   "cell_type": "markdown",
   "id": "innocent-newfoundland",
   "metadata": {},
   "source": [
    "**1. What is an abstract superclass?**\n"
   ]
  },
  {
   "cell_type": "markdown",
   "id": "precious-notion",
   "metadata": {},
   "source": [
    "Ans.\n",
    "\n",
    "A parent class is well known as super class from where child class inherit the data.\n",
    "\n",
    "An abstract superclass a parent class from where the subclassess or child classes ae derived or we can say, subclasses can inherit the property of the parent class in the form of data"
   ]
  },
  {
   "cell_type": "markdown",
   "id": "protecting-harvard",
   "metadata": {},
   "source": [
    "\n",
    "**2. What happens when a simple assignment statement appears at the top level of a class statement?**\n"
   ]
  },
  {
   "cell_type": "markdown",
   "id": "independent-powell",
   "metadata": {},
   "source": [
    "Ans.\n",
    "\n",
    "It is act a simple variable having some value stored in it which can be used as a normal variable while calling any function or variables inside the class.\n",
    "\n",
    "It does not come sunder the class. It is global in nature for the class. It can be used directly by with class or with class object or with any other subclass.\n",
    "\n",
    "Example is as follow\n",
    "    \n",
    "    "
   ]
  },
  {
   "cell_type": "code",
   "execution_count": 9,
   "id": "manufactured-heath",
   "metadata": {},
   "outputs": [],
   "source": [
    "d=500\n",
    "class x:\n",
    "    e=35\n",
    "    \n",
    "    def __init__(self,a):\n",
    "        self.a=a\n",
    "        \n",
    "    def func(self):\n",
    "        return self.a\n",
    "    \n",
    "ob=x(10)"
   ]
  },
  {
   "cell_type": "code",
   "execution_count": 12,
   "id": "southwest-embassy",
   "metadata": {},
   "outputs": [
    {
     "data": {
      "text/plain": [
       "510"
      ]
     },
     "execution_count": 12,
     "metadata": {},
     "output_type": "execute_result"
    }
   ],
   "source": [
    "x.func(ob)+d"
   ]
  },
  {
   "cell_type": "code",
   "execution_count": 14,
   "id": "eleven-setting",
   "metadata": {},
   "outputs": [
    {
     "data": {
      "text/plain": [
       "500"
      ]
     },
     "execution_count": 14,
     "metadata": {},
     "output_type": "execute_result"
    }
   ],
   "source": [
    "d"
   ]
  },
  {
   "cell_type": "code",
   "execution_count": 15,
   "id": "continent-shadow",
   "metadata": {},
   "outputs": [
    {
     "data": {
      "text/plain": [
       "510"
      ]
     },
     "execution_count": 15,
     "metadata": {},
     "output_type": "execute_result"
    }
   ],
   "source": [
    "ob.func()+d"
   ]
  },
  {
   "cell_type": "markdown",
   "id": "physical-segment",
   "metadata": {},
   "source": [
    "\n",
    "**3. Why might a class need to manually call the __init__ method in a superclass?**\n"
   ]
  },
  {
   "cell_type": "markdown",
   "id": "racial-jersey",
   "metadata": {},
   "source": [
    "Ans.\n",
    "\n",
    "_ _ _init_ _ _ is a built in function. It is well known as constructor. It takes the variables, which pass as an argument inside this function, and passes those data to the class."
   ]
  },
  {
   "cell_type": "markdown",
   "id": "frequent-device",
   "metadata": {},
   "source": [
    "\n",
    "**4. How can you augment, instead of completely replacing, an inherited method?**\n"
   ]
  },
  {
   "cell_type": "markdown",
   "id": "provincial-roots",
   "metadata": {},
   "source": [
    "*Ans*\n",
    "\n",
    "*Not yet taught*"
   ]
  },
  {
   "cell_type": "markdown",
   "id": "aggregate-liabilities",
   "metadata": {},
   "source": [
    "\n",
    "**5. How does a class’s local scope differ from that of a function?**\n"
   ]
  },
  {
   "cell_type": "markdown",
   "id": "worthy-announcement",
   "metadata": {},
   "source": [
    "**Ans.**\n",
    "\n",
    "class local scope and function local scope is differ from each other.\n",
    "\n",
    "In case of function, local scope means, whatever the variable is declare locally that will be only operate inside the function. It cannot be use outside the function. Th emost important thing is it can only be used within one function only under which it is declared.\n",
    "\n",
    "In case of class, local scope means, whatever the variable is declared under the class or inside the class that will be used within a class only either by binding it with object of a class or with class itself. Unlike the function, local scope of a variable is not restricted with in one function only. IN class it can be used with any number of function which are defined inside the class.\n",
    "\n",
    "Example:"
   ]
  },
  {
   "cell_type": "markdown",
   "id": "minus-orange",
   "metadata": {},
   "source": [
    "*with function*"
   ]
  },
  {
   "cell_type": "code",
   "execution_count": 32,
   "id": "wrapped-framework",
   "metadata": {},
   "outputs": [],
   "source": [
    "def f1(n1):\n",
    "    x=10\n",
    "    return n1+x"
   ]
  },
  {
   "cell_type": "code",
   "execution_count": 33,
   "id": "available-college",
   "metadata": {},
   "outputs": [],
   "source": [
    "def f2(n2):\n",
    "    return n2+x"
   ]
  },
  {
   "cell_type": "code",
   "execution_count": 35,
   "id": "different-manitoba",
   "metadata": {},
   "outputs": [
    {
     "data": {
      "text/plain": [
       "11"
      ]
     },
     "execution_count": 35,
     "metadata": {},
     "output_type": "execute_result"
    }
   ],
   "source": [
    "f1(1)"
   ]
  },
  {
   "cell_type": "code",
   "execution_count": 36,
   "id": "smart-vampire",
   "metadata": {
    "scrolled": true
   },
   "outputs": [
    {
     "ename": "TypeError",
     "evalue": "unsupported operand type(s) for +: 'int' and 'type'",
     "output_type": "error",
     "traceback": [
      "\u001b[1;31m---------------------------------------------------------------------------\u001b[0m",
      "\u001b[1;31mTypeError\u001b[0m                                 Traceback (most recent call last)",
      "\u001b[1;32m<ipython-input-36-ca2f62f57e92>\u001b[0m in \u001b[0;36m<module>\u001b[1;34m\u001b[0m\n\u001b[1;32m----> 1\u001b[1;33m \u001b[0mf2\u001b[0m\u001b[1;33m(\u001b[0m\u001b[1;36m2\u001b[0m\u001b[1;33m)\u001b[0m\u001b[1;33m\u001b[0m\u001b[1;33m\u001b[0m\u001b[0m\n\u001b[0m",
      "\u001b[1;32m<ipython-input-33-f82f9bea2113>\u001b[0m in \u001b[0;36mf2\u001b[1;34m(n2)\u001b[0m\n\u001b[0;32m      1\u001b[0m \u001b[1;32mdef\u001b[0m \u001b[0mf2\u001b[0m\u001b[1;33m(\u001b[0m\u001b[0mn2\u001b[0m\u001b[1;33m)\u001b[0m\u001b[1;33m:\u001b[0m\u001b[1;33m\u001b[0m\u001b[1;33m\u001b[0m\u001b[0m\n\u001b[1;32m----> 2\u001b[1;33m     \u001b[1;32mreturn\u001b[0m \u001b[0mn2\u001b[0m\u001b[1;33m+\u001b[0m\u001b[0mx\u001b[0m\u001b[1;33m\u001b[0m\u001b[1;33m\u001b[0m\u001b[0m\n\u001b[0m",
      "\u001b[1;31mTypeError\u001b[0m: unsupported operand type(s) for +: 'int' and 'type'"
     ]
    }
   ],
   "source": [
    "f2(2)  #we cannot use the local variable of function f1 in some other function"
   ]
  },
  {
   "cell_type": "markdown",
   "id": "authorized-karaoke",
   "metadata": {},
   "source": [
    "*with class*"
   ]
  },
  {
   "cell_type": "code",
   "execution_count": 42,
   "id": "external-validity",
   "metadata": {},
   "outputs": [],
   "source": [
    "class x:\n",
    "    local=20\n",
    "    \n",
    "    def __init__(self,a):\n",
    "        self.a=a\n",
    "        \n",
    "    def f1(self):\n",
    "        return self.a + self.local  #using local variabl in function f1\n",
    "    \n",
    "    def f2(self):\n",
    "        return self.local + self.local #using local variable in function f2\n",
    "    \n",
    "ob=x(10)"
   ]
  },
  {
   "cell_type": "code",
   "execution_count": 44,
   "id": "determined-announcement",
   "metadata": {},
   "outputs": [
    {
     "data": {
      "text/plain": [
       "30"
      ]
     },
     "execution_count": 44,
     "metadata": {},
     "output_type": "execute_result"
    }
   ],
   "source": [
    "ob.f1()"
   ]
  },
  {
   "cell_type": "code",
   "execution_count": 45,
   "id": "roman-agency",
   "metadata": {},
   "outputs": [
    {
     "data": {
      "text/plain": [
       "40"
      ]
     },
     "execution_count": 45,
     "metadata": {},
     "output_type": "execute_result"
    }
   ],
   "source": [
    "ob.f2()"
   ]
  }
 ],
 "metadata": {
  "kernelspec": {
   "display_name": "Python 3",
   "language": "python",
   "name": "python3"
  },
  "language_info": {
   "codemirror_mode": {
    "name": "ipython",
    "version": 3
   },
   "file_extension": ".py",
   "mimetype": "text/x-python",
   "name": "python",
   "nbconvert_exporter": "python",
   "pygments_lexer": "ipython3",
   "version": "3.7.10"
  }
 },
 "nbformat": 4,
 "nbformat_minor": 5
}
