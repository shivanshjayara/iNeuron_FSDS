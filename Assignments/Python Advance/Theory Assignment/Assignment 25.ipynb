{
 "cells": [
  {
   "cell_type": "markdown",
   "id": "rolled-frederick",
   "metadata": {},
   "source": [
    "**1. Is there any difference between a numpy array and a pandas data frame? If there is, how do you convert between the two?**"
   ]
  },
  {
   "cell_type": "markdown",
   "id": "sunset-jerusalem",
   "metadata": {},
   "source": [
    "Ans.\n",
    "\n",
    "Numpy array: \n",
    "\n",
    "This is in the form of matrix structure which have rows and columns. It generally performs python mathematical operation which is not genrally easy manually to perfomr in coding case.\n",
    "It may be of any dimensions like 1-d, 2-d, 3-d, 4-d, etc depend upon the use to requirement. Unlike dataframe, numpy array are not in a tabular form which ahve records and have fields instead it is in the form of matrices. It can have single row and single column as well but dataframe poses more than one column\n",
    "\n",
    "\n",
    "DataFrame: \n",
    "\n",
    "This is a kind of tabular structure format which are having more than one column. Unlike numpy array which can have more single as well as many number of columns, but dataframe have more than one column.\n",
    "Dataframe can have any number of dimensons but it should be more than one. We can use numpy array operation in dataframe and can also convert the numpy array into dataframe\n",
    "\n",
    "\n",
    "We can convert between the two in following manner:\n"
   ]
  },
  {
   "cell_type": "code",
   "execution_count": 4,
   "id": "secure-merit",
   "metadata": {},
   "outputs": [
    {
     "data": {
      "text/plain": [
       "array([[0, 1, 2, 3, 4],\n",
       "       [5, 6, 7, 8, 9]])"
      ]
     },
     "execution_count": 4,
     "metadata": {},
     "output_type": "execute_result"
    }
   ],
   "source": [
    "import pandas as pd\n",
    "import numpy as np\n",
    "\n",
    "array=np.arange(10).reshape(2,5)\n",
    "array"
   ]
  },
  {
   "cell_type": "code",
   "execution_count": 6,
   "id": "incoming-oregon",
   "metadata": {},
   "outputs": [
    {
     "data": {
      "text/html": [
       "<div>\n",
       "<style scoped>\n",
       "    .dataframe tbody tr th:only-of-type {\n",
       "        vertical-align: middle;\n",
       "    }\n",
       "\n",
       "    .dataframe tbody tr th {\n",
       "        vertical-align: top;\n",
       "    }\n",
       "\n",
       "    .dataframe thead th {\n",
       "        text-align: right;\n",
       "    }\n",
       "</style>\n",
       "<table border=\"1\" class=\"dataframe\">\n",
       "  <thead>\n",
       "    <tr style=\"text-align: right;\">\n",
       "      <th></th>\n",
       "      <th>0</th>\n",
       "      <th>1</th>\n",
       "      <th>2</th>\n",
       "      <th>3</th>\n",
       "      <th>4</th>\n",
       "    </tr>\n",
       "  </thead>\n",
       "  <tbody>\n",
       "    <tr>\n",
       "      <th>0</th>\n",
       "      <td>0</td>\n",
       "      <td>1</td>\n",
       "      <td>2</td>\n",
       "      <td>3</td>\n",
       "      <td>4</td>\n",
       "    </tr>\n",
       "    <tr>\n",
       "      <th>1</th>\n",
       "      <td>5</td>\n",
       "      <td>6</td>\n",
       "      <td>7</td>\n",
       "      <td>8</td>\n",
       "      <td>9</td>\n",
       "    </tr>\n",
       "  </tbody>\n",
       "</table>\n",
       "</div>"
      ],
      "text/plain": [
       "   0  1  2  3  4\n",
       "0  0  1  2  3  4\n",
       "1  5  6  7  8  9"
      ]
     },
     "execution_count": 6,
     "metadata": {},
     "output_type": "execute_result"
    }
   ],
   "source": [
    "df=pd.DataFrame(array)\n",
    "df"
   ]
  },
  {
   "cell_type": "code",
   "execution_count": 8,
   "id": "embedded-cleveland",
   "metadata": {},
   "outputs": [
    {
     "data": {
      "text/plain": [
       "array([[0, 1, 2, 3, 4],\n",
       "       [5, 6, 7, 8, 9]])"
      ]
     },
     "execution_count": 8,
     "metadata": {},
     "output_type": "execute_result"
    }
   ],
   "source": [
    "df.to_numpy()"
   ]
  },
  {
   "cell_type": "markdown",
   "id": "olympic-license",
   "metadata": {},
   "source": [
    "**2. What things can go wrong when a user enters a stock-ticker symbol, and how should you respond?**"
   ]
  },
  {
   "cell_type": "markdown",
   "id": "bright-thermal",
   "metadata": {},
   "source": [
    "**3. Name some of the plotting methods used to create a stock-market chart.**"
   ]
  },
  {
   "cell_type": "markdown",
   "id": "patent-conflict",
   "metadata": {},
   "source": [
    "Ans:\n",
    "    \n",
    "* LINE CHART: \n",
    "* POINT AND FIGURE CHART:\n",
    "* CANDLESTICK CHART:\n",
    "* BAR CHART:"
   ]
  },
  {
   "cell_type": "markdown",
   "id": "thick-prophet",
   "metadata": {},
   "source": [
    "**4. In a stock-market chart, why is it important to print a legend? (Note: We’re not talking about Hercules, King Arthur, or Batman.)**"
   ]
  },
  {
   "cell_type": "markdown",
   "id": "premier-garbage",
   "metadata": {},
   "source": [
    "Ans.\n",
    "\n",
    "Legends adds a beauty to visualize the trend of data w.r.t. different features. It creates the different trend in different colors indicating that which is belong to which trend is belong to which feature"
   ]
  },
  {
   "cell_type": "markdown",
   "id": "superb-panic",
   "metadata": {},
   "source": [
    "\n",
    "**5. How do you restrict the duration of a pandas data frame so that it covers less than a year’s time?**\n"
   ]
  },
  {
   "cell_type": "markdown",
   "id": "aquatic-checklist",
   "metadata": {},
   "source": [
    "We can use start and end parameters for that. In start we write the date from where we are starting and at the end we write the end date. SO within this span we can restric the duration. Also we can use the parameters like periods for how much times we need the duration and we can also use the frequency parameter."
   ]
  },
  {
   "cell_type": "markdown",
   "id": "announced-malta",
   "metadata": {},
   "source": [
    "\n",
    "**6. What is a 180-day moving average?**\n"
   ]
  },
  {
   "cell_type": "markdown",
   "id": "urban-imagination",
   "metadata": {},
   "source": [
    "Ans.\n",
    "\n",
    "Moving Averages help to filter out market noise and smooth out fluctuations in price.\n",
    "In statistics, a moving average is a calculation used to analyze data points by creating a series of averages of different subsets of the full data set.\n",
    "\n",
    "180-day moving average means A simple moving average (SMA) is a arithmetic mean of a given set of prices over the 180 days in the past"
   ]
  }
 ],
 "metadata": {
  "kernelspec": {
   "display_name": "Python 3",
   "language": "python",
   "name": "python3"
  },
  "language_info": {
   "codemirror_mode": {
    "name": "ipython",
    "version": 3
   },
   "file_extension": ".py",
   "mimetype": "text/x-python",
   "name": "python",
   "nbconvert_exporter": "python",
   "pygments_lexer": "ipython3",
   "version": "3.7.9"
  }
 },
 "nbformat": 4,
 "nbformat_minor": 5
}
