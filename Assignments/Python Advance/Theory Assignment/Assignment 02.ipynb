{
 "cells": [
  {
   "cell_type": "markdown",
   "id": "unusual-peripheral",
   "metadata": {},
   "source": [
    "**1. How are classes related to modules?**"
   ]
  },
  {
   "cell_type": "markdown",
   "id": "connected-anaheim",
   "metadata": {},
   "source": [
    "Ans. Classes are related to modules. When we create a class and save it as .py file, then we have actually created a module.\n",
    "So we can call it by using simple import keyword following the file name where class was created. Then we can use the class.\n",
    "\n",
    "Example:  mod.py is a file in which class student is created. Then what we do is:\n",
    "        \n",
    "**from** mod **import** student\n",
    "\n",
    "ob=student()   #creating class instance for calling data... "
   ]
  },
  {
   "cell_type": "markdown",
   "id": "stable-mouse",
   "metadata": {},
   "source": [
    "**2. How are instances and classes created?**"
   ]
  },
  {
   "cell_type": "code",
   "execution_count": null,
   "id": "sharing-commissioner",
   "metadata": {},
   "outputs": [],
   "source": [
    "Ans.\n",
    "\n",
    "Following is the steps by which we can create a class and its instances\n",
    "\n",
    "class student:          #class created\n",
    "    def __init__(self):\n",
    "        ------\n",
    "        ------\n",
    "        \n",
    "class_instance=student()   #instance created"
   ]
  },
  {
   "cell_type": "markdown",
   "id": "likely-egypt",
   "metadata": {},
   "source": [
    "**3. Where and how are class attributes created?**"
   ]
  },
  {
   "cell_type": "code",
   "execution_count": null,
   "id": "biological-singer",
   "metadata": {},
   "outputs": [],
   "source": [
    "Ans.\n",
    "\n",
    "# under the class where class name define and above the __ini__ function class attributes are created. Like:\n",
    "    \n",
    "class student:\n",
    "    cls_attribute=10    #class attribute is created\n",
    "    \n",
    "    def __init__(self):\n",
    "        pass\n",
    "        \n",
    "object=student()  \n",
    "\n",
    "student.cls_attribute  o/p: 10\n",
    "object.cl_attribute   o/p: 10"
   ]
  },
  {
   "cell_type": "markdown",
   "id": "ahead-scratch",
   "metadata": {},
   "source": [
    "**4. Where and how are instance attributes created?**"
   ]
  },
  {
   "cell_type": "code",
   "execution_count": null,
   "id": "supposed-funeral",
   "metadata": {},
   "outputs": [],
   "source": [
    "Ans.\n",
    "under the __ini__ function class attributes are created. Like:\n",
    "    \n",
    "class student:\n",
    "    \n",
    "    def __init__(self,attr1,attr2,attr3):   # instaattribues are created\n",
    "        self.a1=attr1                       #attributes are initialise\n",
    "        self.a2=attr2\n",
    "        self.a3=attr3\n",
    "        \n",
    "object=student(1,2,3)  #these values will pass to the attibutes above respectively\n",
    "\n",
    "\n",
    "object.a1   o/p: 1\n",
    "object.a1   o/p: 2\n",
    "object.a1   o/p: 3"
   ]
  },
  {
   "cell_type": "markdown",
   "id": "rocky-envelope",
   "metadata": {},
   "source": [
    "**5. What does self mean in a Python class?**"
   ]
  },
  {
   "cell_type": "markdown",
   "id": "directed-taste",
   "metadata": {},
   "source": [
    "Ans.\n",
    "A self act as a pointer to itself. Meaning it pointing to the instance/object, of a class created, binding with the variable which has been initialize and are sending to the class by using __init__() function. "
   ]
  },
  {
   "cell_type": "markdown",
   "id": "occupied-pasta",
   "metadata": {},
   "source": [
    "**6. How is operator overloading coded in a Python class?**"
   ]
  },
  {
   "cell_type": "code",
   "execution_count": 51,
   "id": "genuine-kuwait",
   "metadata": {},
   "outputs": [
    {
     "name": "stdout",
     "output_type": "stream",
     "text": [
      "shivanshjayara\n",
      "40\n"
     ]
    }
   ],
   "source": [
    "#Ans \n",
    "\n",
    "# Operator overloading means we can use same operator for different purposes base on their type. \n",
    "# Like '+' operator can add two integer value and can concatenate the two strings.\n",
    "\n",
    "# part 1)\n",
    "\n",
    "class student:\n",
    "    def __init__(self,x):\n",
    "        self.x=x\n",
    "    \n",
    "    def __add__(self,other):   #addition builtin function known as magic method\n",
    "        return self.x+other.x\n",
    "    \n",
    "object1=student('shivansh')\n",
    "object2=student('jayara')\n",
    "object3=student(10)\n",
    "object4=student(30)\n",
    "print(object1+object2) # using '+' operator to call __add__ builtin function\n",
    "print(object3+object4) #concatenitaion the two stringprint(object3+object4)"
   ]
  },
  {
   "cell_type": "markdown",
   "id": "steady-ebony",
   "metadata": {},
   "source": [
    "**7. When might you want to support operator overloading in your classes?**"
   ]
  },
  {
   "cell_type": "markdown",
   "id": "formal-breakdown",
   "metadata": {},
   "source": [
    "Ans.\n",
    "\n",
    "When we want our operator perform more than one operation in our class with different objects then wetry to use operator overloading.\n",
    "Like if we call a magic method say '_ _ _add_ _ _', then we can use this method to summing up the integers which is stored in some objects as well we can concatenate the strings which are store in some other objects.\n",
    "\n",
    "Meaning same '+' operator is used for performing different operation based on the different data type given."
   ]
  },
  {
   "cell_type": "markdown",
   "id": "royal-ecuador",
   "metadata": {},
   "source": [
    "**8. Which operator overloading method is most commonly used?**"
   ]
  },
  {
   "cell_type": "markdown",
   "id": "equipped-howard",
   "metadata": {},
   "source": [
    "Ans\n",
    "\n",
    "Generally addition operator is use mostly for operator overloading by using magic method _ _ _add_ _ _ "
   ]
  },
  {
   "cell_type": "markdown",
   "id": "opposed-update",
   "metadata": {},
   "source": [
    "**9. What are two key concepts required to understand Python OOP code?**"
   ]
  },
  {
   "cell_type": "markdown",
   "id": "split-curve",
   "metadata": {},
   "source": [
    "Ans.\n",
    "\n",
    "Two key concept required to understand python OOP code are:  inheritance and polymorphism\n",
    "    \n",
    "- Inheritence: It means inheriting the properties and behaviour of the parent class to the child class.. We do not then required to initialse the data again and again once we inherit the data from the parent class.\n",
    "    \n",
    "- Polymorphism: It means many form. Under the class a function can take many form with the same name. It only differe from others by its parameter or the way it is being operate. Function overloading and overriding comes under this concept."
   ]
  },
  {
   "cell_type": "code",
   "execution_count": null,
   "id": "sapphire-evening",
   "metadata": {},
   "outputs": [],
   "source": []
  }
 ],
 "metadata": {
  "kernelspec": {
   "display_name": "Python 3",
   "language": "python",
   "name": "python3"
  },
  "language_info": {
   "codemirror_mode": {
    "name": "ipython",
    "version": 3
   },
   "file_extension": ".py",
   "mimetype": "text/x-python",
   "name": "python",
   "nbconvert_exporter": "python",
   "pygments_lexer": "ipython3",
   "version": "3.7.10"
  }
 },
 "nbformat": 4,
 "nbformat_minor": 5
}
