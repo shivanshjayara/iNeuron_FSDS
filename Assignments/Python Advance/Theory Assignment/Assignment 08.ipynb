{
 "cells": [
  {
   "cell_type": "markdown",
   "id": "emerging-bench",
   "metadata": {},
   "source": [
    "**1. What are the two new constraints on user-defined exceptions in Python 3.X?**"
   ]
  },
  {
   "cell_type": "markdown",
   "id": "earned-mayor",
   "metadata": {},
   "source": [
    "Ans.\n",
    "\n",
    "1) **raise statement:** With the help of raise keyword we can create a user defined exceptions\n",
    "\n",
    "2) **assert statement:** With the help of the assert keyword we can create an assertion error.\n"
   ]
  },
  {
   "cell_type": "markdown",
   "id": "basic-copper",
   "metadata": {},
   "source": [
    "**2. How are raised class-based exceptions matched to handlers?**"
   ]
  },
  {
   "cell_type": "markdown",
   "id": "unique-douglas",
   "metadata": {},
   "source": [
    "Ans\n",
    "\n",
    "We uses **try** and **except** bock for printing out the exceptions we have raised by using **raise** statement. Example is:"
   ]
  },
  {
   "cell_type": "code",
   "execution_count": 16,
   "id": "continuous-reader",
   "metadata": {},
   "outputs": [
    {
     "name": "stdout",
     "output_type": "stream",
     "text": [
      "This is not under the condition\n"
     ]
    }
   ],
   "source": [
    "a=1\n",
    "\n",
    "try:\n",
    "    if a<5:\n",
    "        raise Exception('This is not under the condition')\n",
    "    print('Value if a is: ',a)\n",
    "    \n",
    "except Exception as e:\n",
    "    print(e)"
   ]
  },
  {
   "cell_type": "markdown",
   "id": "statutory-worship",
   "metadata": {},
   "source": [
    "**3. Name two ways that you can attach context information to exception objects.**"
   ]
  },
  {
   "cell_type": "markdown",
   "id": "comparable-collins",
   "metadata": {},
   "source": [
    "Ans:\n",
    "    \n",
    "Following are the two ways through whcih we can give context information to the exception object. Here object is **e** and we are providing the information to it"
   ]
  },
  {
   "cell_type": "code",
   "execution_count": 22,
   "id": "external-stopping",
   "metadata": {},
   "outputs": [
    {
     "name": "stdout",
     "output_type": "stream",
     "text": [
      "This is not under the condition\n"
     ]
    }
   ],
   "source": [
    "# 1) \n",
    "\n",
    "a=1\n",
    "\n",
    "try:\n",
    "    if a<5:\n",
    "        raise Exception('This is not under the condition')\n",
    "    print('Value if a is: ',a)\n",
    "    \n",
    "except Exception as e:\n",
    "    print(e)"
   ]
  },
  {
   "cell_type": "code",
   "execution_count": 21,
   "id": "revolutionary-paragraph",
   "metadata": {},
   "outputs": [
    {
     "name": "stdout",
     "output_type": "stream",
     "text": [
      "Not applicable\n"
     ]
    }
   ],
   "source": [
    "# 2)\n",
    "\n",
    "a=1\n",
    "b=0\n",
    "try:\n",
    "    div=a/b\n",
    "except Exception as e:\n",
    "    print('Not applicable')\n",
    "else:\n",
    "    print(div)"
   ]
  },
  {
   "cell_type": "markdown",
   "id": "retired-kingdom",
   "metadata": {},
   "source": [
    "**4. Name two ways that you can specify the error message text for exception objects.**"
   ]
  },
  {
   "cell_type": "code",
   "execution_count": 35,
   "id": "minimal-marking",
   "metadata": {},
   "outputs": [
    {
     "name": "stdout",
     "output_type": "stream",
     "text": [
      "Error is: division by zero\n"
     ]
    }
   ],
   "source": [
    "# way 1)\n",
    "\n",
    "\n",
    "a=1\n",
    "b=0\n",
    "try:\n",
    "    div=a/b\n",
    "except Exception as e:\n",
    "    print(f'Error is: {e}')\n",
    "else:\n",
    "    print(div)"
   ]
  },
  {
   "cell_type": "code",
   "execution_count": 33,
   "id": "arranged-right",
   "metadata": {},
   "outputs": [
    {
     "name": "stdout",
     "output_type": "stream",
     "text": [
      "Error is: division by zero\n"
     ]
    }
   ],
   "source": [
    "# way 2\n",
    "\n",
    "a=1\n",
    "b=0\n",
    "try:\n",
    "    div=a/b\n",
    "except ZeroDivisionError as e:\n",
    "    print(f'Error is: {e}')"
   ]
  },
  {
   "cell_type": "markdown",
   "id": "transsexual-delight",
   "metadata": {},
   "source": [
    "**5. Why should you not use string-based exceptions anymore today?**"
   ]
  },
  {
   "cell_type": "markdown",
   "id": "aerial-hunter",
   "metadata": {},
   "source": [
    "Ans.\n",
    "\n",
    "String based exceptions are the messages which we give by ourself so that when error occurs then instead of original exception error message, we get that message which we have written in the string form.\n",
    "But this has some drawback. Suppose an error occured and we wanted to know that which kind or type of error it is, there it failed because we have given the customised error message. \n",
    "\n",
    "So even if wanted to change the mistake occured associated with that error, will be difficult to rectify."
   ]
  },
  {
   "cell_type": "code",
   "execution_count": null,
   "id": "moving-nancy",
   "metadata": {},
   "outputs": [],
   "source": []
  }
 ],
 "metadata": {
  "kernelspec": {
   "display_name": "Python 3",
   "language": "python",
   "name": "python3"
  },
  "language_info": {
   "codemirror_mode": {
    "name": "ipython",
    "version": 3
   },
   "file_extension": ".py",
   "mimetype": "text/x-python",
   "name": "python",
   "nbconvert_exporter": "python",
   "pygments_lexer": "ipython3",
   "version": "3.7.10"
  }
 },
 "nbformat": 4,
 "nbformat_minor": 5
}
