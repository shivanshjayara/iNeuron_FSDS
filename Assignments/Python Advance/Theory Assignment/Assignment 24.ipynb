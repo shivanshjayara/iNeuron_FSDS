{
 "cells": [
  {
   "cell_type": "markdown",
   "id": "comfortable-piece",
   "metadata": {},
   "source": [
    "**1. Is it valid to use more than one import statement to import the same module more than once? What would be the purpose? Can you think of a scenario in which it would be useful?**"
   ]
  },
  {
   "cell_type": "markdown",
   "id": "effective-while",
   "metadata": {},
   "source": [
    "Ans.\n",
    "\n",
    "Yes we can use more than one import statement to import the same module more than once.\n",
    "\n",
    "This is com einto action when support we want to import some other function or class from the base class of any module for example.\n",
    "\n",
    "from sklearn.preprocessing import LabelEncoder\n",
    "\n",
    "\n",
    "from sklearn.linear_model import LinearRegression\n",
    "\n",
    "etc., etc,......"
   ]
  },
  {
   "cell_type": "markdown",
   "id": "peaceful-columbia",
   "metadata": {},
   "source": [
    "**2. What are some attributes of a module? (Name at least one.)**"
   ]
  },
  {
   "cell_type": "markdown",
   "id": "finite-eagle",
   "metadata": {},
   "source": [
    "Ans.\n",
    "\n",
    "**_ _ name _ _**: It returns the name of the module\n",
    "\n",
    "**_ _ doc _ _**: It denotes the documentation string line written in a module code.\n",
    "    \n",
    "**_ _ file _ _**: It holds the name and path of the module file from which it is loaded\n",
    "    \n",
    "**_ _ dict _ _**: It return a dictionary object of module attributes, functions and other definitions and their respective values."
   ]
  },
  {
   "cell_type": "markdown",
   "id": "threaded-insurance",
   "metadata": {},
   "source": [
    "**3. The use of circular importing— such as two modules importing each other— can create dependencies and hidden bugs. How might you design a program to avoid mutual importing?**"
   ]
  },
  {
   "cell_type": "markdown",
   "id": "historical-scroll",
   "metadata": {},
   "source": [
    "Ans.\n",
    "\n",
    "Circular importing means importing the two modules in each other. If suppose we are wokring in MOD1.py file and it is importing some function say F2() from some other module say\n",
    "MOD2.PY file or we can do vice-versa. What will happen is: This will give an **import error**.\n",
    "    \n",
    "This is because when we import F2() function from module MOD2.py, then this will execute MOD2.py file. And in MOD2.py file there is an another statement of importing MOD1.py module. This will result in endless loop.\n",
    "To avoid this error just do one thing- \n",
    "\n",
    "We can use **if _ _ name _ _ == '__main__'**\n",
    "    \n",
    "In the function, you can't directly refer to the function in the program. The addition of this sentence avoids the endless loop of the program"
   ]
  },
  {
   "cell_type": "markdown",
   "id": "imposed-gates",
   "metadata": {},
   "source": [
    "**4. What is the purpose of _ _all_ _ in Python?**"
   ]
  },
  {
   "cell_type": "markdown",
   "id": "cloudy-glasgow",
   "metadata": {},
   "source": [
    "Ans.\n",
    "\n",
    "It specifies all the modules present in the particular library and those can be called when we use import * "
   ]
  },
  {
   "cell_type": "markdown",
   "id": "assisted-sensitivity",
   "metadata": {},
   "source": [
    "**5. In what situation is it useful to refer to the _ _name_ _ attribute or the string '_ _main_ _'?**"
   ]
  },
  {
   "cell_type": "markdown",
   "id": "disturbed-assumption",
   "metadata": {},
   "source": [
    "Ans.\n",
    "\n",
    "During the time of execution of the code if we want to refer the module in which we are working on then we uses _ _ name _ _ attribute. In that case it will return the module in which we are working on. Suppose if that moudle is being imported from some other module then _ _ name _ _ will have the name of that moudle from where the current module has been imported. The current module in which we are working is refer to the string '_ _main_ _'"
   ]
  },
  {
   "cell_type": "markdown",
   "id": "finished-shock",
   "metadata": {},
   "source": [
    "**6. In working with the RPN interpreter application— which interprets an RPN script, line by line— what are some purposes of adding a program counter**"
   ]
  },
  {
   "cell_type": "code",
   "execution_count": null,
   "id": "smaller-romania",
   "metadata": {},
   "outputs": [],
   "source": []
  },
  {
   "cell_type": "markdown",
   "id": "weird-baltimore",
   "metadata": {},
   "source": [
    "**7. In designing a simple programming language such as RPN, what are the minimum expressions or statements (or both) that you’d need to make the language primitive but complete— that is, able to make it theoretically possible to carry out any computerized task?**"
   ]
  },
  {
   "cell_type": "code",
   "execution_count": null,
   "id": "spoken-syracuse",
   "metadata": {},
   "outputs": [],
   "source": []
  }
 ],
 "metadata": {
  "kernelspec": {
   "display_name": "Python 3",
   "language": "python",
   "name": "python3"
  },
  "language_info": {
   "codemirror_mode": {
    "name": "ipython",
    "version": 3
   },
   "file_extension": ".py",
   "mimetype": "text/x-python",
   "name": "python",
   "nbconvert_exporter": "python",
   "pygments_lexer": "ipython3",
   "version": "3.7.9"
  }
 },
 "nbformat": 4,
 "nbformat_minor": 5
}
