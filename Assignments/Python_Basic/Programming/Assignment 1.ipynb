{
 "cells": [
  {
   "cell_type": "markdown",
   "id": "tamil-texture",
   "metadata": {},
   "source": [
    "**1.Write a Python program to print \"Hello Python\"?**"
   ]
  },
  {
   "cell_type": "code",
   "execution_count": 10,
   "id": "senior-stuff",
   "metadata": {},
   "outputs": [
    {
     "name": "stdout",
     "output_type": "stream",
     "text": [
      "Hello Python\n"
     ]
    }
   ],
   "source": [
    "print('Hello Python')"
   ]
  },
  {
   "cell_type": "markdown",
   "id": "demanding-collector",
   "metadata": {},
   "source": [
    "**2.Write a Python program to do arithmetical operations addition and division.?**"
   ]
  },
  {
   "cell_type": "code",
   "execution_count": 12,
   "id": "monthly-seeker",
   "metadata": {},
   "outputs": [
    {
     "name": "stdout",
     "output_type": "stream",
     "text": [
      "Sum of 1 and 2 is : 3\n"
     ]
    }
   ],
   "source": [
    "a=1\n",
    "b=2\n",
    "print(f'Sum of {a} and {b} is : {a+b}')"
   ]
  },
  {
   "cell_type": "markdown",
   "id": "shaped-diabetes",
   "metadata": {},
   "source": [
    "**3.Write a Python program to find the area of a triangle?**"
   ]
  },
  {
   "cell_type": "code",
   "execution_count": 13,
   "id": "satellite-collectible",
   "metadata": {},
   "outputs": [
    {
     "name": "stdout",
     "output_type": "stream",
     "text": [
      "Area is : 36.0\n"
     ]
    }
   ],
   "source": [
    "b=12 # base os a triangle\n",
    "h=6 # height of a triangle\n",
    "\n",
    "Area= (b*h)/2\n",
    "print(f'Area is : {Area}')"
   ]
  },
  {
   "cell_type": "markdown",
   "id": "animated-danger",
   "metadata": {},
   "source": [
    "**4.Write a Python program to swap two variables**"
   ]
  },
  {
   "cell_type": "code",
   "execution_count": 17,
   "id": "expensive-mixture",
   "metadata": {},
   "outputs": [
    {
     "name": "stdout",
     "output_type": "stream",
     "text": [
      "Value of a is : 11\n",
      "Value of b is : 10\n"
     ]
    }
   ],
   "source": [
    "a=10\n",
    "b=11\n",
    "c=a\n",
    "a=b\n",
    "b=c\n",
    "print(f'Value of a is : {a}')\n",
    "print(f'Value of b is : {b}')"
   ]
  },
  {
   "cell_type": "markdown",
   "id": "retired-windsor",
   "metadata": {},
   "source": [
    "**5.Write a Python program to generate a random number?**"
   ]
  },
  {
   "cell_type": "code",
   "execution_count": 18,
   "id": "capital-berry",
   "metadata": {},
   "outputs": [],
   "source": [
    "import random"
   ]
  },
  {
   "cell_type": "code",
   "execution_count": 24,
   "id": "reported-patent",
   "metadata": {},
   "outputs": [
    {
     "data": {
      "text/plain": [
       "2"
      ]
     },
     "execution_count": 24,
     "metadata": {},
     "output_type": "execute_result"
    }
   ],
   "source": [
    "random.randint(1,6)"
   ]
  },
  {
   "cell_type": "code",
   "execution_count": null,
   "id": "objective-kingston",
   "metadata": {},
   "outputs": [],
   "source": []
  }
 ],
 "metadata": {
  "kernelspec": {
   "display_name": "Python 3",
   "language": "python",
   "name": "python3"
  },
  "language_info": {
   "codemirror_mode": {
    "name": "ipython",
    "version": 3
   },
   "file_extension": ".py",
   "mimetype": "text/x-python",
   "name": "python",
   "nbconvert_exporter": "python",
   "pygments_lexer": "ipython3",
   "version": "3.7.10"
  }
 },
 "nbformat": 4,
 "nbformat_minor": 5
}
