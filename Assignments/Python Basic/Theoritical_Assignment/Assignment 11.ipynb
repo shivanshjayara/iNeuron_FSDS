{
 "cells": [
  {
   "cell_type": "markdown",
   "id": "earlier-coaching",
   "metadata": {},
   "source": [
    "**1. Write an assert statement that triggers an AssertionError if the variable spam is an integer less than 10.**"
   ]
  },
  {
   "cell_type": "code",
   "execution_count": 25,
   "id": "emerging-settlement",
   "metadata": {
    "scrolled": true
   },
   "outputs": [
    {
     "name": "stdout",
     "output_type": "stream",
     "text": [
      "Integer value is is not less than 10\n"
     ]
    }
   ],
   "source": [
    "# Ans. \n",
    "try:\n",
    "    x=11\n",
    "    assert x<10, 'Integer value is is not less than 10'\n",
    "except AssertionError as e:\n",
    "    print(e)\n",
    "else:\n",
    "    print(x)"
   ]
  },
  {
   "cell_type": "code",
   "execution_count": 28,
   "id": "married-timer",
   "metadata": {},
   "outputs": [
    {
     "ename": "AssertionError",
     "evalue": "Integer value is is not less than 10",
     "output_type": "error",
     "traceback": [
      "\u001b[1;31m---------------------------------------------------------------------------\u001b[0m",
      "\u001b[1;31mAssertionError\u001b[0m                            Traceback (most recent call last)",
      "\u001b[1;32m<ipython-input-28-846316c5fde8>\u001b[0m in \u001b[0;36m<module>\u001b[1;34m\u001b[0m\n\u001b[0;32m      1\u001b[0m \u001b[0mx\u001b[0m\u001b[1;33m=\u001b[0m\u001b[1;36m11\u001b[0m\u001b[1;33m\u001b[0m\u001b[1;33m\u001b[0m\u001b[0m\n\u001b[1;32m----> 2\u001b[1;33m \u001b[1;32massert\u001b[0m \u001b[0mx\u001b[0m\u001b[1;33m<\u001b[0m\u001b[1;36m10\u001b[0m\u001b[1;33m,\u001b[0m \u001b[1;34m'Integer value is is not less than 10'\u001b[0m\u001b[1;33m\u001b[0m\u001b[1;33m\u001b[0m\u001b[0m\n\u001b[0m\u001b[0;32m      3\u001b[0m \u001b[0mprint\u001b[0m\u001b[1;33m(\u001b[0m\u001b[0mx\u001b[0m\u001b[1;33m)\u001b[0m\u001b[1;33m\u001b[0m\u001b[1;33m\u001b[0m\u001b[0m\n",
      "\u001b[1;31mAssertionError\u001b[0m: Integer value is is not less than 10"
     ]
    }
   ],
   "source": [
    "x=11\n",
    "assert x<10, 'Integer value is is not less than 10'\n",
    "print(x)"
   ]
  },
  {
   "cell_type": "markdown",
   "id": "ordered-panic",
   "metadata": {},
   "source": [
    "**2. Write an assert statement that triggers an AssertionError if the variables eggs and bacon contain strings that are the same as each other, even if their cases are different (that is, 'hello' and 'hello' are considered the same, and 'goodbye' and 'GOODbye' are also considered the same).**"
   ]
  },
  {
   "cell_type": "code",
   "execution_count": 9,
   "id": "indirect-governor",
   "metadata": {
    "scrolled": true
   },
   "outputs": [
    {
     "ename": "AssertionError",
     "evalue": "HELLO and hello are not same values",
     "output_type": "error",
     "traceback": [
      "\u001b[1;31m---------------------------------------------------------------------------\u001b[0m",
      "\u001b[1;31mAssertionError\u001b[0m                            Traceback (most recent call last)",
      "\u001b[1;32m<ipython-input-9-e5671eb7a637>\u001b[0m in \u001b[0;36m<module>\u001b[1;34m\u001b[0m\n\u001b[0;32m      2\u001b[0m \u001b[0mbacon\u001b[0m\u001b[1;33m=\u001b[0m\u001b[1;34m'hello'\u001b[0m\u001b[1;33m\u001b[0m\u001b[1;33m\u001b[0m\u001b[0m\n\u001b[0;32m      3\u001b[0m \u001b[1;33m\u001b[0m\u001b[0m\n\u001b[1;32m----> 4\u001b[1;33m \u001b[1;32massert\u001b[0m \u001b[0meggs\u001b[0m\u001b[1;33m==\u001b[0m\u001b[0mbacon\u001b[0m\u001b[1;33m,\u001b[0m \u001b[1;34mf'{eggs} and {bacon} are not same values'\u001b[0m\u001b[1;33m\u001b[0m\u001b[1;33m\u001b[0m\u001b[0m\n\u001b[0m\u001b[0;32m      5\u001b[0m \u001b[0mprint\u001b[0m\u001b[1;33m(\u001b[0m\u001b[1;34m'Values are same'\u001b[0m\u001b[1;33m)\u001b[0m\u001b[1;33m\u001b[0m\u001b[1;33m\u001b[0m\u001b[0m\n",
      "\u001b[1;31mAssertionError\u001b[0m: HELLO and hello are not same values"
     ]
    }
   ],
   "source": [
    "eggs='HELLO'\n",
    "bacon='hello'\n",
    "\n",
    "assert eggs==bacon, f'{eggs} and {bacon} are not same values'\n",
    "print('Values are same')"
   ]
  },
  {
   "cell_type": "code",
   "execution_count": 31,
   "id": "middle-amendment",
   "metadata": {},
   "outputs": [
    {
     "name": "stdout",
     "output_type": "stream",
     "text": [
      "Values are not same\n"
     ]
    }
   ],
   "source": [
    "eggs='hell0'\n",
    "bacon='HELLO'\n",
    "\n",
    "try:\n",
    "    assert (eggs==bacon), 'Values are not same'\n",
    "except Exception as e:\n",
    "    print(e)"
   ]
  },
  {
   "cell_type": "markdown",
   "id": "funny-letters",
   "metadata": {},
   "source": [
    "**3. Write an assert statement that always triggers an AssertionError.**"
   ]
  },
  {
   "cell_type": "code",
   "execution_count": 16,
   "id": "assisted-resident",
   "metadata": {},
   "outputs": [
    {
     "name": "stdout",
     "output_type": "stream",
     "text": [
      "2.0\n"
     ]
    },
    {
     "ename": "AssertionError",
     "evalue": "This will always trigger the Assertion error",
     "output_type": "error",
     "traceback": [
      "\u001b[1;31m---------------------------------------------------------------------------\u001b[0m",
      "\u001b[1;31mAssertionError\u001b[0m                            Traceback (most recent call last)",
      "\u001b[1;32m<ipython-input-16-03d7473371fe>\u001b[0m in \u001b[0;36m<module>\u001b[1;34m\u001b[0m\n\u001b[0;32m      2\u001b[0m \u001b[0my\u001b[0m\u001b[1;33m=\u001b[0m\u001b[1;36m5\u001b[0m\u001b[1;33m\u001b[0m\u001b[1;33m\u001b[0m\u001b[0m\n\u001b[0;32m      3\u001b[0m \u001b[0mprint\u001b[0m\u001b[1;33m(\u001b[0m\u001b[0mx\u001b[0m\u001b[1;33m/\u001b[0m\u001b[0my\u001b[0m\u001b[1;33m)\u001b[0m\u001b[1;33m\u001b[0m\u001b[1;33m\u001b[0m\u001b[0m\n\u001b[1;32m----> 4\u001b[1;33m \u001b[1;32massert\u001b[0m \u001b[1;32mFalse\u001b[0m\u001b[1;33m,\u001b[0m \u001b[1;34m'This will always trigger the Assertion error'\u001b[0m\u001b[1;33m\u001b[0m\u001b[1;33m\u001b[0m\u001b[0m\n\u001b[0m\u001b[0;32m      5\u001b[0m \u001b[0mprint\u001b[0m\u001b[1;33m(\u001b[0m\u001b[0mx\u001b[0m\u001b[1;33m/\u001b[0m\u001b[0my\u001b[0m\u001b[1;33m)\u001b[0m\u001b[1;33m\u001b[0m\u001b[1;33m\u001b[0m\u001b[0m\n",
      "\u001b[1;31mAssertionError\u001b[0m: This will always trigger the Assertion error"
     ]
    }
   ],
   "source": [
    "x=10\n",
    "y=5\n",
    "print(x/y)\n",
    "assert False, 'This will always trigger the Assertion error'\n",
    "print(x/y)"
   ]
  },
  {
   "cell_type": "markdown",
   "id": "searching-mathematics",
   "metadata": {},
   "source": [
    "\n",
    "**4. What are the two lines that your program must have in order to be able to call logging.debug()?**\n",
    "\n"
   ]
  },
  {
   "cell_type": "markdown",
   "id": "muslim-sandwich",
   "metadata": {},
   "source": [
    "import logging\n",
    "\n",
    "\n",
    "logging.basicConfig(filename='./log_test_file.log', level=logging.DEBUG)"
   ]
  },
  {
   "cell_type": "markdown",
   "id": "nominated-organization",
   "metadata": {},
   "source": [
    "**5. What are the two lines that your program must have in order to have logging.debug() send a logging message to a file named programLog.txt?**"
   ]
  },
  {
   "cell_type": "markdown",
   "id": "painful-universe",
   "metadata": {},
   "source": [
    "logging.basicConfig(filename='./programLog.txt', level=logging.DEBUG)\n",
    "\n",
    "logging.debug('This is a first debugging log')"
   ]
  },
  {
   "cell_type": "markdown",
   "id": "typical-miller",
   "metadata": {},
   "source": [
    "**6. What are the five logging levels?**"
   ]
  },
  {
   "cell_type": "markdown",
   "id": "separate-legislature",
   "metadata": {},
   "source": [
    "Ans.\n",
    "\n",
    "1 INFO\n",
    "\n",
    "2 DEBUG\n",
    "\n",
    "3 WARNINGS\n",
    "\n",
    "4 EXCEPTION\n",
    "\n",
    "5 ERROR"
   ]
  },
  {
   "cell_type": "markdown",
   "id": "focused-contractor",
   "metadata": {},
   "source": [
    "**7. What line of code can you add to disable all logging messages in your program?**"
   ]
  },
  {
   "cell_type": "markdown",
   "id": "personalized-notification",
   "metadata": {},
   "source": [
    "import logging\n",
    "\n",
    "logging.disable()"
   ]
  },
  {
   "cell_type": "markdown",
   "id": "liked-atlantic",
   "metadata": {},
   "source": [
    "\n",
    "**8. Why is using logging messages better than using print() to display the same message?**"
   ]
  },
  {
   "cell_type": "markdown",
   "id": "forced-principle",
   "metadata": {},
   "source": [
    "Ans.\n",
    "This is because as a good programmer its our responsibility that we should create a logger instead of printing information it into console so that user do not get frustated after seeing so many error/messages and data in console amd this will also helpful because with logging we are storing the information in some file so that we can check the code flow even line by line.\n",
    "So it should be our practice that it we should capture the data into a log file so that whenever system gets crashed we can easliy able to see that log file rather than seeing in console which is something irritating and not a good practice. It can also be helpfull when some unwanted user uses the code, then we can easily able to get the line by line information.\n"
   ]
  },
  {
   "cell_type": "markdown",
   "id": "japanese-decimal",
   "metadata": {},
   "source": [
    "**9. What are the differences between the Step Over, Step In, and Step Out buttons in the debugger?**"
   ]
  },
  {
   "cell_type": "markdown",
   "id": "initial-aside",
   "metadata": {},
   "source": [
    "Ans.\n",
    "\n",
    "i) Step over: Steps over the current line of code and takes you to the next line even.\n",
    "\n",
    "ii)Step In: This will take you inside the respective function and show you want is happening inside.\n",
    "\n",
    "iii) Step Out: It will first exceute the current function (every line) completly and then take you out of the function where the pointer is at the position of function call."
   ]
  },
  {
   "cell_type": "markdown",
   "id": "olympic-jewel",
   "metadata": {},
   "source": [
    "**10 After you click Continue, when will the debugger stop?**"
   ]
  },
  {
   "cell_type": "markdown",
   "id": "adjusted-roller",
   "metadata": {},
   "source": [
    "Ans. \n",
    "\n",
    "If any breakpoint is mention in the program, then after reaching to that point debugging will stop."
   ]
  },
  {
   "cell_type": "markdown",
   "id": "effective-clothing",
   "metadata": {},
   "source": [
    "**11. What is a breakpoint?**"
   ]
  },
  {
   "cell_type": "markdown",
   "id": "fluid-latest",
   "metadata": {},
   "source": [
    "Ans.\n",
    "\n",
    "It is a point where the program will stop executing further."
   ]
  },
  {
   "cell_type": "markdown",
   "id": "bright-lewis",
   "metadata": {},
   "source": [
    "**12. How do you set a breakpoint on a line of code in Mu?**"
   ]
  },
  {
   "cell_type": "code",
   "execution_count": null,
   "id": "animal-tablet",
   "metadata": {},
   "outputs": [],
   "source": []
  }
 ],
 "metadata": {
  "kernelspec": {
   "display_name": "Python 3",
   "language": "python",
   "name": "python3"
  },
  "language_info": {
   "codemirror_mode": {
    "name": "ipython",
    "version": 3
   },
   "file_extension": ".py",
   "mimetype": "text/x-python",
   "name": "python",
   "nbconvert_exporter": "python",
   "pygments_lexer": "ipython3",
   "version": "3.7.10"
  }
 },
 "nbformat": 4,
 "nbformat_minor": 5
}
