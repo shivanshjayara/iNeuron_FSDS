{
 "cells": [
  {
   "cell_type": "markdown",
   "id": "expired-thread",
   "metadata": {},
   "source": [
    "**1. What are some features Excel spreadsheets have that CSV spread-sheets don’t?**"
   ]
  },
  {
   "cell_type": "markdown",
   "id": "novel-tourist",
   "metadata": {},
   "source": [
    "**Ans**\n",
    "\n",
    "There are many differences between csv file and excel files but main so following are some main differences mention:\n",
    "    \n",
    "- CSV file can not perform operations on data but Excel can. Because Excel has cells in which many function/operation can perform while csv is a plain file with delimitter.\n",
    "\n",
    "- CSV files are faster and also consumes less memory whereas Excel consumes more memory while importing data.\n",
    "\n",
    "- CSV files can be opened with any text editor in windows while Excel files can't be opened with text editors."
   ]
  },
  {
   "cell_type": "markdown",
   "id": "alien-distribution",
   "metadata": {},
   "source": [
    "**2. What do you pass to csv.reader() and csv.writer() to create reader and writer objects?**"
   ]
  },
  {
   "cell_type": "markdown",
   "id": "mobile-afternoon",
   "metadata": {},
   "source": [
    "**Ans**\n",
    "\n",
    "We will pass the file name (with path name if not i the same working directory) inside the parenthesis()."
   ]
  },
  {
   "cell_type": "markdown",
   "id": "modular-stock",
   "metadata": {},
   "source": [
    "**3. What modes do File objects for reader and writer objects need to be opened in?**"
   ]
  },
  {
   "cell_type": "markdown",
   "id": "vertical-shelter",
   "metadata": {},
   "source": [
    "**Ans**\n",
    "\n",
    "For read--> 'r'\n",
    "\n",
    "For write--> 'w'"
   ]
  },
  {
   "cell_type": "markdown",
   "id": "cultural-mattress",
   "metadata": {},
   "source": [
    "**4. What method takes a list argument and writes it to a CSV file?**"
   ]
  },
  {
   "cell_type": "markdown",
   "id": "horizontal-commerce",
   "metadata": {},
   "source": [
    "**Ans**\n",
    "\n",
    "writerow method"
   ]
  },
  {
   "cell_type": "markdown",
   "id": "solid-elements",
   "metadata": {},
   "source": [
    "\n",
    "**5. What do the delimiter and lineterminator keyword arguments do?**\n"
   ]
  },
  {
   "cell_type": "markdown",
   "id": "digital-costume",
   "metadata": {},
   "source": [
    "**Ans**\n",
    "\n",
    "- delimiter--> It is used to separate the character or values from other values when we save any file in csv format.\n",
    "\n",
    "- Lineterminator--> A lineterminator is a string used to terminate lines produced by writer objects.\n",
    "\n",
    "Example:\n",
    "\n",
    "delimiter = ';'    Value will be separated by semi colon ;\n",
    "\n",
    "lineterminator = '\\n\\n' After every row there are two new lines\n"
   ]
  },
  {
   "cell_type": "markdown",
   "id": "collect-dressing",
   "metadata": {},
   "source": [
    "\n",
    "**6. What function takes a string of JSON data and returns a Python data structure?**\n"
   ]
  },
  {
   "cell_type": "markdown",
   "id": "collect-sister",
   "metadata": {},
   "source": [
    "**Ans**\n",
    "\n",
    "In the json module there is a function called 'load'. This will take the data in json format and convert it into python data structure format"
   ]
  },
  {
   "cell_type": "markdown",
   "id": "restricted-giving",
   "metadata": {},
   "source": [
    "\n",
    "**7. What function takes a Python data structure and returns a string of JSON data?**"
   ]
  },
  {
   "cell_type": "markdown",
   "id": "tutorial-humidity",
   "metadata": {},
   "source": [
    "**Ans**\n",
    "\n",
    "dumps() method in json class"
   ]
  },
  {
   "cell_type": "code",
   "execution_count": null,
   "id": "medieval-chain",
   "metadata": {},
   "outputs": [],
   "source": []
  }
 ],
 "metadata": {
  "kernelspec": {
   "display_name": "Python 3",
   "language": "python",
   "name": "python3"
  },
  "language_info": {
   "codemirror_mode": {
    "name": "ipython",
    "version": 3
   },
   "file_extension": ".py",
   "mimetype": "text/x-python",
   "name": "python",
   "nbconvert_exporter": "python",
   "pygments_lexer": "ipython3",
   "version": "3.7.10"
  }
 },
 "nbformat": 4,
 "nbformat_minor": 5
}
