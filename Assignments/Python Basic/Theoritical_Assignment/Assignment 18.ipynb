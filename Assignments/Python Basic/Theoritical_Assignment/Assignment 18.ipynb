{
 "cells": [
  {
   "cell_type": "markdown",
   "id": "auburn-explosion",
   "metadata": {},
   "source": [
    "**1. Create a file called zoo.py. In it, define a function called hours() that prints the string 'Open 9-5 daily'. Then, use the interactive interpreter to import the zoo module and call its hours() function.**\n"
   ]
  },
  {
   "cell_type": "code",
   "execution_count": 6,
   "id": "central-corrections",
   "metadata": {},
   "outputs": [
    {
     "name": "stdout",
     "output_type": "stream",
     "text": [
      "Open 9-5 daily\n"
     ]
    }
   ],
   "source": [
    "import zoo\n",
    "\n",
    "zoo.hours()"
   ]
  },
  {
   "cell_type": "markdown",
   "id": "formed-typing",
   "metadata": {},
   "source": [
    "\n",
    "**2. In the interactive interpreter, import the zoo module as menagerie and call its hours() function.**\n",
    "\n"
   ]
  },
  {
   "cell_type": "code",
   "execution_count": 7,
   "id": "known-velvet",
   "metadata": {},
   "outputs": [
    {
     "name": "stdout",
     "output_type": "stream",
     "text": [
      "Open 9-5 daily\n"
     ]
    }
   ],
   "source": [
    "import zoo as menagerie\n",
    "\n",
    "menagerie.hours()"
   ]
  },
  {
   "cell_type": "markdown",
   "id": "descending-thong",
   "metadata": {},
   "source": [
    "\n",
    "**3. Staying in the interpreter, import the hours() function from zoo directly and call it.**"
   ]
  },
  {
   "cell_type": "code",
   "execution_count": 8,
   "id": "circular-water",
   "metadata": {},
   "outputs": [
    {
     "name": "stdout",
     "output_type": "stream",
     "text": [
      "Open 9-5 daily\n"
     ]
    }
   ],
   "source": [
    "from zoo import hours\n",
    "\n",
    "hours()"
   ]
  },
  {
   "cell_type": "markdown",
   "id": "interior-argument",
   "metadata": {},
   "source": [
    "\n",
    "**4. Import the hours() function as info and call it.**\n"
   ]
  },
  {
   "cell_type": "code",
   "execution_count": 9,
   "id": "junior-spending",
   "metadata": {},
   "outputs": [
    {
     "name": "stdout",
     "output_type": "stream",
     "text": [
      "Open 9-5 daily\n"
     ]
    }
   ],
   "source": [
    "from zoo import hours as info\n",
    "\n",
    "info()"
   ]
  },
  {
   "cell_type": "markdown",
   "id": "earned-mentor",
   "metadata": {},
   "source": [
    "\n",
    "**5. Make a dictionary called plain with the key-value pairs 'a': 1, 'b': 2, and 'c': 3, and then print it.**\n",
    "\n"
   ]
  },
  {
   "cell_type": "code",
   "execution_count": 10,
   "id": "entertaining-corpus",
   "metadata": {},
   "outputs": [
    {
     "name": "stdout",
     "output_type": "stream",
     "text": [
      "{'a': 1, 'b': 2, 'c': 3}\n"
     ]
    }
   ],
   "source": [
    "plain={'a':1,'b':2,'c':3}\n",
    "print(plain)"
   ]
  },
  {
   "cell_type": "markdown",
   "id": "satellite-fourth",
   "metadata": {},
   "source": [
    "**6. Make an OrderedDict called fancy from the same pairs listed in 5 and print it. Did it print in the same order as plain?**\n",
    "\n"
   ]
  },
  {
   "cell_type": "code",
   "execution_count": 13,
   "id": "realistic-pharmacy",
   "metadata": {},
   "outputs": [
    {
     "name": "stdout",
     "output_type": "stream",
     "text": [
      "{'a': 1, 'b': 2, 'c': 3}\n"
     ]
    }
   ],
   "source": [
    "from collections import OrderedDict\n",
    "\n",
    "fancy=OrderedDict()\n",
    "\n",
    "fancy['a']=1\n",
    "fancy['b']=2\n",
    "fancy['c']=3\n",
    "\n",
    "print(dict(fancy))"
   ]
  },
  {
   "cell_type": "markdown",
   "id": "attractive-classroom",
   "metadata": {},
   "source": [
    "Yes print the same order"
   ]
  },
  {
   "cell_type": "markdown",
   "id": "attractive-mobility",
   "metadata": {},
   "source": [
    "**7. Make a defaultdict called dict_of_lists and pass it the argument list. Make the list dict_of_lists['a'] and append the value 'something for a' to it in one assignment. Print dict_of_lists['a'].**\n"
   ]
  },
  {
   "cell_type": "code",
   "execution_count": 14,
   "id": "mighty-charity",
   "metadata": {},
   "outputs": [],
   "source": [
    "dict_of_lists={}\n",
    "\n",
    "dict_of_lists['a']='letter a'"
   ]
  },
  {
   "cell_type": "code",
   "execution_count": 15,
   "id": "economic-spokesman",
   "metadata": {},
   "outputs": [
    {
     "data": {
      "text/plain": [
       "{'a': 'letter a'}"
      ]
     },
     "execution_count": 15,
     "metadata": {},
     "output_type": "execute_result"
    }
   ],
   "source": [
    "dict_of_lists"
   ]
  },
  {
   "cell_type": "code",
   "execution_count": 16,
   "id": "urban-sector",
   "metadata": {},
   "outputs": [
    {
     "data": {
      "text/plain": [
       "'letter a'"
      ]
     },
     "execution_count": 16,
     "metadata": {},
     "output_type": "execute_result"
    }
   ],
   "source": [
    "dict_of_lists['a']"
   ]
  },
  {
   "cell_type": "code",
   "execution_count": null,
   "id": "durable-victim",
   "metadata": {},
   "outputs": [],
   "source": []
  }
 ],
 "metadata": {
  "kernelspec": {
   "display_name": "Python 3",
   "language": "python",
   "name": "python3"
  },
  "language_info": {
   "codemirror_mode": {
    "name": "ipython",
    "version": 3
   },
   "file_extension": ".py",
   "mimetype": "text/x-python",
   "name": "python",
   "nbconvert_exporter": "python",
   "pygments_lexer": "ipython3",
   "version": "3.7.10"
  }
 },
 "nbformat": 4,
 "nbformat_minor": 5
}
