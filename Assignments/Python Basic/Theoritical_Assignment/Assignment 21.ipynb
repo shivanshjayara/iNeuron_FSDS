{
 "cells": [
  {
   "cell_type": "markdown",
   "id": "charitable-layout",
   "metadata": {},
   "source": [
    "**1. Write the current date as a string to the text file today.txt.**\n",
    "\n"
   ]
  },
  {
   "cell_type": "code",
   "execution_count": 79,
   "id": "broad-hartford",
   "metadata": {},
   "outputs": [
    {
     "name": "stdout",
     "output_type": "stream",
     "text": [
      "2021-04-16 04:28:44.478334\n"
     ]
    }
   ],
   "source": [
    "import datetime\n",
    "\n",
    "today=datetime.datetime.now()\n",
    "print(today)"
   ]
  },
  {
   "cell_type": "code",
   "execution_count": 80,
   "id": "removed-louisiana",
   "metadata": {},
   "outputs": [
    {
     "name": "stdout",
     "output_type": "stream",
     "text": [
      "16/04/2021\n"
     ]
    }
   ],
   "source": [
    "today_str=today.strftime('%d/%m/%Y')\n",
    "print(today_str)\n",
    "\n",
    "with open('today.txt','w') as file:\n",
    "    file.write(today_str)"
   ]
  },
  {
   "cell_type": "markdown",
   "id": "worst-authorization",
   "metadata": {},
   "source": [
    "\n",
    "**2. Read the text file today.txt into the string today_string.**\n"
   ]
  },
  {
   "cell_type": "code",
   "execution_count": 81,
   "id": "grand-bicycle",
   "metadata": {},
   "outputs": [
    {
     "name": "stdout",
     "output_type": "stream",
     "text": [
      "16/04/2021\n"
     ]
    }
   ],
   "source": [
    "with open('today.txt') as file_r:\n",
    "    today_string=file_r.read()\n",
    "    print(today_string)"
   ]
  },
  {
   "cell_type": "markdown",
   "id": "working-leather",
   "metadata": {},
   "source": [
    "\n",
    "**3. Parse the date from today_string.**\n"
   ]
  },
  {
   "cell_type": "code",
   "execution_count": 82,
   "id": "raised-circulation",
   "metadata": {},
   "outputs": [
    {
     "data": {
      "text/plain": [
       "'16/04/2021'"
      ]
     },
     "execution_count": 82,
     "metadata": {},
     "output_type": "execute_result"
    }
   ],
   "source": [
    "today_string"
   ]
  },
  {
   "cell_type": "code",
   "execution_count": 83,
   "id": "consistent-nancy",
   "metadata": {},
   "outputs": [],
   "source": [
    "parse=datetime.datetime.strptime(today_string,'%d/%m/%Y')"
   ]
  },
  {
   "cell_type": "code",
   "execution_count": 85,
   "id": "respected-tenant",
   "metadata": {},
   "outputs": [
    {
     "name": "stdout",
     "output_type": "stream",
     "text": [
      "2021-04-16\n",
      "<class 'datetime.datetime'>\n"
     ]
    }
   ],
   "source": [
    "print(parse.date())\n",
    "print(type(parse))"
   ]
  },
  {
   "cell_type": "markdown",
   "id": "comfortable-devil",
   "metadata": {},
   "source": [
    "\n",
    "**4. List the files in your current directory.**\n"
   ]
  },
  {
   "cell_type": "code",
   "execution_count": 95,
   "id": "electoral-legislation",
   "metadata": {},
   "outputs": [
    {
     "name": "stdout",
     "output_type": "stream",
     "text": [
      "['12.db', 'Assignment 01.ipynb', 'Assignment 02.ipynb', 'Assignment 03.ipynb', 'Assignment 04.ipynb', 'Assignment 05.ipynb', 'Assignment 06.ipynb', 'Assignment 07 (Regex unsolved).ipynb', 'Assignment 08 (Unsolved).ipynb', 'Assignment 09.ipynb', 'Assignment 10.ipynb', 'Assignment 11.ipynb', 'Assignment 12.ipynb', 'Assignment 13.ipynb', 'Assignment 14(Unsolved).ipynb', 'Assignment 15.ipynb', 'Assignment 16.ipynb', 'Assignment 17.ipynb', 'Assignment 18.ipynb', 'Assignment 19.ipynb', 'Assignment 20.ipynb', 'Assignment 21.ipynb', 'book.csv', 'books.csv', 'books.db', 'boos.db', 'test.txt', 'today.txt', 'zoo.py']\n",
      " ['Assignment 01-checkpoint.ipynb', 'Assignment 02-checkpoint.ipynb', 'Assignment 03-checkpoint.ipynb', 'Assignment 04-checkpoint.ipynb', 'Assignment 05-checkpoint.ipynb', 'Assignment 06-checkpoint.ipynb', 'Assignment 07 (Regex unsolved)-checkpoint.ipynb', 'Assignment 08 (Unsolved)-checkpoint.ipynb', 'Assignment 09-checkpoint.ipynb', 'Assignment 10-checkpoint.ipynb', 'Assignment 11-checkpoint.ipynb', 'Assignment 12-checkpoint.ipynb', 'Assignment 13-checkpoint.ipynb', 'Assignment 14(Unsolved)-checkpoint.ipynb', 'Assignment 15-checkpoint.ipynb', 'Assignment 16-checkpoint.ipynb', 'Assignment 17-checkpoint.ipynb', 'Assignment 17_-checkpoint.ipynb', 'Assignment 18-checkpoint.ipynb', 'Assignment 19-checkpoint.ipynb', 'Assignment 20-checkpoint.ipynb', 'Assignment 21-checkpoint.ipynb']\n",
      " ['zoo.cpython-37.pyc']\n",
      " "
     ]
    }
   ],
   "source": [
    "import os\n",
    "\n",
    "for path, folders, files in os.walk('./'):\n",
    "    print(files, end='\\n ')"
   ]
  },
  {
   "cell_type": "markdown",
   "id": "greenhouse-saver",
   "metadata": {},
   "source": [
    "\n",
    "**5. List the files in your parent directory.**\n"
   ]
  },
  {
   "cell_type": "code",
   "execution_count": 107,
   "id": "southeast-admission",
   "metadata": {},
   "outputs": [
    {
     "data": {
      "text/plain": [
       "['.ipynb_checkpoints', 'Questions', 'Solutions']"
      ]
     },
     "execution_count": 107,
     "metadata": {},
     "output_type": "execute_result"
    }
   ],
   "source": [
    "os.listdir('../')"
   ]
  },
  {
   "cell_type": "markdown",
   "id": "endless-festival",
   "metadata": {},
   "source": [
    "\n",
    "**6. Use multiprocessing to create three separate processes. Make each one wait a random number of seconds between one and five, print the current time, and then exit.**"
   ]
  },
  {
   "cell_type": "markdown",
   "id": "dressed-teens",
   "metadata": {},
   "source": [
    "\n",
    "**7. Create a date object of your day of birth.**\n"
   ]
  },
  {
   "cell_type": "code",
   "execution_count": 108,
   "id": "juvenile-convert",
   "metadata": {},
   "outputs": [],
   "source": [
    "import datetime\n",
    "\n",
    "dob=datetime.datetime(1991,6,29)"
   ]
  },
  {
   "cell_type": "code",
   "execution_count": 111,
   "id": "preceding-still",
   "metadata": {},
   "outputs": [
    {
     "name": "stdout",
     "output_type": "stream",
     "text": [
      "29\n"
     ]
    }
   ],
   "source": [
    "day=dob.day\n",
    "print(day)"
   ]
  },
  {
   "cell_type": "markdown",
   "id": "sorted-florist",
   "metadata": {},
   "source": [
    "\n",
    "**8. What day of the week was your day of birth?**\n"
   ]
  },
  {
   "cell_type": "code",
   "execution_count": 114,
   "id": "medium-green",
   "metadata": {},
   "outputs": [
    {
     "name": "stdout",
     "output_type": "stream",
     "text": [
      "5\n"
     ]
    }
   ],
   "source": [
    "week=dob.weekday()\n",
    "print(week)"
   ]
  },
  {
   "cell_type": "markdown",
   "id": "biological-healthcare",
   "metadata": {},
   "source": [
    "\n",
    "**9. When will you be (or when were you) 10,000 days old?**"
   ]
  },
  {
   "cell_type": "code",
   "execution_count": 117,
   "id": "musical-project",
   "metadata": {},
   "outputs": [
    {
     "name": "stdout",
     "output_type": "stream",
     "text": [
      "2018-11-14\n"
     ]
    }
   ],
   "source": [
    "delta=datetime.timedelta(days=10000)\n",
    "result=(dob+delta).date()\n",
    "print(result)"
   ]
  }
 ],
 "metadata": {
  "kernelspec": {
   "display_name": "Python 3",
   "language": "python",
   "name": "python3"
  },
  "language_info": {
   "codemirror_mode": {
    "name": "ipython",
    "version": 3
   },
   "file_extension": ".py",
   "mimetype": "text/x-python",
   "name": "python",
   "nbconvert_exporter": "python",
   "pygments_lexer": "ipython3",
   "version": "3.7.10"
  }
 },
 "nbformat": 4,
 "nbformat_minor": 5
}
