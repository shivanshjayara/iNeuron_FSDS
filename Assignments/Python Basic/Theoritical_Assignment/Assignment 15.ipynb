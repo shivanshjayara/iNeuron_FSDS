{
 "cells": [
  {
   "cell_type": "markdown",
   "id": "convenient-person",
   "metadata": {},
   "source": [
    "**1. How many seconds are in an hour? Use the interactive interpreter as a calculator and multiply the number of seconds in a minute (60) by the number of minutes in an hour (also 60).**"
   ]
  },
  {
   "cell_type": "code",
   "execution_count": 19,
   "id": "velvet-senator",
   "metadata": {},
   "outputs": [
    {
     "name": "stdout",
     "output_type": "stream",
     "text": [
      "216000 seconds\n"
     ]
    }
   ],
   "source": [
    "# Ans.\n",
    "\n",
    "sec=1\n",
    "minute=60*sec\n",
    "hour=60*minute\n",
    "\n",
    "multiply=minute*hour\n",
    "print(f'{multiply} seconds')"
   ]
  },
  {
   "cell_type": "markdown",
   "id": "fossil-final",
   "metadata": {},
   "source": [
    "\n",
    "**2. Assign the result from the previous task (seconds in an hour) to a variable called seconds_per_hour.**\n"
   ]
  },
  {
   "cell_type": "code",
   "execution_count": 17,
   "id": "measured-assessment",
   "metadata": {},
   "outputs": [
    {
     "name": "stdout",
     "output_type": "stream",
     "text": [
      "216000 seconds per hour\n"
     ]
    }
   ],
   "source": [
    "seconds_per_hour=multiply\n",
    "print(f'{seconds_per_hour} seconds per hour')"
   ]
  },
  {
   "cell_type": "markdown",
   "id": "ignored-mouth",
   "metadata": {},
   "source": [
    "\n",
    "**3. How many seconds are in a day? Use your seconds_per_hour variable.**"
   ]
  },
  {
   "cell_type": "code",
   "execution_count": 16,
   "id": "found-commission",
   "metadata": {},
   "outputs": [
    {
     "name": "stdout",
     "output_type": "stream",
     "text": [
      "5184000 seconds per day\n"
     ]
    }
   ],
   "source": [
    "# Ans.\n",
    "hours_per_day=24\n",
    "second_per_day=seconds_per_hour*hours_per_day\n",
    "print(f'{second_per_day} seconds per day')"
   ]
  },
  {
   "cell_type": "markdown",
   "id": "incorporated-insurance",
   "metadata": {},
   "source": [
    "**4. Calculate seconds per day again, but this time save the result in a variable called seconds_per_day.**\n"
   ]
  },
  {
   "cell_type": "code",
   "execution_count": 20,
   "id": "heated-defendant",
   "metadata": {},
   "outputs": [
    {
     "name": "stdout",
     "output_type": "stream",
     "text": [
      "5184000\n"
     ]
    }
   ],
   "source": [
    "seconds_per_day=second_per_day\n",
    "print(seconds_per_day)"
   ]
  },
  {
   "cell_type": "markdown",
   "id": "invisible-slovak",
   "metadata": {},
   "source": [
    "**5. Divide seconds_per_day by seconds_per_hour. Use floating-point (/) division.**\n"
   ]
  },
  {
   "cell_type": "code",
   "execution_count": 21,
   "id": "wicked-defense",
   "metadata": {},
   "outputs": [
    {
     "name": "stdout",
     "output_type": "stream",
     "text": [
      "24.0\n"
     ]
    }
   ],
   "source": [
    "div=seconds_per_day/seconds_per_hour\n",
    "print(div)"
   ]
  },
  {
   "cell_type": "markdown",
   "id": "surprised-fellow",
   "metadata": {},
   "source": [
    "\n",
    "**6. Divide seconds_per_day by seconds_per_hour, using integer (//) division. Did this number agree with the floating-point value from the previous question, aside from the final .0?**\n"
   ]
  },
  {
   "cell_type": "code",
   "execution_count": 22,
   "id": "proof-paper",
   "metadata": {},
   "outputs": [
    {
     "data": {
      "text/plain": [
       "24"
      ]
     },
     "execution_count": 22,
     "metadata": {},
     "output_type": "execute_result"
    }
   ],
   "source": [
    "seconds_per_day//seconds_per_hour"
   ]
  },
  {
   "cell_type": "code",
   "execution_count": 23,
   "id": "hundred-hypothesis",
   "metadata": {},
   "outputs": [
    {
     "data": {
      "text/plain": [
       "True"
      ]
     },
     "execution_count": 23,
     "metadata": {},
     "output_type": "execute_result"
    }
   ],
   "source": [
    "24.0==24"
   ]
  },
  {
   "cell_type": "markdown",
   "id": "processed-block",
   "metadata": {},
   "source": [
    "Yes number agree with the floating-point value from the previous question, aside from the final .0?"
   ]
  },
  {
   "cell_type": "markdown",
   "id": "immune-guatemala",
   "metadata": {},
   "source": [
    "\n",
    "**7. Write a generator, genPrimes, that returns the sequence of prime numbers on successive calls to its next() method: 2, 3, 5, 7, 11, ...**\n"
   ]
  },
  {
   "cell_type": "code",
   "execution_count": 12,
   "id": "developmental-ukraine",
   "metadata": {},
   "outputs": [],
   "source": [
    "def prime():\n",
    "    l2=[]\n",
    "    for i in range(1,15):\n",
    "        count=0\n",
    "        for j in range(1,i+1):\n",
    "            if (i%j==0):\n",
    "                    count+=1\n",
    "        if count==2:\n",
    "            yield i\n",
    "\n",
    "obj=prime()"
   ]
  },
  {
   "cell_type": "code",
   "execution_count": 13,
   "id": "grateful-oxygen",
   "metadata": {},
   "outputs": [
    {
     "data": {
      "text/plain": [
       "2"
      ]
     },
     "execution_count": 13,
     "metadata": {},
     "output_type": "execute_result"
    }
   ],
   "source": [
    "next(obj)"
   ]
  },
  {
   "cell_type": "code",
   "execution_count": 14,
   "id": "demanding-living",
   "metadata": {},
   "outputs": [
    {
     "data": {
      "text/plain": [
       "3"
      ]
     },
     "execution_count": 14,
     "metadata": {},
     "output_type": "execute_result"
    }
   ],
   "source": [
    "next(obj)"
   ]
  },
  {
   "cell_type": "code",
   "execution_count": 15,
   "id": "italian-triangle",
   "metadata": {},
   "outputs": [
    {
     "data": {
      "text/plain": [
       "5"
      ]
     },
     "execution_count": 15,
     "metadata": {},
     "output_type": "execute_result"
    }
   ],
   "source": [
    "next(obj)"
   ]
  },
  {
   "cell_type": "code",
   "execution_count": 16,
   "id": "quality-thumb",
   "metadata": {},
   "outputs": [
    {
     "data": {
      "text/plain": [
       "7"
      ]
     },
     "execution_count": 16,
     "metadata": {},
     "output_type": "execute_result"
    }
   ],
   "source": [
    "next(obj)"
   ]
  },
  {
   "cell_type": "code",
   "execution_count": 17,
   "id": "checked-entertainment",
   "metadata": {},
   "outputs": [
    {
     "data": {
      "text/plain": [
       "11"
      ]
     },
     "execution_count": 17,
     "metadata": {},
     "output_type": "execute_result"
    }
   ],
   "source": [
    "next(obj)"
   ]
  },
  {
   "cell_type": "code",
   "execution_count": null,
   "id": "enabling-terrorism",
   "metadata": {},
   "outputs": [],
   "source": []
  }
 ],
 "metadata": {
  "kernelspec": {
   "display_name": "Python 3",
   "language": "python",
   "name": "python3"
  },
  "language_info": {
   "codemirror_mode": {
    "name": "ipython",
    "version": 3
   },
   "file_extension": ".py",
   "mimetype": "text/x-python",
   "name": "python",
   "nbconvert_exporter": "python",
   "pygments_lexer": "ipython3",
   "version": "3.7.10"
  }
 },
 "nbformat": 4,
 "nbformat_minor": 5
}
