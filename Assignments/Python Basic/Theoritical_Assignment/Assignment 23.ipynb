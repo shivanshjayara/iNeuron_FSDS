{
 "cells": [
  {
   "cell_type": "markdown",
   "id": "recreational-folder",
   "metadata": {},
   "source": [
    "HINT :- To match the 3.X answers exactly in 2.X,  import print_function from __future__ before starting.\n",
    "\n",
    "1. What is the output of the following code, and why?\n",
    "\n",
    ">>> def func(a, b=4, c=5):\n",
    "        print(a, b, c)\n",
    "\n",
    ">>> func(1, 2)"
   ]
  },
  {
   "cell_type": "markdown",
   "id": "conservative-assumption",
   "metadata": {},
   "source": [
    "1,2,5\n",
    "\n",
    "Function have default argument b and c. \n",
    "At the time of calling if we have provide the different value wrt to arguement then it will overwrite the value of the same variable.\n",
    "\n",
    "Like, by default b=4 but during the time of function call, b=2 was providedso its value will become b=2.\n",
    "\n",
    "And since c was also a default arguemnet so even if the third value is not provied during the function call, what python will do is, it will accept 'c' as a third parameter coz its a default argument."
   ]
  },
  {
   "cell_type": "code",
   "execution_count": null,
   "id": "mechanical-expansion",
   "metadata": {},
   "outputs": [],
   "source": [
    "\n",
    "2. What is the output of this code, and why?\n",
    "\n",
    ">>> def func(a, b, c=5):\n",
    "        print(a, b, c)\n",
    "\n",
    ">>> func(1, c=3, b=2)\n",
    "\n"
   ]
  },
  {
   "cell_type": "markdown",
   "id": "robust-california",
   "metadata": {},
   "source": [
    "**1 2 3**\n",
    "\n",
    "**a=1:** Because the position of 'a' and 1  is same at calling part as well as in parameter part.\n",
    "\n",
    "**b=2:*** variable b is mention with its name in both the side(at function definition and at function calling) so whatever the value is provided inn the arguemnt during its call, it will stored the same.\n",
    "\n",
    "**c=3:** Although c is a default arguement but during the time of func call if any value is provided to that variable, it will overwrite that value"
   ]
  },
  {
   "cell_type": "code",
   "execution_count": null,
   "id": "charming-cancellation",
   "metadata": {},
   "outputs": [],
   "source": [
    "3. How about this code: what is its output, and why?\n",
    "\n",
    ">>> def func(a, *pargs):\n",
    "        print(a, pargs)\n",
    "\n",
    ">>> func(1, 2, 3)"
   ]
  },
  {
   "cell_type": "markdown",
   "id": "illegal-footwear",
   "metadata": {},
   "source": [
    "**1 (2, 3)**\n",
    "\n",
    "**1:** variable 'a' will take the value 1 as both are at the same position\n",
    "\n",
    "**(2,3):** *pargs is something which means that it can take any number of value. Any number of values can be pass during the function call.\n",
    "The return type of this arguement is a tuple"
   ]
  },
  {
   "cell_type": "code",
   "execution_count": null,
   "id": "legitimate-transport",
   "metadata": {},
   "outputs": [],
   "source": [
    "4. What does this code print, and why?\n",
    "\n",
    ">>> def func(a, **kargs):\n",
    "        print(a, kargs)\n",
    "\n",
    ">>> func(a=1, c=3, b=2)\n",
    "\n"
   ]
  },
  {
   "cell_type": "markdown",
   "id": "outstanding-battlefield",
   "metadata": {},
   "source": [
    "**1 {'c': 3, 'b': 2}**\n",
    "\n",
    "**1:** Value of a is provided at the time of function call\n",
    "    \n",
    "**{'c': 3, 'b': 2} :** **kwargs is something which take the value in the form of assignment operator and return type is dictionary of key and value pairs where keys  is the 'variable"
   ]
  },
  {
   "cell_type": "code",
   "execution_count": null,
   "id": "concerned-seating",
   "metadata": {},
   "outputs": [],
   "source": [
    "5. What gets printed by this, and why?\n",
    "\n",
    ">>> def func(a, b, c=3, d=4): \n",
    "        print(a, b, c, d)\n",
    "\n",
    ">>> func(1, *(5, 6))\n",
    "\n"
   ]
  },
  {
   "cell_type": "markdown",
   "id": "alive-connectivity",
   "metadata": {},
   "source": [
    "**1 5 6 4**\n",
    "\n",
    "**1:** Same as above reason\n",
    "\n",
    "**5 and 6:** w.r.t. their position b will get 5 and since c will reassign with value 6 and remaining d will be having value with its default arguement"
   ]
  },
  {
   "cell_type": "markdown",
   "id": "magnetic-amino",
   "metadata": {},
   "source": [
    "**6. One last time: what is the output of this code, and why?**\n",
    "\n",
    "def func(a, b, c):\n",
    "\n",
    "    a = 2 \n",
    "\n",
    "    b[0] = 'x'\n",
    "    \n",
    "    c['a'] = 'y'\n",
    "\n",
    "l=1\n",
    "\n",
    "m=[1] \n",
    "\n",
    "n={'a':0}\n",
    "    \n",
    "func(l, m,  n)\n",
    "\n",
    "l,m,n"
   ]
  },
  {
   "cell_type": "markdown",
   "id": "wicked-microwave",
   "metadata": {},
   "source": [
    "**(1, ['x'], {'a': 'y'})**"
   ]
  },
  {
   "cell_type": "markdown",
   "id": "norman-invitation",
   "metadata": {},
   "source": [
    "**l==a**\n",
    "\n",
    "**m==b**: 'm' is a list having jus  one value i.e. 1 which has index position 0. So when 'm' pass to the parameter 'b', their will be reassiging happen at index position 0 with value 'x'\n",
    "\n",
    "**n==c** Here the value of key 'a' will get updated by 'y' as 'c['a']=y'"
   ]
  },
  {
   "cell_type": "code",
   "execution_count": null,
   "id": "rising-joseph",
   "metadata": {},
   "outputs": [],
   "source": []
  }
 ],
 "metadata": {
  "kernelspec": {
   "display_name": "Python 3",
   "language": "python",
   "name": "python3"
  },
  "language_info": {
   "codemirror_mode": {
    "name": "ipython",
    "version": 3
   },
   "file_extension": ".py",
   "mimetype": "text/x-python",
   "name": "python",
   "nbconvert_exporter": "python",
   "pygments_lexer": "ipython3",
   "version": "3.7.10"
  }
 },
 "nbformat": 4,
 "nbformat_minor": 5
}
