{
 "cells": [
  {
   "cell_type": "markdown",
   "id": "latter-gilbert",
   "metadata": {},
   "source": [
    "**1. Make a class called Thing with no contents and print it. Then, create an object called example from this class and also print it. Are the printed values the same or different?**\n",
    "\n"
   ]
  },
  {
   "cell_type": "code",
   "execution_count": 7,
   "id": "available-causing",
   "metadata": {},
   "outputs": [],
   "source": [
    "class Thing:\n",
    "    pass"
   ]
  },
  {
   "cell_type": "code",
   "execution_count": 8,
   "id": "resistant-scene",
   "metadata": {},
   "outputs": [
    {
     "name": "stdout",
     "output_type": "stream",
     "text": [
      "<class '__main__.Thing'>\n"
     ]
    }
   ],
   "source": [
    "print(Thing)"
   ]
  },
  {
   "cell_type": "code",
   "execution_count": 6,
   "id": "champion-license",
   "metadata": {},
   "outputs": [
    {
     "name": "stdout",
     "output_type": "stream",
     "text": [
      "<__main__.Thing object at 0x00000207687A6808>\n"
     ]
    }
   ],
   "source": [
    "example=Thing()\n",
    "print(example)"
   ]
  },
  {
   "cell_type": "markdown",
   "id": "together-letters",
   "metadata": {},
   "source": [
    "**2. Make a new class called Thing2 and assign the value 'abc' to a class attribute called letters. Print letters.**\n",
    "\n"
   ]
  },
  {
   "cell_type": "code",
   "execution_count": 11,
   "id": "automotive-reward",
   "metadata": {},
   "outputs": [],
   "source": [
    "class Thing2:\n",
    "    def __init__(self,letters='abc'):\n",
    "        self.letter=letters\n",
    "ob=Thing2()"
   ]
  },
  {
   "cell_type": "code",
   "execution_count": 12,
   "id": "invisible-front",
   "metadata": {},
   "outputs": [
    {
     "name": "stdout",
     "output_type": "stream",
     "text": [
      "abc\n"
     ]
    }
   ],
   "source": [
    "print(ob.letter)"
   ]
  },
  {
   "cell_type": "markdown",
   "id": "senior-cross",
   "metadata": {},
   "source": [
    "**3. Make yet another class called, of course, Thing3. This time, assign the value 'xyz' to an instance (object) attribute called letters. Print letters. Do you need to make an object from the class to do this?**\n"
   ]
  },
  {
   "cell_type": "code",
   "execution_count": 13,
   "id": "difficult-pantyhose",
   "metadata": {},
   "outputs": [],
   "source": [
    "class Thing3:\n",
    "    def __init__(self,letters):\n",
    "        self.letter=letters\n",
    "ob=Thing3('xyz')"
   ]
  },
  {
   "cell_type": "code",
   "execution_count": 14,
   "id": "directed-jumping",
   "metadata": {},
   "outputs": [
    {
     "name": "stdout",
     "output_type": "stream",
     "text": [
      "xyz\n"
     ]
    }
   ],
   "source": [
    "print(ob.letter)"
   ]
  },
  {
   "cell_type": "markdown",
   "id": "superior-confusion",
   "metadata": {},
   "source": [
    "Yes we need to make an object from the class to do this"
   ]
  },
  {
   "cell_type": "markdown",
   "id": "placed-universal",
   "metadata": {},
   "source": [
    "\n",
    "**4. Make a class called Element, with instance attributes name, symbol, and number. Create an object of this class with the values 'Hydrogen', 'H', and 1.**\n",
    "\n"
   ]
  },
  {
   "cell_type": "code",
   "execution_count": 16,
   "id": "elder-custody",
   "metadata": {},
   "outputs": [],
   "source": [
    "class Element:\n",
    "    def __init__(self,name,symbol,number):\n",
    "        self.name=name\n",
    "        self.symbol=symbol\n",
    "        self.number=number\n",
    "\n",
    "ob=Element('Hydrogen','H',1)"
   ]
  },
  {
   "cell_type": "markdown",
   "id": "injured-opera",
   "metadata": {},
   "source": [
    "**5. Make a dictionary with these keys and values: 'name': 'Hydrogen', 'symbol': 'H', 'number': 1. Then, create an object called hydrogen from class Element using this dictionary.**\n",
    "\n"
   ]
  },
  {
   "cell_type": "code",
   "execution_count": 22,
   "id": "opening-reynolds",
   "metadata": {},
   "outputs": [],
   "source": [
    "d={'name':'Hydrogen','symbol':'H','number':1}\n",
    "hydrogen=Element(d['name'],d['symbol'],d['number'])"
   ]
  },
  {
   "cell_type": "markdown",
   "id": "naked-tolerance",
   "metadata": {},
   "source": [
    "**6. For the Element class, define a method called dump() that prints the values of the object’s attributes (name, symbol, and number). Create the hydrogen object from this new definition and use dump() to print its attributes.**\n"
   ]
  },
  {
   "cell_type": "code",
   "execution_count": 59,
   "id": "colored-happening",
   "metadata": {},
   "outputs": [],
   "source": [
    "class Element:\n",
    "    def __init__(self,name,symbol,number):\n",
    "        self.name=name\n",
    "        self.symbol=symbol\n",
    "        self.number=number\n",
    "        \n",
    "    def dump(self):\n",
    "        return f'{self.name,self.symbol, self.number}'"
   ]
  },
  {
   "cell_type": "code",
   "execution_count": 60,
   "id": "synthetic-fluid",
   "metadata": {},
   "outputs": [],
   "source": [
    "hydrogen=Element(d['name'],d['symbol'],d['number'])"
   ]
  },
  {
   "cell_type": "code",
   "execution_count": 62,
   "id": "fluid-locking",
   "metadata": {},
   "outputs": [
    {
     "name": "stdout",
     "output_type": "stream",
     "text": [
      "('Hydrogen', 'H', 1)\n"
     ]
    }
   ],
   "source": [
    "print(hydrogen.dump())"
   ]
  },
  {
   "cell_type": "markdown",
   "id": "separate-mercury",
   "metadata": {},
   "source": [
    "\n",
    "**7. Call print(hydrogen). In the definition of Element, change the name of method dump to __str__, create a new hydrogen object, and call print(hydrogen) again.**\n",
    "\n"
   ]
  },
  {
   "cell_type": "code",
   "execution_count": 46,
   "id": "settled-annotation",
   "metadata": {},
   "outputs": [
    {
     "name": "stdout",
     "output_type": "stream",
     "text": [
      "<__main__.Element object at 0x000002076988C5C8>\n"
     ]
    }
   ],
   "source": [
    "print(hydrogen)"
   ]
  },
  {
   "cell_type": "code",
   "execution_count": 56,
   "id": "classical-fetish",
   "metadata": {},
   "outputs": [],
   "source": [
    "class Element:\n",
    "    def __init__(self,name,symbol,number):\n",
    "        self.name=name\n",
    "        self.symbol=symbol\n",
    "        self.number=number\n",
    "        \n",
    "    def __str__(self):\n",
    "        return f'{self.name, self.symbol, self.number}'"
   ]
  },
  {
   "cell_type": "code",
   "execution_count": 57,
   "id": "southeast-dressing",
   "metadata": {},
   "outputs": [],
   "source": [
    "hydrogen=Element(d['name'],d['symbol'],d['number'])"
   ]
  },
  {
   "cell_type": "code",
   "execution_count": 58,
   "id": "detailed-mexican",
   "metadata": {},
   "outputs": [
    {
     "name": "stdout",
     "output_type": "stream",
     "text": [
      "('Hydrogen', 'H', 1)\n"
     ]
    }
   ],
   "source": [
    "print(hydrogen)"
   ]
  },
  {
   "cell_type": "markdown",
   "id": "alone-pearl",
   "metadata": {},
   "source": [
    "**8. Modify Element to make the attributes name, symbol, and number private. Define a getter property for each to return its value.**\n"
   ]
  },
  {
   "cell_type": "code",
   "execution_count": 69,
   "id": "precise-scanning",
   "metadata": {},
   "outputs": [],
   "source": [
    "class Element:\n",
    "    def __init__(self,name,symbol,number):\n",
    "        self.__name=name\n",
    "        self.__symbol=symbol\n",
    "        self.__number=number\n",
    "        \n",
    "    def dump(self):\n",
    "        return f'{self.__name,self.__symbol, self.__number}'"
   ]
  },
  {
   "cell_type": "code",
   "execution_count": 70,
   "id": "ready-wells",
   "metadata": {},
   "outputs": [],
   "source": [
    "ob=Element('Hydrogen','H',1)"
   ]
  },
  {
   "cell_type": "code",
   "execution_count": 72,
   "id": "tender-bonus",
   "metadata": {},
   "outputs": [
    {
     "data": {
      "text/plain": [
       "{'_Element__name': 'Hydrogen', '_Element__symbol': 'H', '_Element__number': 1}"
      ]
     },
     "execution_count": 72,
     "metadata": {},
     "output_type": "execute_result"
    }
   ],
   "source": [
    "ob.__dict__"
   ]
  },
  {
   "cell_type": "code",
   "execution_count": 74,
   "id": "after-granny",
   "metadata": {},
   "outputs": [
    {
     "name": "stdout",
     "output_type": "stream",
     "text": [
      "Hydrogen\n",
      "H\n",
      "1\n"
     ]
    }
   ],
   "source": [
    "print(ob._Element__name)\n",
    "print(ob._Element__symbol)\n",
    "print(ob._Element__number)"
   ]
  },
  {
   "cell_type": "markdown",
   "id": "loaded-syndrome",
   "metadata": {},
   "source": [
    "\n",
    "**9. Define three classes: Bear, Rabbit, and Octothorpe. For each, define only one method: eats(). This should return 'berries' (Bear), 'clover' (Rabbit), or 'campers' (Octothorpe). Create one object from each and print what it eats.**\n",
    "\n"
   ]
  },
  {
   "cell_type": "code",
   "execution_count": 79,
   "id": "realistic-celebrity",
   "metadata": {},
   "outputs": [],
   "source": [
    "class Bear:\n",
    "    def eat(self):\n",
    "        return 'berries'\n",
    "    \n",
    "class Rabbit:\n",
    "    def eat(self):\n",
    "        return 'clover'\n",
    "    \n",
    "class Octothorpe:\n",
    "    def eat(self):\n",
    "        return 'campers'\n"
   ]
  },
  {
   "cell_type": "code",
   "execution_count": 80,
   "id": "solar-delaware",
   "metadata": {},
   "outputs": [],
   "source": [
    "ob_bear=Bear()\n",
    "ob_Rabbit=Rabbit()\n",
    "ob_Octo=Octothorpe()"
   ]
  },
  {
   "cell_type": "code",
   "execution_count": 81,
   "id": "elder-reflection",
   "metadata": {},
   "outputs": [
    {
     "data": {
      "text/plain": [
       "'berries'"
      ]
     },
     "execution_count": 81,
     "metadata": {},
     "output_type": "execute_result"
    }
   ],
   "source": [
    "ob_bear.eat()"
   ]
  },
  {
   "cell_type": "code",
   "execution_count": 82,
   "id": "visible-edmonton",
   "metadata": {},
   "outputs": [
    {
     "data": {
      "text/plain": [
       "'clover'"
      ]
     },
     "execution_count": 82,
     "metadata": {},
     "output_type": "execute_result"
    }
   ],
   "source": [
    "ob_Rabbit.eat()"
   ]
  },
  {
   "cell_type": "code",
   "execution_count": 83,
   "id": "rising-course",
   "metadata": {},
   "outputs": [
    {
     "data": {
      "text/plain": [
       "'campers'"
      ]
     },
     "execution_count": 83,
     "metadata": {},
     "output_type": "execute_result"
    }
   ],
   "source": [
    "ob_Octo.eat()"
   ]
  },
  {
   "cell_type": "markdown",
   "id": "representative-navigation",
   "metadata": {},
   "source": [
    "**10. Define these classes: Laser, Claw, and SmartPhone. Each has only one method: does(). This returns 'disintegrate' (Laser), 'crush' (Claw), or 'ring' (SmartPhone). Then, define the class Robot that has one instance (object) of each of these. Define a does() method for the Robot that prints what its component objects do.**\n"
   ]
  },
  {
   "cell_type": "code",
   "execution_count": 87,
   "id": "ordinary-basis",
   "metadata": {},
   "outputs": [],
   "source": [
    "class Laser:\n",
    "    def does(self):\n",
    "        return 'disintegrate'\n",
    "    \n",
    "class Claw:\n",
    "    def does(self):\n",
    "        return 'crush'\n",
    "    \n",
    "class SmartPhone:\n",
    "    def does(self):\n",
    "        return 'ring'\n",
    "    \n",
    "class robot():\n",
    "    def does(self):\n",
    "        l=Laser()\n",
    "        c=Claw()\n",
    "        s=SmartPhone()\n",
    "        return l.does(),c.does(),s.does()"
   ]
  },
  {
   "cell_type": "code",
   "execution_count": 88,
   "id": "false-riding",
   "metadata": {},
   "outputs": [],
   "source": [
    "r=robot()"
   ]
  },
  {
   "cell_type": "code",
   "execution_count": 89,
   "id": "sexual-poland",
   "metadata": {},
   "outputs": [
    {
     "data": {
      "text/plain": [
       "('disintegrate', 'crush', 'ring')"
      ]
     },
     "execution_count": 89,
     "metadata": {},
     "output_type": "execute_result"
    }
   ],
   "source": [
    "r.does()"
   ]
  }
 ],
 "metadata": {
  "kernelspec": {
   "display_name": "Python 3",
   "language": "python",
   "name": "python3"
  },
  "language_info": {
   "codemirror_mode": {
    "name": "ipython",
    "version": 3
   },
   "file_extension": ".py",
   "mimetype": "text/x-python",
   "name": "python",
   "nbconvert_exporter": "python",
   "pygments_lexer": "ipython3",
   "version": "3.7.10"
  }
 },
 "nbformat": 4,
 "nbformat_minor": 5
}
