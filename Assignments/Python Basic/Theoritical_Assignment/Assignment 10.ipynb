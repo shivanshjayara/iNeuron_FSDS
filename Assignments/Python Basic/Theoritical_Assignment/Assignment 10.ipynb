{
 "cells": [
  {
   "cell_type": "markdown",
   "id": "mediterranean-manner",
   "metadata": {},
   "source": [
    "**1. What is the difference between shutil.copy() and shutil.copytree()?**"
   ]
  },
  {
   "cell_type": "markdown",
   "id": "electronic-princeton",
   "metadata": {},
   "source": [
    "Ans.\n",
    "\n",
    "shutil.copy() -It will copy a single specific file\n",
    "\n",
    "shutil.copytree() - It will copy the entire folder and what ever the contents are present inside that folder will also get copied"
   ]
  },
  {
   "cell_type": "markdown",
   "id": "universal-florist",
   "metadata": {},
   "source": [
    "**2. What function is used to rename files?**"
   ]
  },
  {
   "cell_type": "markdown",
   "id": "roman-yugoslavia",
   "metadata": {},
   "source": [
    "Ans.\n",
    "\n",
    "os.rename('old file_name','new_file_name')"
   ]
  },
  {
   "cell_type": "markdown",
   "id": "informational-edgar",
   "metadata": {},
   "source": [
    "**3. What is the difference between the delete functions in the send2trash and shutil modules?**"
   ]
  },
  {
   "cell_type": "markdown",
   "id": "tracked-algebra",
   "metadata": {},
   "source": [
    "Ans.\n",
    "\n",
    "send2trash: As its name says, 2trash. Meaning it will send the file to the trash or recyle bin. It will not delete the file permanently\n",
    "    \n",
    "shutil: It will delete the directory permanently."
   ]
  },
  {
   "cell_type": "markdown",
   "id": "dangerous-fossil",
   "metadata": {},
   "source": [
    "**4. ZipFile objects have a close() method just like File objects’ close() method. What ZipFile method is equivalent to File objects’ open() method?**"
   ]
  },
  {
   "cell_type": "markdown",
   "id": "committed-sullivan",
   "metadata": {},
   "source": [
    "'w' --> Write mode method of zipfile is equivalent to open file method"
   ]
  },
  {
   "cell_type": "markdown",
   "id": "addressed-chest",
   "metadata": {},
   "source": [
    "**5. Write a program that walks through a folder tree and searches for files with a certain file extension (such as .pdf or .jpg). Copy these files from whatever location they are in to a new folder.**"
   ]
  },
  {
   "cell_type": "code",
   "execution_count": 90,
   "id": "floppy-smile",
   "metadata": {},
   "outputs": [
    {
     "name": "stdout",
     "output_type": "stream",
     "text": [
      "Following are the files in the source directory which will be copied\n",
      "['APXPJ6408B-2020 (1).pdf', 'BLANK CHEQ.pdf', 'cheque.jpg', 'Experience letter.pdf', 'FORM 16 SHIAVNSH JAYARA.pdf', 'Pay slip.pdf', 'PF.pdf', 'TDS PDF.pdf']\n",
      "\n",
      "Following are the files in the given destination folder before copying:\n",
      "\n",
      "['poetry.docx', 'Resume Shivansh.docx', 'TDS PDF.pdf']\n",
      "Number of files are: 3\n",
      "\n",
      "Copied\n",
      "Files are copied and program is successfull\n",
      "Following are the files in the given destination folder After copying:\n",
      "\n",
      "['APXPJ6408B-2020 (1).pdf', 'BLANK CHEQ.pdf', 'cheque.jpg', 'Experience letter.pdf', 'FORM 16 SHIAVNSH JAYARA.pdf', 'Pay slip.pdf', 'PF.pdf', 'poetry.docx', 'Resume Shivansh.docx', 'TDS PDF.pdf']\n",
      "Number of files are: 10\n"
     ]
    }
   ],
   "source": [
    "source='D:\\\\Documents'\n",
    "destination='D:\\\\New Folder'\n",
    "\n",
    "for path,folder,filename in os.walk(source):\n",
    "    print('Following are the files in the source directory which will be copied')\n",
    "    print(filename)\n",
    "    print()\n",
    "    \n",
    "    print('Following are the files in the given destination folder before copying:\\n')\n",
    "    print(os.listdir('D:\\\\New Folder'))\n",
    "    print('Number of files are:',len(os.listdir('D:\\\\New Folder')))\n",
    "    print()\n",
    "    try:\n",
    "        for file in filename:\n",
    "            if (file.endswith('.pdf')) or (file.endswith('.jpg')):\n",
    "                shutil.copy(f'D:/Documents/{file}', 'D:/New Folder')\n",
    "        print('Copied')\n",
    "        \n",
    "    except Exception as e:\n",
    "        print(e)\n",
    "        \n",
    "    else:\n",
    "        print('Files are copied and program is successfull')\n",
    "        \n",
    "    finally:\n",
    "        print('Following are the files in the given destination folder After copying:\\n')\n",
    "        print(os.listdir('D:\\\\New Folder'))\n",
    "        print('Number of files are:',len(os.listdir('D:\\\\New Folder')))                 "
   ]
  },
  {
   "cell_type": "code",
   "execution_count": null,
   "id": "recent-petersburg",
   "metadata": {},
   "outputs": [],
   "source": []
  },
  {
   "cell_type": "code",
   "execution_count": null,
   "id": "future-happiness",
   "metadata": {},
   "outputs": [],
   "source": []
  },
  {
   "cell_type": "markdown",
   "id": "finished-marriage",
   "metadata": {},
   "source": [
    "**Rough work**"
   ]
  },
  {
   "cell_type": "code",
   "execution_count": 1,
   "id": "immediate-injury",
   "metadata": {},
   "outputs": [],
   "source": [
    "import os"
   ]
  },
  {
   "cell_type": "code",
   "execution_count": 4,
   "id": "satisfactory-parameter",
   "metadata": {},
   "outputs": [],
   "source": [
    "with open('test.txt','w') as f:\n",
    "    f.write('hello')"
   ]
  },
  {
   "cell_type": "code",
   "execution_count": 5,
   "id": "differential-illness",
   "metadata": {},
   "outputs": [
    {
     "data": {
      "text/plain": [
       "['.ipynb_checkpoints',\n",
       " 'Assignment 01.ipynb',\n",
       " 'Assignment 02.ipynb',\n",
       " 'Assignment 03.ipynb',\n",
       " 'Assignment 04.ipynb',\n",
       " 'Assignment 05.ipynb',\n",
       " 'Assignment 06.ipynb',\n",
       " 'Assignment 07 (Regex unsolved).ipynb',\n",
       " 'Assignment 08 (Unsolved).ipynb',\n",
       " 'Assignment 09.ipynb',\n",
       " 'Assignment 10.ipynb',\n",
       " 'test.txt']"
      ]
     },
     "execution_count": 5,
     "metadata": {},
     "output_type": "execute_result"
    }
   ],
   "source": [
    "os.listdir()"
   ]
  },
  {
   "cell_type": "code",
   "execution_count": 6,
   "id": "rational-turkey",
   "metadata": {},
   "outputs": [],
   "source": [
    "os.rename('test.txt','new_test.txt')"
   ]
  },
  {
   "cell_type": "code",
   "execution_count": 7,
   "id": "soviet-handbook",
   "metadata": {},
   "outputs": [
    {
     "data": {
      "text/plain": [
       "['.ipynb_checkpoints',\n",
       " 'Assignment 01.ipynb',\n",
       " 'Assignment 02.ipynb',\n",
       " 'Assignment 03.ipynb',\n",
       " 'Assignment 04.ipynb',\n",
       " 'Assignment 05.ipynb',\n",
       " 'Assignment 06.ipynb',\n",
       " 'Assignment 07 (Regex unsolved).ipynb',\n",
       " 'Assignment 08 (Unsolved).ipynb',\n",
       " 'Assignment 09.ipynb',\n",
       " 'Assignment 10.ipynb',\n",
       " 'new_test.txt']"
      ]
     },
     "execution_count": 7,
     "metadata": {},
     "output_type": "execute_result"
    }
   ],
   "source": [
    "os.listdir()"
   ]
  },
  {
   "cell_type": "code",
   "execution_count": 8,
   "id": "composed-fifth",
   "metadata": {},
   "outputs": [],
   "source": [
    "import shutil"
   ]
  },
  {
   "cell_type": "code",
   "execution_count": 15,
   "id": "beginning-defeat",
   "metadata": {},
   "outputs": [],
   "source": [
    "shutil.rmtree(r\"D:\\New folder\")"
   ]
  },
  {
   "cell_type": "code",
   "execution_count": 17,
   "id": "electrical-cologne",
   "metadata": {},
   "outputs": [],
   "source": [
    "import send2trash as s2t"
   ]
  },
  {
   "cell_type": "code",
   "execution_count": 18,
   "id": "driven-placement",
   "metadata": {},
   "outputs": [],
   "source": [
    "s2t.send2trash(r\"D:\\New folder\")"
   ]
  },
  {
   "cell_type": "code",
   "execution_count": 19,
   "id": "stupid-cotton",
   "metadata": {},
   "outputs": [],
   "source": [
    "import ipdb"
   ]
  }
 ],
 "metadata": {
  "kernelspec": {
   "display_name": "Python 3",
   "language": "python",
   "name": "python3"
  },
  "language_info": {
   "codemirror_mode": {
    "name": "ipython",
    "version": 3
   },
   "file_extension": ".py",
   "mimetype": "text/x-python",
   "name": "python",
   "nbconvert_exporter": "python",
   "pygments_lexer": "ipython3",
   "version": "3.7.10"
  }
 },
 "nbformat": 4,
 "nbformat_minor": 5
}
