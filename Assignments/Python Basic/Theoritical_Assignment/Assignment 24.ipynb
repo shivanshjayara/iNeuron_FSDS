{
 "cells": [
  {
   "cell_type": "markdown",
   "id": "atomic-might",
   "metadata": {},
   "source": [
    "**1. How are lambda expressions and def statements related?**"
   ]
  },
  {
   "cell_type": "markdown",
   "id": "subjective-conspiracy",
   "metadata": {},
   "source": [
    "**Ans**\n",
    "\n",
    "**def:** This is a keyword with whic user can build its own function and can exeute it by just simply calling it. It has many lines of codes. \n",
    "    \n",
    "**lambda:** This is an anonnymous function which do not have any name and execute only in one line. It uses a keyword **lamda**"
   ]
  },
  {
   "cell_type": "markdown",
   "id": "eleven-hepatitis",
   "metadata": {},
   "source": [
    "**2. What’s the point of using lambda?**"
   ]
  },
  {
   "cell_type": "markdown",
   "id": "perceived-alexandria",
   "metadata": {},
   "source": [
    "**Ans**\n",
    "\n",
    "When we need the function to be executed just once or for a very short period of time then we use lambda. We can also say that when we required to pass the function as an argument to higher order function then we use lambda.\n",
    "\n",
    "And since its just a one line of function so it is prefered "
   ]
  },
  {
   "cell_type": "markdown",
   "id": "explicit-implementation",
   "metadata": {},
   "source": [
    "\n",
    "**3. Compare and contrast map, filter, and reduce.**\n"
   ]
  },
  {
   "cell_type": "markdown",
   "id": "possible-mexican",
   "metadata": {},
   "source": [
    "**Map:** It is used for mapping the function wrt to the iterable object along with it. map() function will iterate through all the iterable item and execute the function which is passed in the arguement\n",
    "         **map(function,iterable_object)**\n",
    "\n",
    "**filter:** This also take a function as an argument and iterable and form a new list which have all the true values which have been filterd using this function.\n",
    "    \n",
    "**reduce:** Like in map and filter, this also take one function as an argument and and iterable object but it does not return a list. It only return a single value. It will try to take first two item in the iterable object and perform the operation, then the result which we get from that will perform the same operation with the third one and this process keeps going until we get the single value"
   ]
  },
  {
   "cell_type": "markdown",
   "id": "superb-desperate",
   "metadata": {},
   "source": [
    "\n",
    "**4. What are function annotations, and how are they used?**\n"
   ]
  },
  {
   "cell_type": "markdown",
   "id": "speaking-socket",
   "metadata": {},
   "source": [
    "**Ans**\n",
    "\n",
    "Function annotations are completely optional both for parameters and return value. Function annotations provide a way of associating various parts of a function with arbitrary python expressions at compile time."
   ]
  },
  {
   "cell_type": "markdown",
   "id": "dietary-scheduling",
   "metadata": {},
   "source": [
    "\n",
    "**5. What are recursive functions, and how are they used?**\n"
   ]
  },
  {
   "cell_type": "markdown",
   "id": "stopped-argument",
   "metadata": {},
   "source": [
    "**Ans**\n",
    "\n",
    "Recursive function is such function which call itself during its execution. The process may repeat several times, outputting the result and the end of each iteration.\n",
    "\n",
    "Recursive functions can be used to solve tasks in elegant ways. When a function calls itself, that's called a recursion step. The basis of recursion is function arguments that make the task so simple that the function does not make further calls"
   ]
  },
  {
   "cell_type": "markdown",
   "id": "dirty-broad",
   "metadata": {},
   "source": [
    "\n",
    "**6. What are some general design guidelines for coding functions?**\n"
   ]
  },
  {
   "cell_type": "markdown",
   "id": "illegal-carolina",
   "metadata": {},
   "source": [
    "**Ans**\n",
    "\n",
    "-Limited use of globals\n",
    "\n",
    "-Naming conventions for local variables, global variables, constants and functions\n",
    "\n",
    "-Proper Indentation\n",
    "\n",
    "-Error return values and exception handling conventions\n",
    "\n",
    "-Code should be well documented\n",
    "\n",
    "-Length of functions should not be very large\n",
    "\n",
    "-Avoid using a coding style that is too difficult to understand:"
   ]
  },
  {
   "cell_type": "markdown",
   "id": "uniform-proposition",
   "metadata": {},
   "source": [
    "\n",
    "**7. Name three or more ways that functions can communicate results to a caller**\n"
   ]
  },
  {
   "cell_type": "markdown",
   "id": "fossil-prevention",
   "metadata": {},
   "source": [
    "**Ans**\n",
    "\n",
    "- using **return**\n",
    "\n",
    "- assigning a variable equals to function\n",
    "\n",
    "- passing the function as an argument to someother function and then calling that function which return the previous function"
   ]
  },
  {
   "cell_type": "code",
   "execution_count": null,
   "id": "professional-turtle",
   "metadata": {},
   "outputs": [],
   "source": []
  }
 ],
 "metadata": {
  "kernelspec": {
   "display_name": "Python 3",
   "language": "python",
   "name": "python3"
  },
  "language_info": {
   "codemirror_mode": {
    "name": "ipython",
    "version": 3
   },
   "file_extension": ".py",
   "mimetype": "text/x-python",
   "name": "python",
   "nbconvert_exporter": "python",
   "pygments_lexer": "ipython3",
   "version": "3.7.10"
  }
 },
 "nbformat": 4,
 "nbformat_minor": 5
}
