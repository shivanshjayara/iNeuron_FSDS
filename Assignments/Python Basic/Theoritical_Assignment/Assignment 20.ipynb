{
 "cells": [
  {
   "cell_type": "markdown",
   "id": "romance-beach",
   "metadata": {},
   "source": [
    "**1. Assign the string 'This is a test of the emergency text system' to the variable test1, and write test1 to a file called test.txt.**\n"
   ]
  },
  {
   "cell_type": "code",
   "execution_count": 14,
   "id": "later-patio",
   "metadata": {},
   "outputs": [],
   "source": [
    "test1='This is a test of the emergency text system'\n",
    "\n",
    "with open('test.txt','w') as file:\n",
    "    file.write(test1)"
   ]
  },
  {
   "cell_type": "markdown",
   "id": "integrated-investigation",
   "metadata": {},
   "source": [
    "\n",
    "**2. Open the file test.txt and read its contents into the string test2. Are test1 and test2 the same?**"
   ]
  },
  {
   "cell_type": "code",
   "execution_count": 15,
   "id": "prime-setup",
   "metadata": {},
   "outputs": [
    {
     "name": "stdout",
     "output_type": "stream",
     "text": [
      "This is a test of the emergency text system\n"
     ]
    }
   ],
   "source": [
    "with open('test.txt') as file2:\n",
    "    test2=file2.read()\n",
    "print(test2)"
   ]
  },
  {
   "cell_type": "code",
   "execution_count": 16,
   "id": "spectacular-revelation",
   "metadata": {},
   "outputs": [
    {
     "data": {
      "text/plain": [
       "True"
      ]
     },
     "execution_count": 16,
     "metadata": {},
     "output_type": "execute_result"
    }
   ],
   "source": [
    "test1==test2"
   ]
  },
  {
   "cell_type": "markdown",
   "id": "identical-casting",
   "metadata": {},
   "source": [
    "Yes both are same"
   ]
  },
  {
   "cell_type": "markdown",
   "id": "adjacent-monte",
   "metadata": {},
   "source": [
    "\n",
    "\n",
    "**3. Save these text lines to a file called books.csv. Notice that if the fields are separated by commas, you need to surround a field with quotes if it contains a comma.**\n",
    "\n",
    "**author,book**\n",
    "\n",
    "**J R R Tolkien,The Hobbit**\n",
    "\n",
    "**Lynne Truss,\"Eats, Shoots & Leaves\"**\n"
   ]
  },
  {
   "cell_type": "code",
   "execution_count": 40,
   "id": "right-sauce",
   "metadata": {},
   "outputs": [
    {
     "name": "stdout",
     "output_type": "stream",
     "text": [
      "72\n"
     ]
    }
   ],
   "source": [
    "text='''author,book\n",
    "J R R Tolkien,The Hobbit\n",
    "Lynne Truss,\"Eats, Shoots & Leaves\"'''\n",
    "with open('book.csv','wt') as file3:\n",
    "    r=file3.write(text)\n",
    "print(r)"
   ]
  },
  {
   "cell_type": "markdown",
   "id": "presidential-earth",
   "metadata": {},
   "source": [
    "\n",
    "\n",
    "**4. Use the csv module and its DictReader method to read books.csv to the variable books. Print the values in books. Did DictReader handle the quotes and commas in the second book’s title?**\n"
   ]
  },
  {
   "cell_type": "code",
   "execution_count": 41,
   "id": "tight-porter",
   "metadata": {},
   "outputs": [
    {
     "name": "stdout",
     "output_type": "stream",
     "text": [
      "{'author': 'J R R Tolkien', 'book': 'The Hobbit'}\n",
      "{'author': 'Lynne Truss', 'book': 'Eats, Shoots & Leaves'}\n"
     ]
    }
   ],
   "source": [
    "import csv\n",
    "\n",
    "with open('book.csv','rt') as file4:\n",
    "    books=csv.DictReader(file4)\n",
    "    for i in books:\n",
    "        print(dict(i))"
   ]
  },
  {
   "cell_type": "markdown",
   "id": "functioning-administration",
   "metadata": {},
   "source": [
    "Yes  DictReader handle the quotes and commas in the second book’s title"
   ]
  },
  {
   "cell_type": "markdown",
   "id": "embedded-macro",
   "metadata": {},
   "source": [
    "\n",
    "**5. Create a CSV file called books.csv by using these lines:**\n",
    "\n",
    "**title,author,year**\n",
    "\n",
    "**The Weirdstone of Brisingamen,Alan Garner,1960**\n",
    "\n",
    "**Perdido Street Station,China Miéville,2000**\n",
    "\n",
    "**Thud!,Terry Pratchett,2005**\n",
    "\n",
    "**The Spellman Files,Lisa Lutz,2007**\n",
    "\n",
    "**Small Gods,Terry Pratchett,1992**\n",
    "\n"
   ]
  },
  {
   "cell_type": "code",
   "execution_count": 6,
   "id": "infectious-arizona",
   "metadata": {},
   "outputs": [],
   "source": [
    "texts='''title, author, year\n",
    "The Weirdstone of Brisingamen, Alan Garner, 1960\n",
    "Perdido Street Station, China Mieville, 2000\n",
    "Thud !, Terry Pratchett, 2005\n",
    "The Spellmen Files, Lisa Lutz, 2007\n",
    "Small Gods, Terry Pratchett, 1992\n",
    "'''\n",
    "\n",
    "with open('books.csv','wt') as file5:\n",
    "    file5.write(texts)"
   ]
  },
  {
   "cell_type": "markdown",
   "id": "central-validation",
   "metadata": {},
   "source": [
    "\n",
    "**6. Use the sqlite3 module to create a SQLite database called books.db, and a table called books with these fields: title (text), author (text), and year (integer).**\n"
   ]
  },
  {
   "cell_type": "code",
   "execution_count": 35,
   "id": "meaningful-limitation",
   "metadata": {
    "scrolled": true
   },
   "outputs": [],
   "source": [
    "import sqlite3\n",
    "\n",
    "db = sqlite3.connect ('books.db') #data base name is 'books'\n",
    "curs = db.cursor ()\n",
    "curs.execute('''create table book (title text, author text, year int)''') #Table name is 'book'\n",
    "db.commit()\n",
    "db.close()"
   ]
  },
  {
   "cell_type": "markdown",
   "id": "junior-gibson",
   "metadata": {},
   "source": [
    "\n",
    "**7. Read books.csv and insert its data into the book table.**\n"
   ]
  },
  {
   "cell_type": "code",
   "execution_count": 55,
   "id": "informed-baseline",
   "metadata": {
    "scrolled": true
   },
   "outputs": [],
   "source": [
    "import csv\n",
    "\n",
    "db=sqlite3.connect('books.db')\n",
    "cursor=db.cursor()\n",
    "query ='insert into book values(?,?,?)'\n",
    "with open('books.csv','rt') as r:\n",
    "    x=csv.DictReader(r)\n",
    "    for i in x:\n",
    "        cursor.execute(query,(i['title'],i[' author'],i[' year']))\n",
    "db.commit()"
   ]
  },
  {
   "cell_type": "code",
   "execution_count": 56,
   "id": "exotic-disposition",
   "metadata": {},
   "outputs": [],
   "source": [
    "db.close()"
   ]
  },
  {
   "cell_type": "markdown",
   "id": "romantic-empty",
   "metadata": {},
   "source": [
    "\n",
    "**8. Select and print the title column from the book table in alphabetical order.**\n"
   ]
  },
  {
   "cell_type": "code",
   "execution_count": 57,
   "id": "advisory-worcester",
   "metadata": {},
   "outputs": [
    {
     "name": "stdout",
     "output_type": "stream",
     "text": [
      "Perdido Street Station\n",
      "Small Gods\n",
      "The Spellmen Files\n",
      "The Weirdstone of Brisingamen\n",
      "Thud !\n"
     ]
    }
   ],
   "source": [
    "db=sqlite3.connect('books.db')\n",
    "cursor=db.cursor()\n",
    "\n",
    "query='select title from book order by title asc'\n",
    "\n",
    "for i in cursor.execute(query):\n",
    "    print(i[0])"
   ]
  },
  {
   "cell_type": "markdown",
   "id": "inappropriate-mobility",
   "metadata": {},
   "source": [
    "\n",
    "**9. Select and print all columns from the book table in order of publication.**\n"
   ]
  },
  {
   "cell_type": "code",
   "execution_count": 60,
   "id": "casual-procedure",
   "metadata": {},
   "outputs": [
    {
     "name": "stdout",
     "output_type": "stream",
     "text": [
      " Alan Garner\n",
      " China Mieville\n",
      " Lisa Lutz\n",
      " Terry Pratchett\n",
      " Terry Pratchett\n"
     ]
    }
   ],
   "source": [
    "db=sqlite3.connect('books.db')\n",
    "cursor=db.cursor()\n",
    "\n",
    "query='select author from book order by author asc'\n",
    "\n",
    "for i in cursor.execute(query):\n",
    "    print(i[0])\n",
    "    \n",
    "db.close()"
   ]
  },
  {
   "cell_type": "markdown",
   "id": "approved-pakistan",
   "metadata": {},
   "source": [
    "\n",
    "\n",
    "**10. Use the sqlalchemy module to connect to the sqlite3 database books.db that you just made in exercise 6. As in 8, select and print the title column from the book table in alphabetical order.**\n",
    "\n"
   ]
  },
  {
   "cell_type": "code",
   "execution_count": 64,
   "id": "paperback-nerve",
   "metadata": {},
   "outputs": [
    {
     "name": "stdout",
     "output_type": "stream",
     "text": [
      "Requirement already satisfied: sqlalchemy in c:\\users\\shivansh jayara\\anaconda3\\lib\\site-packages (1.3.23)\n"
     ]
    }
   ],
   "source": [
    "!pip install sqlalchemy"
   ]
  },
  {
   "cell_type": "code",
   "execution_count": 68,
   "id": "specific-monkey",
   "metadata": {},
   "outputs": [
    {
     "name": "stdout",
     "output_type": "stream",
     "text": [
      "('Perdido Street Station',)\n",
      "('Small Gods',)\n",
      "('The Spellmen Files',)\n",
      "('The Weirdstone of Brisingamen',)\n",
      "('Thud !',)\n"
     ]
    }
   ],
   "source": [
    "import sqlalchemy\n",
    "\n",
    "conn=sqlalchemy.create_engine('sqlite:///books.db')\n",
    "query='select title from book order by title asc'\n",
    "records=conn.execute(query)\n",
    "for i in records:\n",
    "    print(i)"
   ]
  },
  {
   "cell_type": "markdown",
   "id": "single-compensation",
   "metadata": {},
   "source": [
    "**11. Install the Redis server and the Python redis library (pip install redis) on your computer. Create a Redis hash called test with the fields count (1) and name ('Fester Bestertester'). Print all the fields for test.**\n",
    "\n"
   ]
  },
  {
   "cell_type": "markdown",
   "id": "thrown-discrimination",
   "metadata": {},
   "source": [
    "**12. Increment the count field of test and print it.**\n"
   ]
  }
 ],
 "metadata": {
  "kernelspec": {
   "display_name": "Python 3",
   "language": "python",
   "name": "python3"
  },
  "language_info": {
   "codemirror_mode": {
    "name": "ipython",
    "version": 3
   },
   "file_extension": ".py",
   "mimetype": "text/x-python",
   "name": "python",
   "nbconvert_exporter": "python",
   "pygments_lexer": "ipython3",
   "version": "3.7.10"
  }
 },
 "nbformat": 4,
 "nbformat_minor": 5
}
