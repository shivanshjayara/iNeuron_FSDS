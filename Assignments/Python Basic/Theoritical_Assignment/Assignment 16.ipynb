{
 "cells": [
  {
   "cell_type": "markdown",
   "id": "pacific-zoning",
   "metadata": {},
   "source": [
    "**1. Create a list called years_list, starting with the year of your birth, and each year thereafter until the year of your fifth birthday. For example, if you were born in 1980. the list would be years_list = [1980, 1981, 1982, 1983, 1984, 1985].**\n",
    "\n",
    "**If you’re less than five years old and reading this book, I don’t know what to tell you.**\n",
    "\n"
   ]
  },
  {
   "cell_type": "code",
   "execution_count": 40,
   "id": "advisory-mouth",
   "metadata": {},
   "outputs": [],
   "source": [
    "import datetime\n",
    "l=[]\n",
    "current=datetime.datetime(1991,6,29)\n",
    "for i in range(1825):\n",
    "    l.append((current+datetime.timedelta(days=i)).year)"
   ]
  },
  {
   "cell_type": "code",
   "execution_count": 44,
   "id": "industrial-glasgow",
   "metadata": {},
   "outputs": [
    {
     "name": "stdout",
     "output_type": "stream",
     "text": [
      "[1991, 1992, 1993, 1994, 1995, 1996]\n"
     ]
    }
   ],
   "source": [
    "years_list=list(set(l))\n",
    "print(years_list)"
   ]
  },
  {
   "cell_type": "markdown",
   "id": "crude-channel",
   "metadata": {},
   "source": [
    "\n",
    "**2. In which year in years_list was your third birthday? Remember, you were 0 years of age for your first year.**\n"
   ]
  },
  {
   "cell_type": "code",
   "execution_count": 47,
   "id": "organic-supplement",
   "metadata": {},
   "outputs": [
    {
     "data": {
      "text/plain": [
       "1993"
      ]
     },
     "execution_count": 47,
     "metadata": {},
     "output_type": "execute_result"
    }
   ],
   "source": [
    "third_bday=years_list[2]\n",
    "third_bday"
   ]
  },
  {
   "cell_type": "markdown",
   "id": "funny-insertion",
   "metadata": {},
   "source": [
    "\n",
    "**3 In which year in years_list were you the oldest?**\n"
   ]
  },
  {
   "cell_type": "code",
   "execution_count": 49,
   "id": "academic-rates",
   "metadata": {},
   "outputs": [
    {
     "data": {
      "text/plain": [
       "1996"
      ]
     },
     "execution_count": 49,
     "metadata": {},
     "output_type": "execute_result"
    }
   ],
   "source": [
    "oldest=years_list[-1]\n",
    "oldest"
   ]
  },
  {
   "cell_type": "markdown",
   "id": "present-shirt",
   "metadata": {},
   "source": [
    "\n",
    "**4. Make a list called things with these three strings as elements: \"mozzarella\", \"cinderella\", \"salmonella\".**\n"
   ]
  },
  {
   "cell_type": "code",
   "execution_count": 50,
   "id": "recreational-original",
   "metadata": {},
   "outputs": [
    {
     "data": {
      "text/plain": [
       "['mozzarella', 'cinderella', 'salmonella']"
      ]
     },
     "execution_count": 50,
     "metadata": {},
     "output_type": "execute_result"
    }
   ],
   "source": [
    "things=[\"mozzarella\", \"cinderella\", \"salmonella\"]\n",
    "things"
   ]
  },
  {
   "cell_type": "markdown",
   "id": "reasonable-debate",
   "metadata": {},
   "source": [
    "\n",
    "**5. Capitalize the element in things that refers to a person and then print the list. Did it change the element in the list?**\n"
   ]
  },
  {
   "cell_type": "code",
   "execution_count": 52,
   "id": "functional-scottish",
   "metadata": {},
   "outputs": [
    {
     "data": {
      "text/plain": [
       "['Mozzarella', 'Cinderella', 'Salmonella']"
      ]
     },
     "execution_count": 52,
     "metadata": {},
     "output_type": "execute_result"
    }
   ],
   "source": [
    "cap=[i.capitalize() for i in things]\n",
    "cap"
   ]
  },
  {
   "cell_type": "markdown",
   "id": "elegant-underground",
   "metadata": {},
   "source": [
    "\n",
    "**6. Make the cheesy element of things all uppercase and then print the list.**\n"
   ]
  },
  {
   "cell_type": "code",
   "execution_count": 53,
   "id": "radical-worship",
   "metadata": {},
   "outputs": [
    {
     "data": {
      "text/plain": [
       "['MOZZARELLA', 'cinderella', 'salmonella']"
      ]
     },
     "execution_count": 53,
     "metadata": {},
     "output_type": "execute_result"
    }
   ],
   "source": [
    "things[0]=things[0].upper()\n",
    "things"
   ]
  },
  {
   "cell_type": "markdown",
   "id": "immediate-bibliography",
   "metadata": {},
   "source": [
    "\n",
    "**7. Delete the disease element from things, collect your Nobel Prize, and print the list.**\n"
   ]
  },
  {
   "cell_type": "code",
   "execution_count": 54,
   "id": "understood-fraud",
   "metadata": {},
   "outputs": [
    {
     "data": {
      "text/plain": [
       "['MOZZARELLA', 'cinderella']"
      ]
     },
     "execution_count": 54,
     "metadata": {},
     "output_type": "execute_result"
    }
   ],
   "source": [
    "things.remove('salmonella')\n",
    "things"
   ]
  },
  {
   "cell_type": "markdown",
   "id": "increased-junior",
   "metadata": {},
   "source": [
    "\n",
    "**8. Create a list called surprise with the elements \"Groucho\", \"Chico\", and \"Harpo\".**\n"
   ]
  },
  {
   "cell_type": "code",
   "execution_count": 55,
   "id": "optical-extreme",
   "metadata": {},
   "outputs": [
    {
     "data": {
      "text/plain": [
       "['Groucho', 'Chico', 'Harpo']"
      ]
     },
     "execution_count": 55,
     "metadata": {},
     "output_type": "execute_result"
    }
   ],
   "source": [
    "surprise=[ 'Groucho', 'Chico','Harpo']\n",
    "surprise"
   ]
  },
  {
   "cell_type": "markdown",
   "id": "provincial-judge",
   "metadata": {},
   "source": [
    "\n",
    "**9. Lowercase the last element of the surprise list, reverse it, and then capitalize it.**\n"
   ]
  },
  {
   "cell_type": "code",
   "execution_count": 59,
   "id": "color-geometry",
   "metadata": {},
   "outputs": [
    {
     "data": {
      "text/plain": [
       "'Oprah'"
      ]
     },
     "execution_count": 59,
     "metadata": {},
     "output_type": "execute_result"
    }
   ],
   "source": [
    "surprise[-1].lower()[::-1].capitalize()"
   ]
  },
  {
   "cell_type": "markdown",
   "id": "excessive-gambling",
   "metadata": {},
   "source": [
    "\n",
    "**10. Make an English-to-French dictionary called e2f and print it. Here are your starter words: dog is chien, cat is chat, and walrus is morse.**\n"
   ]
  },
  {
   "cell_type": "code",
   "execution_count": 60,
   "id": "bacterial-kelly",
   "metadata": {},
   "outputs": [
    {
     "data": {
      "text/plain": [
       "{'dog': 'chien', 'cat': 'chat', 'walrus': 'morse'}"
      ]
     },
     "execution_count": 60,
     "metadata": {},
     "output_type": "execute_result"
    }
   ],
   "source": [
    "e2f={'dog':'chien','cat':'chat','walrus':'morse'}\n",
    "e2f"
   ]
  },
  {
   "cell_type": "markdown",
   "id": "controversial-shooting",
   "metadata": {},
   "source": [
    "\n",
    "**11. Using your three-word dictionary e2f, print the French word for walrus.**\n"
   ]
  },
  {
   "cell_type": "code",
   "execution_count": 61,
   "id": "therapeutic-estonia",
   "metadata": {},
   "outputs": [
    {
     "data": {
      "text/plain": [
       "'morse'"
      ]
     },
     "execution_count": 61,
     "metadata": {},
     "output_type": "execute_result"
    }
   ],
   "source": [
    "e2f['walrus']"
   ]
  },
  {
   "cell_type": "markdown",
   "id": "duplicate-hammer",
   "metadata": {},
   "source": [
    "\n",
    "**12. Make a French-to-English dictionary called f2e from e2f. Use the items method.**\n"
   ]
  },
  {
   "cell_type": "code",
   "execution_count": 65,
   "id": "inclusive-afghanistan",
   "metadata": {},
   "outputs": [],
   "source": [
    "f2e={}\n",
    "\n",
    "for i in e2f.items():\n",
    "    f2e[i[1]]=i[0]"
   ]
  },
  {
   "cell_type": "code",
   "execution_count": 66,
   "id": "middle-destiny",
   "metadata": {},
   "outputs": [
    {
     "data": {
      "text/plain": [
       "{'chien': 'dog', 'chat': 'cat', 'morse': 'walrus'}"
      ]
     },
     "execution_count": 66,
     "metadata": {},
     "output_type": "execute_result"
    }
   ],
   "source": [
    "f2e"
   ]
  },
  {
   "cell_type": "markdown",
   "id": "impaired-february",
   "metadata": {},
   "source": [
    "\n",
    "**13. Using f2e, print the English equivalent of the French word chien.**\n"
   ]
  },
  {
   "cell_type": "code",
   "execution_count": 68,
   "id": "dietary-hometown",
   "metadata": {},
   "outputs": [
    {
     "data": {
      "text/plain": [
       "'dog'"
      ]
     },
     "execution_count": 68,
     "metadata": {},
     "output_type": "execute_result"
    }
   ],
   "source": [
    "f2e['chien']"
   ]
  },
  {
   "cell_type": "markdown",
   "id": "manual-viewer",
   "metadata": {},
   "source": [
    "\n",
    "**14. Make and print a set of English words from the keys in e2f.**\n"
   ]
  },
  {
   "cell_type": "code",
   "execution_count": 74,
   "id": "rubber-salmon",
   "metadata": {},
   "outputs": [],
   "source": [
    "s=set()\n",
    "for i in e2f.items():\n",
    "    s.add(e2f[i[0]])"
   ]
  },
  {
   "cell_type": "code",
   "execution_count": 75,
   "id": "consolidated-connectivity",
   "metadata": {},
   "outputs": [
    {
     "data": {
      "text/plain": [
       "{'chat', 'chien', 'morse'}"
      ]
     },
     "execution_count": 75,
     "metadata": {},
     "output_type": "execute_result"
    }
   ],
   "source": [
    "s"
   ]
  },
  {
   "cell_type": "markdown",
   "id": "strange-dominant",
   "metadata": {},
   "source": [
    "\n",
    "**15. Make a multilevel dictionary called life. Use these strings for the topmost keys: 'animals', 'plants', and 'other'. Make the 'animals' key refer to another dictionary with the keys 'cats', 'octopi', and 'emus'. Make the 'cats' key refer to a list of strings with the values 'Henri', 'Grumpy', and 'Lucy'. Make all the other keys refer to empty dictionaries.**\n"
   ]
  },
  {
   "cell_type": "code",
   "execution_count": 76,
   "id": "actual-thesaurus",
   "metadata": {},
   "outputs": [
    {
     "data": {
      "text/plain": [
       "{'animal': {'cat': ['Henri', 'Grumpy', 'Lucy'], 'octopi': {}, 'emus': {}},\n",
       " 'plants': {},\n",
       " 'other': {}}"
      ]
     },
     "execution_count": 76,
     "metadata": {},
     "output_type": "execute_result"
    }
   ],
   "source": [
    "life={'animal':{'cat':['Henri','Grumpy','Lucy'],'octopi':{},'emus':{}},'plants':{},'other':{}}\n",
    "life"
   ]
  },
  {
   "cell_type": "markdown",
   "id": "supreme-effect",
   "metadata": {},
   "source": [
    "\n",
    "**16. Print the top-level keys of life.**\n"
   ]
  },
  {
   "cell_type": "code",
   "execution_count": 80,
   "id": "increased-syndicate",
   "metadata": {},
   "outputs": [
    {
     "name": "stdout",
     "output_type": "stream",
     "text": [
      "animal\n",
      "plants\n",
      "other\n"
     ]
    }
   ],
   "source": [
    "for i in life.keys():\n",
    "    print(i)"
   ]
  },
  {
   "cell_type": "markdown",
   "id": "animal-welding",
   "metadata": {},
   "source": [
    "\n",
    "**17. Print the keys for life['animals'].**\n"
   ]
  },
  {
   "cell_type": "code",
   "execution_count": 83,
   "id": "palestinian-patient",
   "metadata": {},
   "outputs": [
    {
     "name": "stdout",
     "output_type": "stream",
     "text": [
      "cat\n",
      "octopi\n",
      "emus\n"
     ]
    }
   ],
   "source": [
    "for i in life['animal'].keys():\n",
    "    print(i)"
   ]
  },
  {
   "cell_type": "markdown",
   "id": "written-avatar",
   "metadata": {},
   "source": [
    "\n",
    "**18. Print the values for life['animals']['cats']**"
   ]
  },
  {
   "cell_type": "code",
   "execution_count": 86,
   "id": "unusual-person",
   "metadata": {},
   "outputs": [
    {
     "data": {
      "text/plain": [
       "['Henri', 'Grumpy', 'Lucy']"
      ]
     },
     "execution_count": 86,
     "metadata": {},
     "output_type": "execute_result"
    }
   ],
   "source": [
    "life['animal']['cat']"
   ]
  },
  {
   "cell_type": "code",
   "execution_count": null,
   "id": "thermal-stake",
   "metadata": {},
   "outputs": [],
   "source": []
  }
 ],
 "metadata": {
  "kernelspec": {
   "display_name": "Python 3",
   "language": "python",
   "name": "python3"
  },
  "language_info": {
   "codemirror_mode": {
    "name": "ipython",
    "version": 3
   },
   "file_extension": ".py",
   "mimetype": "text/x-python",
   "name": "python",
   "nbconvert_exporter": "python",
   "pygments_lexer": "ipython3",
   "version": "3.7.10"
  }
 },
 "nbformat": 4,
 "nbformat_minor": 5
}
