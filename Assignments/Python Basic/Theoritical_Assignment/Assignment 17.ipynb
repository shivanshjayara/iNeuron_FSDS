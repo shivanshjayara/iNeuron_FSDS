{
 "cells": [
  {
   "cell_type": "markdown",
   "id": "artificial-cartridge",
   "metadata": {},
   "source": [
    "**1. Assign the value 7 to the variable guess_me. Then, write the conditional tests (if, else, and elif) to print the string 'too low' if guess_me is less than 7, 'too high' if greater than 7, and 'just right' if equal to 7.**"
   ]
  },
  {
   "cell_type": "code",
   "execution_count": 15,
   "id": "hundred-exchange",
   "metadata": {},
   "outputs": [
    {
     "name": "stdout",
     "output_type": "stream",
     "text": [
      "just right\n"
     ]
    }
   ],
   "source": [
    "guess_me=7\n",
    "\n",
    "if guess_me<7:\n",
    "    print('Too low')\n",
    "elif guess_me>7:\n",
    "    print('too high')\n",
    "elif guess_me==7:\n",
    "    print('just right')"
   ]
  },
  {
   "cell_type": "markdown",
   "id": "medical-commodity",
   "metadata": {},
   "source": [
    "\n",
    "**2. Assign the value 7 to the variable guess_me and the value 1 to the variable start.**\n",
    "\n",
    "**Write a while loop that compares start with guess_me.**\n",
    "\n",
    "**Print too low if start is less than guess me.**\n",
    "\n",
    "**If start equals guess_me, print 'found it!' and exit the loop.**\n",
    "\n",
    "**If start is greater than guess_me, print 'oops' and exit the loop. Increment start at the end of the loop.**"
   ]
  },
  {
   "cell_type": "code",
   "execution_count": 22,
   "id": "generic-setup",
   "metadata": {},
   "outputs": [
    {
     "name": "stdout",
     "output_type": "stream",
     "text": [
      "too low\n",
      "too low\n",
      "too low\n",
      "too low\n",
      "too low\n",
      "too low\n",
      "found it\n"
     ]
    }
   ],
   "source": [
    "guess_me=7\n",
    "start=1\n",
    "\n",
    "while start<=7:\n",
    "    \n",
    "    if (start<guess_me):\n",
    "        print('too low')\n",
    "    \n",
    "    elif start==guess_me:\n",
    "        print('found it')\n",
    "        break\n",
    "        \n",
    "    elif start>guess_me:\n",
    "        print('oops')\n",
    "    start+=1"
   ]
  },
  {
   "cell_type": "markdown",
   "id": "bacterial-completion",
   "metadata": {},
   "source": [
    "\n",
    "**3. Use a for loop to print the values of the list [3, 2, 1, 0].**\n"
   ]
  },
  {
   "cell_type": "code",
   "execution_count": 29,
   "id": "thick-guess",
   "metadata": {},
   "outputs": [
    {
     "name": "stdout",
     "output_type": "stream",
     "text": [
      "3 2 1 0 "
     ]
    }
   ],
   "source": [
    "l=[3, 2, 1, 0]\n",
    "for i in l:\n",
    "    print(i,end=' ')"
   ]
  },
  {
   "cell_type": "markdown",
   "id": "charitable-musical",
   "metadata": {},
   "source": [
    "\n",
    "**4. Use a list comprehension to make a list of the even numbers in range(10).**\n"
   ]
  },
  {
   "cell_type": "code",
   "execution_count": 33,
   "id": "headed-brook",
   "metadata": {},
   "outputs": [
    {
     "name": "stdout",
     "output_type": "stream",
     "text": [
      "[0, 2, 4, 6, 8]\n"
     ]
    }
   ],
   "source": [
    "l=[i for i in range(10) if i%2==0]\n",
    "print(l)"
   ]
  },
  {
   "cell_type": "markdown",
   "id": "regulation-chapel",
   "metadata": {},
   "source": [
    "\n",
    "**5. Use a dictionary comprehension to create the dictionary squares. Use range(10) to return the keys, and use the square of each key as its value.**\n"
   ]
  },
  {
   "cell_type": "code",
   "execution_count": 35,
   "id": "objective-option",
   "metadata": {},
   "outputs": [
    {
     "data": {
      "text/plain": [
       "{0: 0, 1: 1, 2: 4, 3: 9, 4: 16, 5: 25, 6: 36, 7: 49, 8: 64, 9: 81}"
      ]
     },
     "execution_count": 35,
     "metadata": {},
     "output_type": "execute_result"
    }
   ],
   "source": [
    "d={i:i*i for i in range(10)}\n",
    "d"
   ]
  },
  {
   "cell_type": "markdown",
   "id": "polyphonic-rochester",
   "metadata": {},
   "source": [
    "\n",
    "**6. Use a set comprehension to create the set odd from the odd numbers in range(10).**\n"
   ]
  },
  {
   "cell_type": "code",
   "execution_count": 39,
   "id": "boolean-requirement",
   "metadata": {},
   "outputs": [
    {
     "name": "stdout",
     "output_type": "stream",
     "text": [
      "{1, 3, 5, 7, 9}\n"
     ]
    }
   ],
   "source": [
    "s={i for i in range(10) if i%2!=0}\n",
    "print(s)"
   ]
  },
  {
   "cell_type": "markdown",
   "id": "pretty-kentucky",
   "metadata": {},
   "source": [
    "\n",
    "**7. Use a generator comprehension to return the string 'Got ' and a number for the numbers in range(10). Iterate through this by using a for loop.**\n"
   ]
  },
  {
   "cell_type": "code",
   "execution_count": 48,
   "id": "logical-concert",
   "metadata": {},
   "outputs": [
    {
     "name": "stdout",
     "output_type": "stream",
     "text": [
      "Got 0\n",
      "Got 1\n",
      "Got 2\n",
      "Got 3\n",
      "Got 4\n",
      "Got 5\n",
      "Got 6\n",
      "Got 7\n",
      "Got 8\n",
      "Got 9\n"
     ]
    }
   ],
   "source": [
    "g=(i for i in range(10))\n",
    "for i in g:\n",
    "    print(f'Got', i)"
   ]
  },
  {
   "cell_type": "markdown",
   "id": "norwegian-visiting",
   "metadata": {},
   "source": [
    "\n",
    "**8. Define a function called good that returns the list ['Harry', 'Ron', 'Hermione'].**\n"
   ]
  },
  {
   "cell_type": "code",
   "execution_count": 56,
   "id": "established-brick",
   "metadata": {},
   "outputs": [
    {
     "name": "stdout",
     "output_type": "stream",
     "text": [
      "['Harry', 'Ron', 'Hermione']\n"
     ]
    }
   ],
   "source": [
    "def good(*args):\n",
    "    l2=[]\n",
    "    for i in args:\n",
    "        l2.append(i)\n",
    "    return l2\n",
    "a=good('Harry', 'Ron', 'Hermione')\n",
    "print(a)"
   ]
  },
  {
   "cell_type": "markdown",
   "id": "twelve-presentation",
   "metadata": {},
   "source": [
    "\n",
    "**9. Define a generator function called get_odds that returns the odd numbers from range(10). Use a for loop to find and print the third value returned.**"
   ]
  },
  {
   "cell_type": "code",
   "execution_count": 79,
   "id": "plastic-blogger",
   "metadata": {},
   "outputs": [],
   "source": [
    "def get_odds(n):\n",
    "    for i in range(n):\n",
    "        if i%2!=0:\n",
    "            yield i\n",
    "ob=get_odds(10)"
   ]
  },
  {
   "cell_type": "code",
   "execution_count": 80,
   "id": "south-excess",
   "metadata": {},
   "outputs": [
    {
     "name": "stdout",
     "output_type": "stream",
     "text": [
      "5\n"
     ]
    }
   ],
   "source": [
    "gen_list=[i for i in ob][2]\n",
    "print(gen_list)"
   ]
  },
  {
   "cell_type": "markdown",
   "id": "improving-flesh",
   "metadata": {},
   "source": [
    "\n",
    "**10. Define a decorator called test that prints 'start' when a function is called and 'end' when it finishes.**"
   ]
  },
  {
   "cell_type": "code",
   "execution_count": 92,
   "id": "choice-destiny",
   "metadata": {},
   "outputs": [],
   "source": [
    "def deco_func(any_func):\n",
    "    def wrapper_function(*args,**kwargs):\n",
    "        print('Start')\n",
    "        any_func(*args,**kwargs)\n",
    "    return wrapper_function"
   ]
  },
  {
   "cell_type": "code",
   "execution_count": 93,
   "id": "trying-configuration",
   "metadata": {},
   "outputs": [],
   "source": [
    "@deco_func\n",
    "def func1():\n",
    "    print('end')"
   ]
  },
  {
   "cell_type": "code",
   "execution_count": 94,
   "id": "occupied-bibliography",
   "metadata": {},
   "outputs": [
    {
     "name": "stdout",
     "output_type": "stream",
     "text": [
      "Start\n",
      "end\n"
     ]
    }
   ],
   "source": [
    "func1()"
   ]
  },
  {
   "cell_type": "markdown",
   "id": "engaging-documentation",
   "metadata": {},
   "source": [
    "\n",
    "**11. Define an exception called OopsException. Raise this exception to see what happens. Then write the code to catch this exception and print 'Caught an oops'.**"
   ]
  },
  {
   "cell_type": "code",
   "execution_count": 89,
   "id": "liberal-sixth",
   "metadata": {},
   "outputs": [],
   "source": [
    "def func(n):\n",
    "    if n==6:\n",
    "        raise Exception('Oops Exception')\n",
    "    else:\n",
    "        print('value is ok')"
   ]
  },
  {
   "cell_type": "code",
   "execution_count": 90,
   "id": "olympic-vitamin",
   "metadata": {},
   "outputs": [
    {
     "ename": "Exception",
     "evalue": "Oops Exception",
     "output_type": "error",
     "traceback": [
      "\u001b[1;31m---------------------------------------------------------------------------\u001b[0m",
      "\u001b[1;31mException\u001b[0m                                 Traceback (most recent call last)",
      "\u001b[1;32m<ipython-input-90-05e9c78ca5b6>\u001b[0m in \u001b[0;36m<module>\u001b[1;34m\u001b[0m\n\u001b[1;32m----> 1\u001b[1;33m \u001b[0mfunc\u001b[0m\u001b[1;33m(\u001b[0m\u001b[1;36m6\u001b[0m\u001b[1;33m)\u001b[0m\u001b[1;33m\u001b[0m\u001b[1;33m\u001b[0m\u001b[0m\n\u001b[0m",
      "\u001b[1;32m<ipython-input-89-29b4e99310de>\u001b[0m in \u001b[0;36mfunc\u001b[1;34m(n)\u001b[0m\n\u001b[0;32m      1\u001b[0m \u001b[1;32mdef\u001b[0m \u001b[0mfunc\u001b[0m\u001b[1;33m(\u001b[0m\u001b[0mn\u001b[0m\u001b[1;33m)\u001b[0m\u001b[1;33m:\u001b[0m\u001b[1;33m\u001b[0m\u001b[1;33m\u001b[0m\u001b[0m\n\u001b[0;32m      2\u001b[0m     \u001b[1;32mif\u001b[0m \u001b[0mn\u001b[0m\u001b[1;33m==\u001b[0m\u001b[1;36m6\u001b[0m\u001b[1;33m:\u001b[0m\u001b[1;33m\u001b[0m\u001b[1;33m\u001b[0m\u001b[0m\n\u001b[1;32m----> 3\u001b[1;33m         \u001b[1;32mraise\u001b[0m \u001b[0mException\u001b[0m\u001b[1;33m(\u001b[0m\u001b[1;34m'Oops Exception'\u001b[0m\u001b[1;33m)\u001b[0m\u001b[1;33m\u001b[0m\u001b[1;33m\u001b[0m\u001b[0m\n\u001b[0m\u001b[0;32m      4\u001b[0m     \u001b[1;32melse\u001b[0m\u001b[1;33m:\u001b[0m\u001b[1;33m\u001b[0m\u001b[1;33m\u001b[0m\u001b[0m\n\u001b[0;32m      5\u001b[0m         \u001b[0mprint\u001b[0m\u001b[1;33m(\u001b[0m\u001b[1;34m'value is ok'\u001b[0m\u001b[1;33m)\u001b[0m\u001b[1;33m\u001b[0m\u001b[1;33m\u001b[0m\u001b[0m\n",
      "\u001b[1;31mException\u001b[0m: Oops Exception"
     ]
    }
   ],
   "source": [
    "func(6)"
   ]
  },
  {
   "cell_type": "code",
   "execution_count": 91,
   "id": "improving-hollow",
   "metadata": {},
   "outputs": [
    {
     "name": "stdout",
     "output_type": "stream",
     "text": [
      "Caught an oops\n"
     ]
    }
   ],
   "source": [
    "try:\n",
    "    func(6)\n",
    "except Exception as e:\n",
    "    print('Caught an oops')"
   ]
  },
  {
   "cell_type": "markdown",
   "id": "hindu-glenn",
   "metadata": {},
   "source": [
    "\n",
    "\n",
    "**12. Use zip() to make a dictionary called movies that pairs these lists: titles = ['Creature of Habit', 'Crewel Fate'] and plots = ['A nun turns into a monster', 'A haunted yarn shop'].**\n"
   ]
  },
  {
   "cell_type": "code",
   "execution_count": 83,
   "id": "willing-habitat",
   "metadata": {},
   "outputs": [
    {
     "name": "stdout",
     "output_type": "stream",
     "text": [
      "{'Creature of Habit': 'A nun turns into a monster', 'Crewel Fate': 'A haunted yarn shop'}\n"
     ]
    }
   ],
   "source": [
    "titles = ['Creature of Habit', 'Crewel Fate']\n",
    "plots = ['A nun turns into a monster', 'A haunted yarn shop']\n",
    "\n",
    "movies=dict(zip(titles,plots))\n",
    "print(movies)"
   ]
  }
 ],
 "metadata": {
  "kernelspec": {
   "display_name": "Python 3",
   "language": "python",
   "name": "python3"
  },
  "language_info": {
   "codemirror_mode": {
    "name": "ipython",
    "version": 3
   },
   "file_extension": ".py",
   "mimetype": "text/x-python",
   "name": "python",
   "nbconvert_exporter": "python",
   "pygments_lexer": "ipython3",
   "version": "3.7.10"
  }
 },
 "nbformat": 4,
 "nbformat_minor": 5
}
