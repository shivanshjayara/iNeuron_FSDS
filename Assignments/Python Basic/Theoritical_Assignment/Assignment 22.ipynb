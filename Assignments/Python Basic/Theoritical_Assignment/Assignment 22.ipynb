{
 "cells": [
  {
   "cell_type": "markdown",
   "id": "formed-injection",
   "metadata": {},
   "source": [
    "**1. What is the output of the following code, and why?**\n",
    "\n",
    "X = 'Spam'\n",
    "\n",
    "def func():\n",
    "\n",
    "    print(X)\n",
    "\n",
    "func()\n",
    "\n"
   ]
  },
  {
   "cell_type": "markdown",
   "id": "major-deposit",
   "metadata": {},
   "source": [
    "**Ans.**\n",
    "\n",
    "Spam.\n",
    "\n",
    "X is a global variable. So its ok it is not defined inside the function but it will act globally and where ever it is use inside the function, it will give you the same value which is declared i.e. Spam "
   ]
  },
  {
   "cell_type": "markdown",
   "id": "solved-technician",
   "metadata": {},
   "source": [
    "**2. What is the output of this code, and why?**\n",
    "\n",
    "X = 'Spam'\n",
    "\n",
    "def func():\n",
    "\n",
    "    X = 'NI!'\n",
    "\n",
    "func()\n",
    "\n",
    "print(X)\n"
   ]
  },
  {
   "cell_type": "markdown",
   "id": "perceived-purpose",
   "metadata": {},
   "source": [
    "**Ans**\n",
    "\n",
    "'Spam'\n",
    "\n",
    "Since X is a global variable and it is executing outside the function so it will give the same value which is declared ouutside the function. Inside the function we have a local variable X='NI!'. So if it was executed inside the function then we will be gettin the output 'NI!'"
   ]
  },
  {
   "cell_type": "markdown",
   "id": "acquired-montana",
   "metadata": {},
   "source": [
    "\n",
    "**3. What does this code print, and why?**\n",
    "\n",
    "X = 'Spam'\n",
    "\n",
    "def func():\n",
    "\n",
    "    X = 'NI'\n",
    "    \n",
    "    print(X)\n",
    "\n",
    "func()\n",
    "\n",
    "print(X)\n"
   ]
  },
  {
   "cell_type": "markdown",
   "id": "positive-commissioner",
   "metadata": {},
   "source": [
    "**Ans**\n",
    "\n",
    "NI\n",
    "Spam\n",
    "\n",
    "X = 'Spam' is global variable so outside the function its value will remain this.\n",
    "\n",
    "X = 'NI' is a local variable so anywhere inside the function it will get executed so it will give this result. Its scope is only withing the function"
   ]
  },
  {
   "cell_type": "markdown",
   "id": "unlikely-utility",
   "metadata": {},
   "source": [
    "\n",
    "**4. What output does this code produce? Why?**\n",
    "\n",
    "X = 'Spam'\n",
    "\n",
    "def func():\n",
    "\n",
    "    global X\n",
    "    \n",
    "    X = 'NI'\n",
    "\n",
    "func()\n",
    "\n",
    "print(X)\n",
    "\n"
   ]
  },
  {
   "cell_type": "markdown",
   "id": "existing-blair",
   "metadata": {},
   "source": [
    "#**Ans**\n",
    "\n",
    "NI\n",
    "\n",
    "By using global keyword we are converting the local variable (X='NI') into global variable so now its scope will be outside the function which was not earlier when it was a local variable thats why we are getting this outout\n"
   ]
  },
  {
   "cell_type": "markdown",
   "id": "general-religion",
   "metadata": {},
   "source": [
    "**5. What about this code—what’s the output, and why?**\n",
    "\n",
    "X = 'Spam'\n",
    "\n",
    "def func():\n",
    "\n",
    "    X = 'NI'\n",
    "\n",
    "    def nested():\n",
    "    \n",
    "        print(X)\n",
    "    \n",
    "    nested()\n",
    "\n",
    "func()\n",
    "\n",
    "X\n"
   ]
  },
  {
   "cell_type": "markdown",
   "id": "catholic-patio",
   "metadata": {},
   "source": [
    "**Ans**\n",
    "\n",
    "NI\n",
    "\n",
    "Spam\n",
    "\n",
    "For **nested function** X='NI' is a global variable so it will give 'NI' in return\n",
    "\n",
    "For **X** which is outside the function scope, is itself a global variable"
   ]
  },
  {
   "cell_type": "markdown",
   "id": "sustainable-maintenance",
   "metadata": {},
   "source": [
    "\n",
    "**6. How about this example: what is its output in Python 3.X, and why?**\n",
    "\n",
    "def func():\n",
    " \n",
    "   X = 'NI'\n",
    "   \n",
    "   def nested():\n",
    "   \n",
    "       nonlocal X\n",
    "       \n",
    "       X = 'Spam'\n",
    "   \n",
    "   nested()\n",
    "   \n",
    "   print(X)\n",
    "\n",
    "func()\n",
    "\n"
   ]
  },
  {
   "cell_type": "markdown",
   "id": "tropical-symbol",
   "metadata": {},
   "source": [
    "**Ans**\n",
    "\n",
    "Spam\n",
    "\n",
    "**nonlocal** is a keyword used in nested function where the variable is made nonlocal meaning, it can not be treated as local variable in that nested function. However its scope will becomes at outside of the nested function. So thats why we are getting this output"
   ]
  },
  {
   "cell_type": "markdown",
   "id": "composite-allocation",
   "metadata": {},
   "source": [
    "**7. Name three or more ways to retain state information in a Python function.**\n"
   ]
  },
  {
   "cell_type": "markdown",
   "id": "composed-western",
   "metadata": {},
   "source": [
    "**Ans**\n",
    "\n",
    "1- WITH Global variable\n",
    "\n",
    "2- With Nonlocal variable\n",
    "\n",
    "3- With function attributes"
   ]
  },
  {
   "cell_type": "code",
   "execution_count": null,
   "id": "monthly-gazette",
   "metadata": {},
   "outputs": [],
   "source": []
  }
 ],
 "metadata": {
  "kernelspec": {
   "display_name": "Python 3",
   "language": "python",
   "name": "python3"
  },
  "language_info": {
   "codemirror_mode": {
    "name": "ipython",
    "version": 3
   },
   "file_extension": ".py",
   "mimetype": "text/x-python",
   "name": "python",
   "nbconvert_exporter": "python",
   "pygments_lexer": "ipython3",
   "version": "3.7.10"
  }
 },
 "nbformat": 4,
 "nbformat_minor": 5
}
