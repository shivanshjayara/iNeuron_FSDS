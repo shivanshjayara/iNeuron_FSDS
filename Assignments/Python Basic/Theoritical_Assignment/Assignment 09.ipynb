{
 "cells": [
  {
   "cell_type": "markdown",
   "id": "compound-thailand",
   "metadata": {},
   "source": [
    "**1. What is a relative path relative to?**"
   ]
  },
  {
   "cell_type": "markdown",
   "id": "optional-pointer",
   "metadata": {},
   "source": [
    "Ans. Relative path refer to the location which is relative to the current working directory.\n",
    "\n",
    "eg in path 'C:/user/shivansh/ineuron/xyz.txt'\n",
    "\n",
    "Working directory is upto 'C:/user/shivansh/ineuron' and **relative path** in which we are working will be 'ineuron/xyz.txt'"
   ]
  },
  {
   "cell_type": "markdown",
   "id": "underlying-hobby",
   "metadata": {},
   "source": [
    "**2. What does an absolute path start with?**"
   ]
  },
  {
   "cell_type": "markdown",
   "id": "exterior-kitchen",
   "metadata": {},
   "source": [
    "Ans. It starts with the root directory. Example:\n",
    "    \n",
    "'C:\\Users\\Shivansh Jayara\\iNeuron\\FSDS Course\\Assignments\\Python_Basic\\Theory Assignment\\Questions'\n",
    "\n",
    "Here C:\\ is a root directory and the complete path is a absolute path."
   ]
  },
  {
   "cell_type": "markdown",
   "id": "downtown-madagascar",
   "metadata": {},
   "source": [
    "**3. What does Path('C:/Users') / 'Al' evaluate to on Windows?**"
   ]
  },
  {
   "cell_type": "markdown",
   "id": "critical-husband",
   "metadata": {},
   "source": [
    "Ans.\n",
    "'C:/Users'/'Al'\n",
    "\n",
    "In the above :\n",
    "\n",
    "C:/ is a root directory (parent directory), \n",
    "\n",
    "/Users is a child directory for C:/ and parent directory for AI\n",
    "\n",
    "/AI is a working directory or a child directory for /Users"
   ]
  },
  {
   "cell_type": "markdown",
   "id": "familiar-footwear",
   "metadata": {},
   "source": [
    "**4. What does 'C:/Users' / 'Al' evaluate to on Windows?**"
   ]
  },
  {
   "cell_type": "markdown",
   "id": "incorporate-teddy",
   "metadata": {},
   "source": [
    "'C:/Users' / 'Al'  It represent to the path of 'AI' directory"
   ]
  },
  {
   "cell_type": "markdown",
   "id": "preliminary-contrary",
   "metadata": {},
   "source": [
    "**5. What do the os.getcwd() and os.chdir() functions do?**"
   ]
  },
  {
   "cell_type": "markdown",
   "id": "thorough-complement",
   "metadata": {},
   "source": [
    "Ans. os.getcwd() : This will return you the current working directory\n",
    "\n",
    "os.chdir(); This will change the path and for this we have to write the path inside the parenthesis ()"
   ]
  },
  {
   "cell_type": "markdown",
   "id": "driving-scale",
   "metadata": {},
   "source": [
    "**6. What are the . and .. folders?**"
   ]
  },
  {
   "cell_type": "markdown",
   "id": "conservative-stupid",
   "metadata": {},
   "source": [
    "Ans. \n",
    "\n",
    "(.) --> This gives you the current path\n",
    "\n",
    "(..) --> This refere to the parent directory of the current working directory\n",
    "\n",
    "Example:\n",
    "\n",
    "os.getcwd() --> 'C:\\\\Users\\\\Shivansh Jayara\\\\iNeuron\\\\FSDS Course\\\\Assignments\\\\Python_Basic\\\\Theory Assignment\\\\Solutions'\n",
    "\n",
    "os.chdir('.') --> 'C:\\\\Users\\\\Shivansh Jayara\\\\iNeuron\\\\FSDS Course\\\\Assignments\\\\Python_Basic\\\\Theory Assignment\\\\Solutions'\n",
    "\n",
    "os.chdir('..') --> 'C:\\\\Users\\\\Shivansh Jayara\\\\iNeuron\\\\FSDS Course\\\\Assignments\\\\Python_Basic\\\\Theory Assignment'"
   ]
  },
  {
   "cell_type": "markdown",
   "id": "adaptive-passport",
   "metadata": {},
   "source": [
    "**7. In C:\\bacon\\eggs\\spam.txt, which part is the dir name, and which part is the base name?**"
   ]
  },
  {
   "cell_type": "markdown",
   "id": "catholic-opinion",
   "metadata": {},
   "source": [
    "Ans.\n",
    "\n",
    "Base name --> spam.txt\n",
    "\n",
    "Directory Name --> C:\\bacon\\eggs"
   ]
  },
  {
   "cell_type": "markdown",
   "id": "differential-campus",
   "metadata": {},
   "source": [
    "**8. What are the three “mode” arguments that can be passed to the open() function?**"
   ]
  },
  {
   "cell_type": "markdown",
   "id": "baking-edwards",
   "metadata": {},
   "source": [
    "Ans.\n",
    "\n",
    "r -Reading file\n",
    "\n",
    "w -Writing into file\n",
    "\n",
    "a -Appenind into file"
   ]
  },
  {
   "cell_type": "markdown",
   "id": "worth-bride",
   "metadata": {},
   "source": [
    "**9. What happens if an existing file is opened in write mode?**"
   ]
  },
  {
   "cell_type": "markdown",
   "id": "improved-corner",
   "metadata": {},
   "source": [
    "Ans.\n",
    "\n",
    "If any existing file open in a write mode then whatever data we will give, it will first erase the prior data and then the current data will get written that file"
   ]
  },
  {
   "cell_type": "markdown",
   "id": "straight-conference",
   "metadata": {},
   "source": [
    "**10. What is the difference between the read() and readlines() methods?**"
   ]
  },
  {
   "cell_type": "markdown",
   "id": "educational-butter",
   "metadata": {},
   "source": [
    "Ans.\n",
    "\n",
    "read() --> It will read the entire lines including the next line ('\\n')\n",
    "\n",
    "readlines() --> It will return the list of lines separated by comma."
   ]
  },
  {
   "cell_type": "code",
   "execution_count": 26,
   "id": "heard-solomon",
   "metadata": {},
   "outputs": [],
   "source": [
    "with open('test.txt', 'w') as file:\n",
    "    file.write('This is my file\\n i have created it')"
   ]
  },
  {
   "cell_type": "code",
   "execution_count": 27,
   "id": "saved-hopkins",
   "metadata": {},
   "outputs": [],
   "source": [
    "file.close()"
   ]
  },
  {
   "cell_type": "code",
   "execution_count": 30,
   "id": "resident-advisory",
   "metadata": {},
   "outputs": [
    {
     "name": "stdout",
     "output_type": "stream",
     "text": [
      "['This is my file\\n', ' i have created it']\n"
     ]
    }
   ],
   "source": [
    "with open('test.txt', 'r') as file:\n",
    "    print(file.readlines())"
   ]
  },
  {
   "cell_type": "markdown",
   "id": "certain-cooking",
   "metadata": {},
   "source": [
    "**11. What data structure does a shelf value resemble?**"
   ]
  },
  {
   "cell_type": "markdown",
   "id": "impaired-brake",
   "metadata": {},
   "source": [
    "Ans.\n",
    "Dictionary values i.e. key and value pairs\n"
   ]
  },
  {
   "cell_type": "code",
   "execution_count": null,
   "id": "least-mexican",
   "metadata": {},
   "outputs": [],
   "source": []
  }
 ],
 "metadata": {
  "kernelspec": {
   "display_name": "Python 3",
   "language": "python",
   "name": "python3"
  },
  "language_info": {
   "codemirror_mode": {
    "name": "ipython",
    "version": 3
   },
   "file_extension": ".py",
   "mimetype": "text/x-python",
   "name": "python",
   "nbconvert_exporter": "python",
   "pygments_lexer": "ipython3",
   "version": "3.7.10"
  }
 },
 "nbformat": 4,
 "nbformat_minor": 5
}
