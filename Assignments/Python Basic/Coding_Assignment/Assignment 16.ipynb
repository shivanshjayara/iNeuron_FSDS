{
 "cells": [
  {
   "cell_type": "code",
   "execution_count": 6,
   "id": "ideal-coalition",
   "metadata": {},
   "outputs": [],
   "source": [
    "# Question1. Write a function that stutters a word as if someone is struggling to read it. \n",
    "# The first two letters are repeated twice with an ellipsis ... and space after each, \n",
    "# and then the word is pronounced with a question mark ?.\n",
    "# Examples\n",
    "# stutter(\"incredible\") ➞ \"in... in... incredible?\"\n",
    "\n",
    "# stutter(\"enthusiastic\") ➞ \"en... en... enthusiastic?\"\n",
    "\n",
    "# stutter(\"outstanding\") ➞ \"ou... ou... outstanding?\"\n",
    "\n",
    "# Hint :- Assume all input is in lower case and at least two characters long.\n"
   ]
  },
  {
   "cell_type": "code",
   "execution_count": 12,
   "id": "explicit-contrary",
   "metadata": {},
   "outputs": [],
   "source": [
    "def stutter(word):\n",
    "    for i in word:\n",
    "        print(f\"{i[:2]}... {i[:2]}... {i}?\")"
   ]
  },
  {
   "cell_type": "code",
   "execution_count": 13,
   "id": "based-customs",
   "metadata": {},
   "outputs": [
    {
     "name": "stdout",
     "output_type": "stream",
     "text": [
      "in... in... incredible?\n",
      "en... en... enthusiastic?\n",
      "ou... ou... outstanding?\n"
     ]
    }
   ],
   "source": [
    "stutter(['incredible','enthusiastic','outstanding'])"
   ]
  },
  {
   "cell_type": "code",
   "execution_count": 14,
   "id": "temporal-flooring",
   "metadata": {},
   "outputs": [],
   "source": [
    "# Question 2.Create a function that takes an angle in radians and \n",
    "# returns the corresponding angle in degrees rounded to one decimal place.\n",
    "# Examples\n",
    "# radians_to_degrees(1) ➞ 57.3\n",
    "\n",
    "# radians_to_degrees(20) ➞ 1145.9\n",
    "\n",
    "# radians_to_degrees(50) ➞ 2864.8\n"
   ]
  },
  {
   "cell_type": "code",
   "execution_count": 23,
   "id": "orange-cursor",
   "metadata": {},
   "outputs": [],
   "source": [
    "import numpy as np\n",
    "\n",
    "def radian_to_degree(angle):\n",
    "    return round(np.degrees(angle),1)    "
   ]
  },
  {
   "cell_type": "code",
   "execution_count": 24,
   "id": "expanded-conservative",
   "metadata": {},
   "outputs": [
    {
     "data": {
      "text/plain": [
       "57.3"
      ]
     },
     "execution_count": 24,
     "metadata": {},
     "output_type": "execute_result"
    }
   ],
   "source": [
    "radian_to_degree(1)"
   ]
  },
  {
   "cell_type": "code",
   "execution_count": 25,
   "id": "false-princess",
   "metadata": {},
   "outputs": [
    {
     "data": {
      "text/plain": [
       "1145.9"
      ]
     },
     "execution_count": 25,
     "metadata": {},
     "output_type": "execute_result"
    }
   ],
   "source": [
    "radian_to_degree(20)"
   ]
  },
  {
   "cell_type": "code",
   "execution_count": 26,
   "id": "considerable-gnome",
   "metadata": {},
   "outputs": [
    {
     "data": {
      "text/plain": [
       "2864.8"
      ]
     },
     "execution_count": 26,
     "metadata": {},
     "output_type": "execute_result"
    }
   ],
   "source": [
    "radian_to_degree(50)"
   ]
  },
  {
   "cell_type": "code",
   "execution_count": 27,
   "id": "correct-firmware",
   "metadata": {},
   "outputs": [],
   "source": [
    "# Question 3. In this challenge, establish if a given integer num is a Curzon number. \n",
    "# If 1 plus 2 elevated to num is exactly divisible by 1 plus 2 multiplied by num, then num is a Curzon number.\n",
    "# Given a non-negative integer num, implement a function that returns True if num is a Curzon number, or False otherwise.\n",
    "# Examples\n",
    "# is_curzon(5) ➞ True\n",
    "# # 2 ** 5 + 1 = 33\n",
    "# # 2 * 5 + 1 = 11\n",
    "# # 33 is a multiple of 11\n",
    "\n",
    "# is_curzon(10) ➞ False\n",
    "# # 2 ** 10 + 1 = 1025\n",
    "# # 2 * 10 + 1 = 21\n",
    "# # 1025 is not a multiple of 21\n",
    "\n",
    "# is_curzon(14) ➞ True\n",
    "# # 2 ** 14 + 1 = 16385\n",
    "# # 2 * 14 + 1 = 29\n",
    "# # 16385 is a multiple of 29\n",
    "\n"
   ]
  },
  {
   "cell_type": "code",
   "execution_count": 25,
   "id": "intermediate-bottle",
   "metadata": {},
   "outputs": [],
   "source": [
    "# A number N is said to be a Curzon Number if 2**N + 1 is divisible by 2*N + 1.\n",
    "\n",
    "def curzon(num):\n",
    "    if ((2**num)+1)%((2*num)+1)==0:\n",
    "        print('True')\n",
    "        print('Its a curzon number')\n",
    "    else:\n",
    "        print('False')\n",
    "        print('Its not a curzon number')"
   ]
  },
  {
   "cell_type": "code",
   "execution_count": 26,
   "id": "lonely-condition",
   "metadata": {},
   "outputs": [
    {
     "name": "stdout",
     "output_type": "stream",
     "text": [
      "True\n",
      "Its a curzon number\n"
     ]
    }
   ],
   "source": [
    "curzon(5)"
   ]
  },
  {
   "cell_type": "code",
   "execution_count": 27,
   "id": "funny-champagne",
   "metadata": {},
   "outputs": [
    {
     "name": "stdout",
     "output_type": "stream",
     "text": [
      "False\n",
      "Its not a curzon number\n"
     ]
    }
   ],
   "source": [
    "curzon(10)"
   ]
  },
  {
   "cell_type": "code",
   "execution_count": 28,
   "id": "single-traveler",
   "metadata": {},
   "outputs": [
    {
     "name": "stdout",
     "output_type": "stream",
     "text": [
      "True\n",
      "Its a curzon number\n"
     ]
    }
   ],
   "source": [
    "curzon(14)"
   ]
  },
  {
   "cell_type": "code",
   "execution_count": 29,
   "id": "educational-novel",
   "metadata": {},
   "outputs": [],
   "source": [
    "# Question 4.Given the side length x find the area of a hexagon.\n",
    " \n",
    "# Examples\n",
    "# area_of_hexagon(1) ➞ 2.6\n",
    "\n",
    "# area_of_hexagon(2) ➞ 10.4\n",
    "\n",
    "# area_of_hexagon(3) ➞ 23.4\n",
    "\n",
    "\n"
   ]
  },
  {
   "cell_type": "code",
   "execution_count": 35,
   "id": "developmental-merit",
   "metadata": {},
   "outputs": [],
   "source": [
    "import numpy as np\n",
    "\n",
    "def area_of_hexagon(side):\n",
    "    area=(3*np.sqrt(3)*(side**2))/2\n",
    "    return round(area,1)"
   ]
  },
  {
   "cell_type": "code",
   "execution_count": 36,
   "id": "downtown-kidney",
   "metadata": {},
   "outputs": [
    {
     "name": "stdout",
     "output_type": "stream",
     "text": [
      "Enter the side of a hexagon:1\n"
     ]
    },
    {
     "data": {
      "text/plain": [
       "2.6"
      ]
     },
     "execution_count": 36,
     "metadata": {},
     "output_type": "execute_result"
    }
   ],
   "source": [
    "side=int(input('Enter the side of a hexagon:'))\n",
    "area_of_hexagon(side)"
   ]
  },
  {
   "cell_type": "code",
   "execution_count": 37,
   "id": "least-delight",
   "metadata": {},
   "outputs": [
    {
     "name": "stdout",
     "output_type": "stream",
     "text": [
      "Enter the side of a hexagon:2\n"
     ]
    },
    {
     "data": {
      "text/plain": [
       "10.4"
      ]
     },
     "execution_count": 37,
     "metadata": {},
     "output_type": "execute_result"
    }
   ],
   "source": [
    "side=int(input('Enter the side of a hexagon:'))\n",
    "area_of_hexagon(side)"
   ]
  },
  {
   "cell_type": "code",
   "execution_count": 38,
   "id": "lesbian-relations",
   "metadata": {},
   "outputs": [
    {
     "name": "stdout",
     "output_type": "stream",
     "text": [
      "Enter the side of a hexagon:3\n"
     ]
    },
    {
     "data": {
      "text/plain": [
       "23.4"
      ]
     },
     "execution_count": 38,
     "metadata": {},
     "output_type": "execute_result"
    }
   ],
   "source": [
    "side=int(input('Enter the side of a hexagon:'))\n",
    "area_of_hexagon(side)"
   ]
  },
  {
   "cell_type": "code",
   "execution_count": 5,
   "id": "governmental-external",
   "metadata": {},
   "outputs": [],
   "source": [
    "# Question 5. Create a function that returns a base-2 (binary) representation of a base-10 (decimal) string number.\n",
    "# To convert is simple: ((2) means base-2 and (10) means base-10) 010101001(2) = 1 + 8 + 32 + 128.\n",
    "# Going from right to left, the value of the most right bit is 1, \n",
    "# now from that every bit to the left will be x2 the value, value of an 8 bit binary numbers are \n",
    "# (256, 128, 64, 32, 16, 8, 4, 2, 1).\n",
    "# Examples\n",
    "# binary(1) ➞ \"1\"\n",
    "# # 1*1 = 1\n",
    "\n",
    "# binary(5) ➞ \"101\"\n",
    "# # 1*1 + 1*4 = 5\n",
    "\n",
    "# binary(10) ➞ \"1010\"\n",
    "# # 1*2 + 1*8 = 10"
   ]
  },
  {
   "cell_type": "code",
   "execution_count": 44,
   "id": "latin-folder",
   "metadata": {},
   "outputs": [],
   "source": [
    "def binary(num):\n",
    "    if num >= 1:\n",
    "        binary(num // 2)\n",
    "        print(num % 2,end='')"
   ]
  },
  {
   "cell_type": "code",
   "execution_count": 45,
   "id": "alike-ozone",
   "metadata": {},
   "outputs": [
    {
     "name": "stdout",
     "output_type": "stream",
     "text": [
      "1"
     ]
    }
   ],
   "source": [
    "binary(1)"
   ]
  },
  {
   "cell_type": "code",
   "execution_count": 46,
   "id": "functional-examination",
   "metadata": {},
   "outputs": [
    {
     "name": "stdout",
     "output_type": "stream",
     "text": [
      "101"
     ]
    }
   ],
   "source": [
    "binary(5)"
   ]
  },
  {
   "cell_type": "code",
   "execution_count": 47,
   "id": "smaller-prediction",
   "metadata": {},
   "outputs": [
    {
     "name": "stdout",
     "output_type": "stream",
     "text": [
      "1010"
     ]
    }
   ],
   "source": [
    "binary(10)"
   ]
  },
  {
   "cell_type": "code",
   "execution_count": null,
   "id": "acknowledged-devil",
   "metadata": {},
   "outputs": [],
   "source": []
  }
 ],
 "metadata": {
  "kernelspec": {
   "display_name": "Python 3",
   "language": "python",
   "name": "python3"
  },
  "language_info": {
   "codemirror_mode": {
    "name": "ipython",
    "version": 3
   },
   "file_extension": ".py",
   "mimetype": "text/x-python",
   "name": "python",
   "nbconvert_exporter": "python",
   "pygments_lexer": "ipython3",
   "version": "3.7.10"
  }
 },
 "nbformat": 4,
 "nbformat_minor": 5
}
