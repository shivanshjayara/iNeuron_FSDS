{
 "cells": [
  {
   "cell_type": "markdown",
   "id": "special-interval",
   "metadata": {},
   "source": [
    "**1.Write a Python Program to Find LCM?**"
   ]
  },
  {
   "cell_type": "code",
   "execution_count": 29,
   "id": "instructional-motor",
   "metadata": {},
   "outputs": [
    {
     "name": "stdout",
     "output_type": "stream",
     "text": [
      "Enter the first number: 11\n",
      "Enter the second number: 12\n",
      "HCF 11 and 12 : 1\n",
      "LCM 11 and 12: 20\n"
     ]
    }
   ],
   "source": [
    "from math import gcd\n",
    "\n",
    "def HCF_LCM(n1,n2):\n",
    "    hcf=gcd(n1,n2)\n",
    "    lcm=(n1*n2)//hcf\n",
    "    \n",
    "    return hcf,lcm\n",
    "num1=int(input('Enter the first number: '))\n",
    "num2=int(input('Enter the second number: '))\n",
    "\n",
    "h,l=HCF_LCM(4,5)\n",
    "\n",
    "print(f'HCF {num1} and {num2} : {h}')\n",
    "print(f'LCM {num1} and {num2}: {l}')\n"
   ]
  },
  {
   "cell_type": "markdown",
   "id": "decreased-documentary",
   "metadata": {},
   "source": [
    "**2.Write a Python Program to Find HCF?**"
   ]
  },
  {
   "cell_type": "code",
   "execution_count": 32,
   "id": "developing-ranking",
   "metadata": {},
   "outputs": [
    {
     "name": "stdout",
     "output_type": "stream",
     "text": [
      "Enter the first number: 5\n",
      "Enter the second number: 7\n"
     ]
    },
    {
     "data": {
      "text/plain": [
       "1"
      ]
     },
     "execution_count": 32,
     "metadata": {},
     "output_type": "execute_result"
    }
   ],
   "source": [
    "from math import gcd\n",
    "\n",
    "def hcf(n1,n2):\n",
    "    h=gcd(n1,n2)\n",
    "    return h\n",
    "\n",
    "num1=int(input('Enter the first number: '))\n",
    "num2=int(input('Enter the second number: '))\n",
    "hcf(num1,num2)"
   ]
  },
  {
   "cell_type": "markdown",
   "id": "organized-message",
   "metadata": {},
   "source": [
    "**3.Write a Python Program to Convert Decimal to Binary, Octal and Hexadecimal?**\n"
   ]
  },
  {
   "cell_type": "code",
   "execution_count": null,
   "id": "stunning-submission",
   "metadata": {},
   "outputs": [],
   "source": []
  },
  {
   "cell_type": "markdown",
   "id": "least-wrestling",
   "metadata": {},
   "source": [
    "**4.Write a Python Program To Find ASCII value of a character?**"
   ]
  },
  {
   "cell_type": "code",
   "execution_count": 67,
   "id": "jewish-population",
   "metadata": {},
   "outputs": [
    {
     "name": "stdout",
     "output_type": "stream",
     "text": [
      "Characters are \n",
      " ['a', 'b', 'c', 'd', 'e', 'f', 'g', 'h', 'i', 'j', 'k', 'l', 'm', 'n', 'o', 'p', 'q', 'r', 's', 't', 'u', 'v', 'w', 'x', 'y', 'z', 'A', 'B', 'C', 'D', 'E', 'F', 'G', 'H', 'I', 'J', 'K', 'L', 'M', 'N', 'O', 'P', 'Q', 'R', 'S', 'T', 'U', 'V', 'W', 'X', 'Y', 'Z']\n",
      "ASCII character are :\n",
      " [97, 98, 99, 100, 101, 102, 103, 104, 105, 106, 107, 108, 109, 110, 111, 112, 113, 114, 115, 116, 117, 118, 119, 120, 121, 122, 65, 66, 67, 68, 69, 70, 71, 72, 73, 74, 75, 76, 77, 78, 79, 80, 81, 82, 83, 84, 85, 86, 87, 88, 89, 90]\n"
     ]
    }
   ],
   "source": [
    "import string\n",
    "l=[]\n",
    "l2=[]\n",
    "for i in string.ascii_letters:\n",
    "    l.append(str(i))\n",
    "\n",
    "print('Characters are \\n', l)\n",
    "\n",
    "for j in l:\n",
    "    l2.append(ord(j))\n",
    "print('ASCII character are :\\n',l2)"
   ]
  },
  {
   "cell_type": "markdown",
   "id": "representative-panic",
   "metadata": {},
   "source": [
    "\n",
    "**5.Write a Python Program to Make a Simple Calculator with 4 basic mathematical operations?**"
   ]
  },
  {
   "cell_type": "code",
   "execution_count": 60,
   "id": "welcome-fitness",
   "metadata": {},
   "outputs": [
    {
     "data": {
      "text/plain": [
       "14"
      ]
     },
     "execution_count": 60,
     "metadata": {},
     "output_type": "execute_result"
    }
   ],
   "source": [
    "import math\n",
    "def cal(n1,n2,op):\n",
    "    if type(n1 & n2)==int or (type(n2 & n2)==float):\n",
    "        if op=='+':\n",
    "            return n1+n2\n",
    "        if op=='-':\n",
    "            return n1-n2\n",
    "        if op=='*':\n",
    "            return n1*n2\n",
    "        if op=='/':\n",
    "            return n1/n2\n",
    "cal(10,4,'+')"
   ]
  },
  {
   "cell_type": "code",
   "execution_count": 61,
   "id": "younger-moderator",
   "metadata": {},
   "outputs": [
    {
     "data": {
      "text/plain": [
       "50"
      ]
     },
     "execution_count": 61,
     "metadata": {},
     "output_type": "execute_result"
    }
   ],
   "source": [
    "cal(10,5,'*')"
   ]
  },
  {
   "cell_type": "code",
   "execution_count": 62,
   "id": "coral-ghana",
   "metadata": {},
   "outputs": [
    {
     "data": {
      "text/plain": [
       "-2"
      ]
     },
     "execution_count": 62,
     "metadata": {},
     "output_type": "execute_result"
    }
   ],
   "source": [
    "cal(5,7,'-')"
   ]
  },
  {
   "cell_type": "code",
   "execution_count": 64,
   "id": "wired-charm",
   "metadata": {},
   "outputs": [
    {
     "data": {
      "text/plain": [
       "5.0"
      ]
     },
     "execution_count": 64,
     "metadata": {},
     "output_type": "execute_result"
    }
   ],
   "source": [
    "cal(55,11,'/')"
   ]
  },
  {
   "cell_type": "code",
   "execution_count": null,
   "id": "textile-atlanta",
   "metadata": {},
   "outputs": [],
   "source": []
  }
 ],
 "metadata": {
  "kernelspec": {
   "display_name": "Python 3",
   "language": "python",
   "name": "python3"
  },
  "language_info": {
   "codemirror_mode": {
    "name": "ipython",
    "version": 3
   },
   "file_extension": ".py",
   "mimetype": "text/x-python",
   "name": "python",
   "nbconvert_exporter": "python",
   "pygments_lexer": "ipython3",
   "version": "3.7.10"
  }
 },
 "nbformat": 4,
 "nbformat_minor": 5
}
