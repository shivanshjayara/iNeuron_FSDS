{
 "cells": [
  {
   "cell_type": "markdown",
   "id": "confidential-missile",
   "metadata": {},
   "source": [
    "**Question 1:**\n",
    "\n",
    "Please write a program using generator to print the numbers which can be divisible by 5 and 7 between 0 and n in comma separated form while n is input by console.\n",
    "\n",
    "Example:\n",
    "\n",
    "If the following n is given as input to the program:\n",
    "100\n",
    "\n",
    "Then, the output of the program should be:\n",
    "0,35,70\n"
   ]
  },
  {
   "cell_type": "code",
   "execution_count": 75,
   "id": "associate-grace",
   "metadata": {},
   "outputs": [
    {
     "name": "stdout",
     "output_type": "stream",
     "text": [
      "Enter the number range: 100\n"
     ]
    }
   ],
   "source": [
    "class generator:\n",
    "    def __init__(self):\n",
    "        self.num=int(input('Enter the number range: '))\n",
    "    \n",
    "    def div(self):\n",
    "        for i in range(self.num):\n",
    "            if (i%5==0) and (i%7==0):\n",
    "                yield i\n",
    "                \n",
    "object=generator()"
   ]
  },
  {
   "cell_type": "code",
   "execution_count": 76,
   "id": "national-smart",
   "metadata": {},
   "outputs": [],
   "source": [
    "a=object.div()"
   ]
  },
  {
   "cell_type": "code",
   "execution_count": 77,
   "id": "hungarian-energy",
   "metadata": {},
   "outputs": [
    {
     "name": "stdout",
     "output_type": "stream",
     "text": [
      "0,35,70\n"
     ]
    }
   ],
   "source": [
    "l=[str(i) for i in a]\n",
    "print(','.join(l))"
   ]
  },
  {
   "cell_type": "markdown",
   "id": "front-addition",
   "metadata": {},
   "source": [
    "**Question 2:**\n",
    "\n",
    "Please write a program using generator to print the even numbers between 0 and n in comma separated form while n is input by console.\n",
    "\n",
    "Example:\n",
    "\n",
    "If the following n is given as input to the program:\n",
    "10\n",
    "\n",
    "Then, the output of the program should be:\n",
    "0,2,4,6,8,10\n"
   ]
  },
  {
   "cell_type": "code",
   "execution_count": 78,
   "id": "ethical-equality",
   "metadata": {},
   "outputs": [],
   "source": [
    "class generator:\n",
    "    def __init__(self):\n",
    "        self.num=int(input('Enter the number range: '))\n",
    "        \n",
    "    def even(self):\n",
    "        for i in range(self.num):\n",
    "            if i%2==0:\n",
    "                yield i"
   ]
  },
  {
   "cell_type": "code",
   "execution_count": 83,
   "id": "thick-asbestos",
   "metadata": {},
   "outputs": [
    {
     "name": "stdout",
     "output_type": "stream",
     "text": [
      "Enter the number range: 10\n"
     ]
    }
   ],
   "source": [
    "obj=generator()"
   ]
  },
  {
   "cell_type": "code",
   "execution_count": 84,
   "id": "express-kelly",
   "metadata": {},
   "outputs": [],
   "source": [
    "n=obj.even()"
   ]
  },
  {
   "cell_type": "code",
   "execution_count": 85,
   "id": "legal-variable",
   "metadata": {},
   "outputs": [
    {
     "name": "stdout",
     "output_type": "stream",
     "text": [
      "0,2,4,6,8\n"
     ]
    }
   ],
   "source": [
    "l=[str(i) for i in n]\n",
    "print(','.join(l))"
   ]
  },
  {
   "cell_type": "markdown",
   "id": "reported-connecticut",
   "metadata": {},
   "source": [
    "**Question 3:**\n",
    "\n",
    "The Fibonacci Sequence is computed based on the following formula:\n",
    "f(n)=0 if n=0\n",
    "f(n)=1 if n=1\n",
    "f(n)=f(n-1)+f(n-2) if n>1\n",
    "\n",
    "Please write a program using list comprehension to print the Fibonacci Sequence in comma separated form with a given n input by console.\n",
    "\n",
    "Example:\n",
    "\n",
    "If the following n is given as input to the program:\n",
    "7\n",
    "\n",
    "Then, the output of the program should be:\n",
    "0,1,1,2,3,5,8,13"
   ]
  },
  {
   "cell_type": "code",
   "execution_count": 4,
   "id": "assigned-variable",
   "metadata": {},
   "outputs": [],
   "source": [
    "def fibo():\n",
    "    x=0\n",
    "    y=1\n",
    "    l=[x for i in range(7)]\n",
    "    for i in range(20):\n",
    "        print(x,end=' ')\n",
    "        x,y=y,x+y"
   ]
  },
  {
   "cell_type": "code",
   "execution_count": 5,
   "id": "paperback-scotland",
   "metadata": {},
   "outputs": [
    {
     "name": "stdout",
     "output_type": "stream",
     "text": [
      "0 1 1 2 3 5 8 13 21 34 55 89 144 233 377 610 987 1597 2584 4181 "
     ]
    }
   ],
   "source": [
    "fibo()"
   ]
  },
  {
   "cell_type": "markdown",
   "id": "concerned-bahamas",
   "metadata": {},
   "source": [
    "**Question 4:**\n",
    "\n",
    "Assuming that we have some email addresses in the \"username@companyname.com\" format, please write program to print the user name of a given email address. Both user names and company names are composed of letters only.\n",
    "\n",
    "Example:\n",
    "\n",
    "If the following email address is given as input to the program:\n",
    "john@google.com\n",
    "\n",
    "Then, the output of the program should be:\n",
    "john"
   ]
  },
  {
   "cell_type": "code",
   "execution_count": 88,
   "id": "native-father",
   "metadata": {},
   "outputs": [
    {
     "name": "stdout",
     "output_type": "stream",
     "text": [
      "Enter the emial id: john@google.com\n",
      "john\n"
     ]
    }
   ],
   "source": [
    "email=input('Enter the emial id: ')\n",
    "\n",
    "if '@' in email:\n",
    "    l=email.split('@')\n",
    "    print(l[0])\n",
    "else:\n",
    "    print('Wrong entry')"
   ]
  },
  {
   "cell_type": "markdown",
   "id": "animated-marathon",
   "metadata": {},
   "source": [
    "**Question 5:**\n",
    "\n",
    "Define a class named Shape and its subclass Square. The Square class has an init function which takes a length as argument. Both classes have a area function which can print the area of the shape where Shape's area is 0 by default.\n"
   ]
  },
  {
   "cell_type": "code",
   "execution_count": 101,
   "id": "reasonable-draft",
   "metadata": {},
   "outputs": [],
   "source": [
    "class Shape:\n",
    "    def __init__(self,length_shape):\n",
    "        self.length=length_shape\n",
    "    \n",
    "    def area(self):\n",
    "        print(f'Area is {self.length*self.length}')\n",
    "\n",
    "class Square(Shape):\n",
    "    def __init__(self,*args):\n",
    "        super(Square,self).__init__(*args)\n",
    "        self.length=length_square=0\n",
    "              \n",
    "    def area(self):\n",
    "        print(f'Area is {self.length*self.length}')\n"
   ]
  },
  {
   "cell_type": "code",
   "execution_count": 102,
   "id": "active-tokyo",
   "metadata": {},
   "outputs": [],
   "source": [
    "ob_shape=Shape(10)\n",
    "ob_square=Square(20)"
   ]
  },
  {
   "cell_type": "code",
   "execution_count": 103,
   "id": "dressed-walnut",
   "metadata": {},
   "outputs": [
    {
     "name": "stdout",
     "output_type": "stream",
     "text": [
      "Area is 100\n"
     ]
    }
   ],
   "source": [
    "ob_shape.area()"
   ]
  },
  {
   "cell_type": "code",
   "execution_count": 104,
   "id": "responsible-factory",
   "metadata": {},
   "outputs": [
    {
     "name": "stdout",
     "output_type": "stream",
     "text": [
      "Area is 0\n"
     ]
    }
   ],
   "source": [
    "ob_square.area()"
   ]
  },
  {
   "cell_type": "code",
   "execution_count": null,
   "id": "ceramic-limit",
   "metadata": {},
   "outputs": [],
   "source": []
  }
 ],
 "metadata": {
  "kernelspec": {
   "display_name": "Python 3",
   "language": "python",
   "name": "python3"
  },
  "language_info": {
   "codemirror_mode": {
    "name": "ipython",
    "version": 3
   },
   "file_extension": ".py",
   "mimetype": "text/x-python",
   "name": "python",
   "nbconvert_exporter": "python",
   "pygments_lexer": "ipython3",
   "version": "3.7.10"
  }
 },
 "nbformat": 4,
 "nbformat_minor": 5
}
