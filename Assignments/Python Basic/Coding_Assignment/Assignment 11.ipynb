{
 "cells": [
  {
   "cell_type": "markdown",
   "id": "freelance-albuquerque",
   "metadata": {},
   "source": [
    "**1.Write a Python program to find words which are greater than given length k?**"
   ]
  },
  {
   "cell_type": "code",
   "execution_count": 10,
   "id": "adverse-domestic",
   "metadata": {},
   "outputs": [
    {
     "name": "stdout",
     "output_type": "stream",
     "text": [
      "Enter the words: shivansh\n",
      "Enter the words: ram\n",
      "Enter the words: sita\n",
      "Enter the words: mohan\n",
      "Enter the words: ramu\n",
      "shivansh mohan "
     ]
    }
   ],
   "source": [
    "k=4\n",
    "l=[]\n",
    "for i in range(5):\n",
    "    w=input('Enter the words: ')\n",
    "    l.append(w)\n",
    "for i in l:\n",
    "    if len(i)>k:\n",
    "        print(i, end=' ')"
   ]
  },
  {
   "cell_type": "markdown",
   "id": "alone-plaza",
   "metadata": {},
   "source": [
    "**2.Write a Python program for removing i-th character from a string?**"
   ]
  },
  {
   "cell_type": "code",
   "execution_count": 12,
   "id": "adopted-flight",
   "metadata": {},
   "outputs": [
    {
     "data": {
      "text/plain": [
       "'shvansh'"
      ]
     },
     "execution_count": 12,
     "metadata": {},
     "output_type": "execute_result"
    }
   ],
   "source": [
    "s='shivansh'\n",
    "\n",
    "#character to remove is 'i'\n",
    "\n",
    "''.join(s.split('i'))"
   ]
  },
  {
   "cell_type": "markdown",
   "id": "aboriginal-moses",
   "metadata": {},
   "source": [
    "**3.Write a Python program to split and join a string?**"
   ]
  },
  {
   "cell_type": "code",
   "execution_count": 13,
   "id": "honest-benchmark",
   "metadata": {},
   "outputs": [
    {
     "data": {
      "text/plain": [
       "'My name  shivansh'"
      ]
     },
     "execution_count": 13,
     "metadata": {},
     "output_type": "execute_result"
    }
   ],
   "source": [
    "# removing 'is' from the string\n",
    "\n",
    "s='My name is shivansh'\n",
    "\n",
    "''.join(s.split('is'))"
   ]
  },
  {
   "cell_type": "markdown",
   "id": "orange-syria",
   "metadata": {},
   "source": [
    "**4.Write a Python to check if a given string is binary string or not?**"
   ]
  },
  {
   "cell_type": "code",
   "execution_count": 34,
   "id": "crazy-temperature",
   "metadata": {},
   "outputs": [
    {
     "name": "stdout",
     "output_type": "stream",
     "text": [
      "shivansh is not binary\n",
      "0shiavnsh1010 is not binary\n",
      "12345 is not binary\n",
      "010111000000111 is binary\n"
     ]
    }
   ],
   "source": [
    "s1='shivansh'\n",
    "s2='0shiavnsh1010'\n",
    "s3='12345'\n",
    "s4='010111000000111'\n",
    "\n",
    "s11=set(s1)\n",
    "s22=set(s2)\n",
    "s33=set(s3)\n",
    "s44=set(s4)\n",
    "\n",
    "b={'0','1'}\n",
    "\n",
    "if (s11==b) or (s11=={'0'}) or (s11=={'1'}):\n",
    "    print(f'{s1} is binary')\n",
    "else:\n",
    "    print(f'{s1} is not binary')\n",
    "\n",
    "if (s22==b) or (s22=={'0'}) or (s22=={'1'}):\n",
    "    print(f'{s2} is binary')\n",
    "else:\n",
    "    print(f'{s2} is not binary')\n",
    "    \n",
    "if (s33==b) or (s33=={'0'}) or (s33=={'1'}):\n",
    "    print(f'{s3} is binary')\n",
    "else:\n",
    "    print(f'{s3} is not binary')\n",
    "    \n",
    "if (s44==b) or (s44=={'0'}) or (s44=={'1'}):\n",
    "    print(f'{s4} is binary')\n",
    "else:\n",
    "    print(f'{s4} is not binary')"
   ]
  },
  {
   "cell_type": "markdown",
   "id": "endless-convention",
   "metadata": {},
   "source": [
    "**5.Write a Python program to find uncommon words from two Strings?**"
   ]
  },
  {
   "cell_type": "code",
   "execution_count": 40,
   "id": "incomplete-vaccine",
   "metadata": {},
   "outputs": [
    {
     "name": "stdout",
     "output_type": "stream",
     "text": [
      "v a "
     ]
    }
   ],
   "source": [
    "s1='shivansh'\n",
    "s2='singh'\n",
    "\n",
    "for i in s1:\n",
    "    if i not in s2:\n",
    "        print(i,end=' ')"
   ]
  },
  {
   "cell_type": "markdown",
   "id": "acquired-vessel",
   "metadata": {},
   "source": [
    "**6.Write a Python to find all duplicate characters in string?**"
   ]
  },
  {
   "cell_type": "code",
   "execution_count": 44,
   "id": "stopped-american",
   "metadata": {},
   "outputs": [
    {
     "name": "stdout",
     "output_type": "stream",
     "text": [
      "s h i n "
     ]
    }
   ],
   "source": [
    "s1='shivansh'\n",
    "s2='singh'\n",
    "temp=''\n",
    "for i in s1:\n",
    "    if i not in temp:\n",
    "        if i in s2:\n",
    "            print(i,end=' ')\n",
    "            temp+=i"
   ]
  },
  {
   "cell_type": "markdown",
   "id": "helpful-graphic",
   "metadata": {},
   "source": [
    "**7.Write a Python Program to check if a string contains any special character?**"
   ]
  },
  {
   "cell_type": "code",
   "execution_count": 54,
   "id": "scientific-enlargement",
   "metadata": {},
   "outputs": [
    {
     "name": "stdout",
     "output_type": "stream",
     "text": [
      "Enter the string: khh@\n",
      "Contains\n"
     ]
    }
   ],
   "source": [
    "spcl='[@_!#$%^&*()<>?/\\|}{~:]'\n",
    "s=input('Enter the string: ')\n",
    "flag=False\n",
    "for i in s:\n",
    "    if i not in spcl:\n",
    "        flag=True\n",
    "    else:\n",
    "        flag=False\n",
    "if flag==True:\n",
    "    print('Not contains')\n",
    "else:\n",
    "    print('Contains')"
   ]
  },
  {
   "cell_type": "code",
   "execution_count": null,
   "id": "appreciated-netscape",
   "metadata": {},
   "outputs": [],
   "source": []
  }
 ],
 "metadata": {
  "kernelspec": {
   "display_name": "Python 3",
   "language": "python",
   "name": "python3"
  },
  "language_info": {
   "codemirror_mode": {
    "name": "ipython",
    "version": 3
   },
   "file_extension": ".py",
   "mimetype": "text/x-python",
   "name": "python",
   "nbconvert_exporter": "python",
   "pygments_lexer": "ipython3",
   "version": "3.7.10"
  }
 },
 "nbformat": 4,
 "nbformat_minor": 5
}
