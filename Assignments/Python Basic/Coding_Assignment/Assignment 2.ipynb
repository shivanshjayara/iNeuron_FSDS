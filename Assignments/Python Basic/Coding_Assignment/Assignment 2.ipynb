{
 "cells": [
  {
   "cell_type": "markdown",
   "id": "stopped-residence",
   "metadata": {},
   "source": [
    "**1.Write a Python program to convert kilometers to miles?**\n",
    "\n"
   ]
  },
  {
   "cell_type": "code",
   "execution_count": 8,
   "id": "transsexual-security",
   "metadata": {},
   "outputs": [
    {
     "name": "stdout",
     "output_type": "stream",
     "text": [
      "Enter the value which you want to convert into mile : 2\n",
      "Value in miles is: 1.242742\n"
     ]
    }
   ],
   "source": [
    "# 1 km = 0.621371 miles\n",
    "\n",
    "km=int(input('Enter the value which you want to convert into mile : '))\n",
    "\n",
    "print(f'Value in miles is: {km*0.621371}')"
   ]
  },
  {
   "cell_type": "markdown",
   "id": "extra-bradford",
   "metadata": {},
   "source": [
    "**2.Write a Python program to convert Celsius to Fahrenheit?**\n"
   ]
  },
  {
   "cell_type": "code",
   "execution_count": 18,
   "id": "general-substance",
   "metadata": {},
   "outputs": [
    {
     "name": "stdout",
     "output_type": "stream",
     "text": [
      "Enter the value in Celcius: 2\n",
      "Temperature in Farenhite is: 35.6\n"
     ]
    }
   ],
   "source": [
    "# c=((F-32)*5)/9\n",
    "\n",
    "C=int(input('Enter the value in Celcius: '))\n",
    "print(f'Temperature in Farenhite is: {(9/5*C)+32}')"
   ]
  },
  {
   "cell_type": "markdown",
   "id": "champion-estimate",
   "metadata": {},
   "source": [
    "**3.Write a Python program to display calendar?**\n"
   ]
  },
  {
   "cell_type": "code",
   "execution_count": 23,
   "id": "conditional-hotel",
   "metadata": {},
   "outputs": [
    {
     "name": "stdout",
     "output_type": "stream",
     "text": [
      "                                  2021\n",
      "\n",
      "      January                   February                   March\n",
      "Mo Tu We Th Fr Sa Su      Mo Tu We Th Fr Sa Su      Mo Tu We Th Fr Sa Su\n",
      "             1  2  3       1  2  3  4  5  6  7       1  2  3  4  5  6  7\n",
      " 4  5  6  7  8  9 10       8  9 10 11 12 13 14       8  9 10 11 12 13 14\n",
      "11 12 13 14 15 16 17      15 16 17 18 19 20 21      15 16 17 18 19 20 21\n",
      "18 19 20 21 22 23 24      22 23 24 25 26 27 28      22 23 24 25 26 27 28\n",
      "25 26 27 28 29 30 31                                29 30 31\n",
      "\n",
      "       April                      May                       June\n",
      "Mo Tu We Th Fr Sa Su      Mo Tu We Th Fr Sa Su      Mo Tu We Th Fr Sa Su\n",
      "          1  2  3  4                      1  2          1  2  3  4  5  6\n",
      " 5  6  7  8  9 10 11       3  4  5  6  7  8  9       7  8  9 10 11 12 13\n",
      "12 13 14 15 16 17 18      10 11 12 13 14 15 16      14 15 16 17 18 19 20\n",
      "19 20 21 22 23 24 25      17 18 19 20 21 22 23      21 22 23 24 25 26 27\n",
      "26 27 28 29 30            24 25 26 27 28 29 30      28 29 30\n",
      "                          31\n",
      "\n",
      "        July                     August                  September\n",
      "Mo Tu We Th Fr Sa Su      Mo Tu We Th Fr Sa Su      Mo Tu We Th Fr Sa Su\n",
      "          1  2  3  4                         1             1  2  3  4  5\n",
      " 5  6  7  8  9 10 11       2  3  4  5  6  7  8       6  7  8  9 10 11 12\n",
      "12 13 14 15 16 17 18       9 10 11 12 13 14 15      13 14 15 16 17 18 19\n",
      "19 20 21 22 23 24 25      16 17 18 19 20 21 22      20 21 22 23 24 25 26\n",
      "26 27 28 29 30 31         23 24 25 26 27 28 29      27 28 29 30\n",
      "                          30 31\n",
      "\n",
      "      October                   November                  December\n",
      "Mo Tu We Th Fr Sa Su      Mo Tu We Th Fr Sa Su      Mo Tu We Th Fr Sa Su\n",
      "             1  2  3       1  2  3  4  5  6  7             1  2  3  4  5\n",
      " 4  5  6  7  8  9 10       8  9 10 11 12 13 14       6  7  8  9 10 11 12\n",
      "11 12 13 14 15 16 17      15 16 17 18 19 20 21      13 14 15 16 17 18 19\n",
      "18 19 20 21 22 23 24      22 23 24 25 26 27 28      20 21 22 23 24 25 26\n",
      "25 26 27 28 29 30 31      29 30                     27 28 29 30 31\n",
      "\n"
     ]
    }
   ],
   "source": [
    "import calendar\n",
    "\n",
    "print(calendar.calendar(2021))"
   ]
  },
  {
   "cell_type": "markdown",
   "id": "objective-virginia",
   "metadata": {},
   "source": [
    "**4.Write a Python program to solve quadratic equation?**\n"
   ]
  },
  {
   "cell_type": "code",
   "execution_count": 35,
   "id": "unlimited-racing",
   "metadata": {},
   "outputs": [
    {
     "name": "stdout",
     "output_type": "stream",
     "text": [
      "Enter the value of X: 2\n",
      "Enter the value of intercept C: 1\n",
      "Solution is: 5.0\n"
     ]
    }
   ],
   "source": [
    "# a=x**2 + x + c\n",
    "\n",
    "X=float(input('Enter the value of X: '))\n",
    "C=float(input('Enter the value of intercept C: '))\n",
    "\n",
    "print(f'Solution is: {(X**2)+  + C}')"
   ]
  },
  {
   "cell_type": "markdown",
   "id": "prescription-february",
   "metadata": {},
   "source": [
    "**5. Write a Python program to swap two variables without temp variable?**"
   ]
  },
  {
   "cell_type": "code",
   "execution_count": 37,
   "id": "prospective-coating",
   "metadata": {},
   "outputs": [
    {
     "name": "stdout",
     "output_type": "stream",
     "text": [
      "a: 20 and b is :10\n"
     ]
    }
   ],
   "source": [
    "a=10\n",
    "b=20\n",
    "\n",
    "a=a+b #30\n",
    "b=a-b # 30-20=10\n",
    "a=a-b # 30-10=20\n",
    "\n",
    "print(f'a: {a} and b is :{b}')"
   ]
  },
  {
   "cell_type": "code",
   "execution_count": null,
   "id": "constitutional-burton",
   "metadata": {},
   "outputs": [],
   "source": []
  }
 ],
 "metadata": {
  "kernelspec": {
   "display_name": "Python 3",
   "language": "python",
   "name": "python3"
  },
  "language_info": {
   "codemirror_mode": {
    "name": "ipython",
    "version": 3
   },
   "file_extension": ".py",
   "mimetype": "text/x-python",
   "name": "python",
   "nbconvert_exporter": "python",
   "pygments_lexer": "ipython3",
   "version": "3.7.10"
  }
 },
 "nbformat": 4,
 "nbformat_minor": 5
}
