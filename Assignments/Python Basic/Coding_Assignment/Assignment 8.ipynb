{
 "cells": [
  {
   "cell_type": "markdown",
   "id": "heated-skill",
   "metadata": {},
   "source": [
    "**1.Write a Python Program to Add Two Matrices?**"
   ]
  },
  {
   "cell_type": "code",
   "execution_count": 40,
   "id": "spanish-conspiracy",
   "metadata": {},
   "outputs": [
    {
     "name": "stdout",
     "output_type": "stream",
     "text": [
      "[[0 1 2 3]\n",
      " [4 5 6 7]]\n",
      "\n",
      "[[ 8 12  1  5]\n",
      " [15  6 13  9]]\n",
      "\n",
      "[[ 8 13  3  8]\n",
      " [19 11 19 16]]\n"
     ]
    }
   ],
   "source": [
    "import numpy as np\n",
    "\n",
    "mat1=np.arange(8).reshape(2,4)\n",
    "mat2=np.random.randint(1,17,8).reshape(2,4)\n",
    "print(mat1)\n",
    "print()\n",
    "print(mat2)\n",
    "print()\n",
    "\n",
    "print(np.add(mat1,mat2))"
   ]
  },
  {
   "cell_type": "markdown",
   "id": "surrounded-cartridge",
   "metadata": {},
   "source": [
    "**2.Write a Python Program to Multiply Two Matrices?**"
   ]
  },
  {
   "cell_type": "code",
   "execution_count": 41,
   "id": "coral-joining",
   "metadata": {},
   "outputs": [
    {
     "name": "stdout",
     "output_type": "stream",
     "text": [
      "[[ 0 12  2 15]\n",
      " [60 30 78 63]]\n"
     ]
    }
   ],
   "source": [
    "# using above matrices\n",
    "\n",
    "print(np.multiply(mat1,mat2))"
   ]
  },
  {
   "cell_type": "markdown",
   "id": "arranged-lecture",
   "metadata": {},
   "source": [
    "\n",
    "**3.Write a Python Program to Transpose a Matrix?**"
   ]
  },
  {
   "cell_type": "code",
   "execution_count": 42,
   "id": "incorrect-strategy",
   "metadata": {},
   "outputs": [
    {
     "name": "stdout",
     "output_type": "stream",
     "text": [
      "[[0 4]\n",
      " [1 5]\n",
      " [2 6]\n",
      " [3 7]]\n"
     ]
    }
   ],
   "source": [
    "print(mat1.T)"
   ]
  },
  {
   "cell_type": "markdown",
   "id": "overall-liverpool",
   "metadata": {},
   "source": [
    "\n",
    "**4.Write a Python Program to Sort Words in Alphabetic Order?**"
   ]
  },
  {
   "cell_type": "code",
   "execution_count": 44,
   "id": "blessed-arena",
   "metadata": {},
   "outputs": [
    {
     "name": "stdout",
     "output_type": "stream",
     "text": [
      "['ajay', 'bablu', 'bittu', 'rahul', 'shivansh']\n"
     ]
    }
   ],
   "source": [
    "l=['shivansh','ajay','rahul','bittu','bablu']\n",
    "print(sorted(l))"
   ]
  },
  {
   "cell_type": "markdown",
   "id": "acoustic-excerpt",
   "metadata": {},
   "source": [
    "**5.Write a Python Program to Remove Punctuation From a String?**"
   ]
  },
  {
   "cell_type": "code",
   "execution_count": 53,
   "id": "asian-bibliography",
   "metadata": {},
   "outputs": [
    {
     "data": {
      "text/plain": [
       "'Hello my name is shivansh i am 29 years old. I live in dehradun and i am learning data sciece/machine learning from ineuron!'"
      ]
     },
     "execution_count": 53,
     "metadata": {},
     "output_type": "execute_result"
    }
   ],
   "source": [
    "s='Hello my name is shivansh, i am 29 years old. I live in dehradun, and i am learning data sciece/machine learning from ineuron!'\n",
    "\n",
    "''.join(s.split(','))"
   ]
  }
 ],
 "metadata": {
  "kernelspec": {
   "display_name": "Python 3",
   "language": "python",
   "name": "python3"
  },
  "language_info": {
   "codemirror_mode": {
    "name": "ipython",
    "version": 3
   },
   "file_extension": ".py",
   "mimetype": "text/x-python",
   "name": "python",
   "nbconvert_exporter": "python",
   "pygments_lexer": "ipython3",
   "version": "3.7.10"
  }
 },
 "nbformat": 4,
 "nbformat_minor": 5
}
