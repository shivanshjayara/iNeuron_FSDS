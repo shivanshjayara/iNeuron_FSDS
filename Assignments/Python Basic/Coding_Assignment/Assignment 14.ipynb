{
 "cells": [
  {
   "cell_type": "markdown",
   "id": "affected-money",
   "metadata": {},
   "source": [
    "**1) Define a class with a generator which can iterate the numbers, which are divisible by 7, between a given range 0 and n.**\n"
   ]
  },
  {
   "cell_type": "code",
   "execution_count": 9,
   "id": "worse-algeria",
   "metadata": {},
   "outputs": [],
   "source": [
    "def gen(n):\n",
    "    for i in range(n):\n",
    "        if i%7==0:\n",
    "            yield i\n",
    "ob=gen(21)"
   ]
  },
  {
   "cell_type": "code",
   "execution_count": 10,
   "id": "capital-patrol",
   "metadata": {},
   "outputs": [
    {
     "name": "stdout",
     "output_type": "stream",
     "text": [
      "0\n",
      "7\n",
      "14\n"
     ]
    }
   ],
   "source": [
    "for i in ob:\n",
    "    print(i)"
   ]
  },
  {
   "cell_type": "markdown",
   "id": "therapeutic-superintendent",
   "metadata": {},
   "source": [
    "**2) Write a program to compute the frequency of the words from the input. The output should output after sorting the key alphanumerically.** \n",
    "\n",
    "**Suppose the following input is supplied to the program:**\n",
    "\n",
    "**New to Python or choosing between Python 2 and Python 3? Read Python 2 or Python 3.**\n",
    "\n",
    "**Then, the output should be:**\n",
    "\n",
    "**2:2**\n",
    "\n",
    "**3.:1**\n",
    "\n",
    "**3?:1**\n",
    "\n",
    "**New:1**\n",
    "\n",
    "**Python:5**\n",
    "\n",
    "**Read:1**\n",
    "\n",
    "**and:1**\n",
    "\n",
    "**between:1**\n",
    "\n",
    "**choosing:1**\n",
    "\n",
    "**or:2**\n",
    "\n",
    "**to:1**"
   ]
  },
  {
   "cell_type": "code",
   "execution_count": 16,
   "id": "genuine-angel",
   "metadata": {},
   "outputs": [],
   "source": [
    "def freq(string):\n",
    "    l=string.split()\n",
    "    temp=''\n",
    "    for i in l:\n",
    "        if i not in temp:\n",
    "            print(f'{i}:{l.count(i)}')\n",
    "            temp+=i"
   ]
  },
  {
   "cell_type": "code",
   "execution_count": 17,
   "id": "answering-landing",
   "metadata": {},
   "outputs": [
    {
     "name": "stdout",
     "output_type": "stream",
     "text": [
      "New:1\n",
      "to:1\n",
      "Python:5\n",
      "or:2\n",
      "choosing:1\n",
      "between:1\n",
      "2:2\n",
      "and:1\n",
      "3?:1\n",
      "Read:1\n",
      "3.:1\n"
     ]
    }
   ],
   "source": [
    "freq('New to Python or choosing between Python 2 and Python 3? Read Python 2 or Python 3.')"
   ]
  },
  {
   "cell_type": "markdown",
   "id": "approved-venice",
   "metadata": {},
   "source": [
    "**3) Define a class Person and its two child classes: Male and Female. All classes have a method \"getGender\" which can print \"Male\" for Male class and \"Female\" for Female class.**"
   ]
  },
  {
   "cell_type": "code",
   "execution_count": 30,
   "id": "judicial-discretion",
   "metadata": {},
   "outputs": [],
   "source": [
    "class Person:\n",
    "    def __init__(self):\n",
    "        pass\n",
    "        \n",
    "    def getGender(self):\n",
    "        return 'This is a parent class'\n",
    "    \n",
    "class Male(Person):\n",
    "    def __init__(self,male_cm,*args):\n",
    "        super(Male,self).__init__(*args)\n",
    "        self.male_child=male_cm\n",
    "    \n",
    "    def getGender(self):\n",
    "        return self.male_child\n",
    "    \n",
    "\n",
    "class Female(Person):\n",
    "    def __init__(self,female_cm,*args):\n",
    "        super(Female,self).__init__(*args)\n",
    "        self.female_child=female_cm\n",
    "    def getGender(self):\n",
    "        return self.female_child"
   ]
  },
  {
   "cell_type": "code",
   "execution_count": 31,
   "id": "thrown-homeless",
   "metadata": {},
   "outputs": [],
   "source": [
    "ob_p=Person()\n",
    "ob_male=Male('Akshay')\n",
    "ob_female=Female('Shikha')"
   ]
  },
  {
   "cell_type": "code",
   "execution_count": 32,
   "id": "prescription-maintenance",
   "metadata": {},
   "outputs": [
    {
     "name": "stdout",
     "output_type": "stream",
     "text": [
      "For male child class: Akshay\n"
     ]
    }
   ],
   "source": [
    "print(f'For male child class: {ob_male.getGender()}')"
   ]
  },
  {
   "cell_type": "code",
   "execution_count": 33,
   "id": "mature-syndicate",
   "metadata": {},
   "outputs": [
    {
     "name": "stdout",
     "output_type": "stream",
     "text": [
      "For female child class: Shikha\n"
     ]
    }
   ],
   "source": [
    "print(f'For female child class: {ob_female.getGender()}')"
   ]
  },
  {
   "cell_type": "markdown",
   "id": "intelligent-revision",
   "metadata": {},
   "source": [
    "**4)Please write a program to generate all sentences where subject is in [\"I\", \"You\"] and verb is in [\"Play\", \"Love\"] and the object is in [\"Hockey\",\"Football\"].**"
   ]
  },
  {
   "cell_type": "code",
   "execution_count": 16,
   "id": "possible-collective",
   "metadata": {},
   "outputs": [
    {
     "name": "stdout",
     "output_type": "stream",
     "text": [
      "Enter the setence: I You Love Play Hockey Football\n",
      "['I', 'You']\n",
      "['Love', 'Play']\n",
      "['Hockey', 'Football']\n"
     ]
    }
   ],
   "source": [
    "sub=[]\n",
    "verb=[]\n",
    "obj=[]\n",
    "s=input('Enter the setence: ').split()\n",
    "for i in s:\n",
    "    try:\n",
    "        if (i=='I') or (i=='You'):\n",
    "            sub.append(i)\n",
    "    except Exception as e:\n",
    "        print(e)\n",
    "    try:\n",
    "        if (i=='Play') or (i=='Love'):\n",
    "            verb.append(i)\n",
    "    except Exception as e:\n",
    "        print(e)\n",
    "    try:    \n",
    "        if (i=='Hockey') or (i=='Football'):\n",
    "            obj.append(i)\n",
    "    except Exception as e:\n",
    "        print(e)\n",
    "        \n",
    "print(sub)\n",
    "print(verb)\n",
    "print(obj)"
   ]
  },
  {
   "cell_type": "markdown",
   "id": "temporal-excellence",
   "metadata": {},
   "source": [
    "**5) Please write a program to compress and decompress the string \"hello world!hello world!hello world!hello world!**"
   ]
  },
  {
   "cell_type": "code",
   "execution_count": 52,
   "id": "athletic-warren",
   "metadata": {},
   "outputs": [
    {
     "name": "stdout",
     "output_type": "stream",
     "text": [
      "b'hello world!hello world!hello world!hello world!'\n"
     ]
    }
   ],
   "source": [
    "import gzip\n",
    "s = b\"hello world!hello world!hello world!hello world!\"\n",
    "s = gzip.compress(s)\n",
    "  \n",
    "# using gzip.decompress(s) method\n",
    "t = gzip.decompress(s)\n",
    "print(t)"
   ]
  },
  {
   "cell_type": "markdown",
   "id": "reduced-modern",
   "metadata": {},
   "source": [
    "**6) Please write a binary search function which searches an item in a sorted list. The function should return the index of element to be searched in the list.**"
   ]
  },
  {
   "cell_type": "code",
   "execution_count": 36,
   "id": "dramatic-warren",
   "metadata": {},
   "outputs": [],
   "source": [
    "def sort_func(item):\n",
    "    l1=[12,14,13,10,20]    \n",
    "    \n",
    "    sorted_list=sorted(l1)\n",
    "    print(sorted_list)\n",
    "    if item in sorted_list:\n",
    "        print(f'Item {item} is present and its index number is {sorted_list.index(item)}')\n",
    "    else:\n",
    "        print(f'Item {item} not present in the list')\n"
   ]
  },
  {
   "cell_type": "code",
   "execution_count": 37,
   "id": "sixth-investigation",
   "metadata": {},
   "outputs": [
    {
     "name": "stdout",
     "output_type": "stream",
     "text": [
      "[10, 12, 13, 14, 20]\n",
      "Item 14 is present and its index number is 3\n"
     ]
    }
   ],
   "source": [
    "sort_func(14)"
   ]
  }
 ],
 "metadata": {
  "kernelspec": {
   "display_name": "Python 3",
   "language": "python",
   "name": "python3"
  },
  "language_info": {
   "codemirror_mode": {
    "name": "ipython",
    "version": 3
   },
   "file_extension": ".py",
   "mimetype": "text/x-python",
   "name": "python",
   "nbconvert_exporter": "python",
   "pygments_lexer": "ipython3",
   "version": "3.7.10"
  }
 },
 "nbformat": 4,
 "nbformat_minor": 5
}
