{
 "cells": [
  {
   "cell_type": "markdown",
   "id": "suffering-accuracy",
   "metadata": {},
   "source": [
    "**1.Explain the term machine learning, and how does it work? Explain two machine learning applications in the business world. What are some of the ethical concerns that machine learning applications could raise?**"
   ]
  },
  {
   "cell_type": "markdown",
   "id": "0c4d5b17",
   "metadata": {},
   "source": [
    "Ans.\n",
    "\n",
    "Machine learning is a form of artificial intelligence (AI) that teaches computers to think in a similar way to how humans do: Learning and improving upon past experiences. \n",
    "It works by exploring data and identifying patterns, and involves minimal human intervention. It train the model with some training data and then once it gets perfectly created, it predicts the test data.\n",
    "\n",
    "\n",
    "    "
   ]
  },
  {
   "cell_type": "markdown",
   "id": "separate-trademark",
   "metadata": {},
   "source": [
    "**3. Provide a few examples of various types of machine learning.**"
   ]
  },
  {
   "cell_type": "markdown",
   "id": "ffb69608",
   "metadata": {},
   "source": [
    "Ans.\n",
    "\n",
    "Supervised learning, unsupervised learning, and reinforcement learning"
   ]
  },
  {
   "cell_type": "markdown",
   "id": "waiting-central",
   "metadata": {},
   "source": [
    "**4. Examine the various forms of machine learning.**"
   ]
  },
  {
   "cell_type": "markdown",
   "id": "5165c4dd",
   "metadata": {},
   "source": [
    "Ans\n",
    "\n",
    "supervised learning, unsupervised learning, and reinforcement learning"
   ]
  },
  {
   "cell_type": "markdown",
   "id": "finite-johnson",
   "metadata": {},
   "source": [
    "**5. Can you explain what a well-posed learning problem is? Explain the main characteristics that must be present to identify a learning problem properly.**"
   ]
  },
  {
   "cell_type": "markdown",
   "id": "3b5e9190",
   "metadata": {},
   "source": [
    "Ans.\n",
    "A (machine learning) problem is well-posed if a solution to it exists, if that solution is unique, and if that solution depends on the data / experience but it is not sensitive to (reasonably small) changes in the data / experience.\n",
    "\n",
    "Main characteristics are:\n",
    "\n",
    "1) Learning: In this data are trying to learn the pattern or relation between the independent features and depeendetn features.\n",
    "\n",
    "2) Performance: In this we check for the new unkown data what performance they give when unknow data set is passed to the machine learning model.\n",
    "\n",
    "3) Evaluation: In this we evaluate hwo good is our model\n"
   ]
  },
  {
   "cell_type": "markdown",
   "id": "turned-narrative",
   "metadata": {},
   "source": [
    "**6. Is machine learning capable of solving all problems? Give a detailed explanation of your answer.**"
   ]
  },
  {
   "cell_type": "markdown",
   "id": "afe8d97d",
   "metadata": {},
   "source": [
    "No it is not necessary that ML can solve all the problems with good performance.\n",
    "\n",
    "It has some limitations:\n",
    "    \n",
    "1) Ethics: The most commonly discussed case currently is self-driving cars — how do we choose how the vehicle should react in the event of a fatal collision? In the future will we have to select which ethical framework we want our self-driving car to follow when we are purchasing the vehicle?\n",
    "           If my self-driving car kills someone on the road, whose fault is it? \n",
    "\n",
    "2) Deterministic Problems: Machine learning is stochastic, not deterministic.\n",
    "\n",
    "3) Data: This is the most obvious limitation. If you feed a model poorly, then it will only give you poor results. This can manifest itself in two ways: lack of data, and lack of good data."
   ]
  },
  {
   "cell_type": "markdown",
   "id": "stainless-landing",
   "metadata": {},
   "source": [
    "**7. What are the various methods and technologies for solving machine learning problems? Any two of them should be defined in detail.**"
   ]
  },
  {
   "cell_type": "markdown",
   "id": "lined-louis",
   "metadata": {},
   "source": [
    "**8. Can you explain the various forms of supervised learning? Explain each one with an example application.**"
   ]
  },
  {
   "cell_type": "markdown",
   "id": "cathedral-hello",
   "metadata": {},
   "source": [
    "**9. What is the difference between supervised and unsupervised learning? With a sample application in each region, explain the differences.**"
   ]
  },
  {
   "cell_type": "markdown",
   "id": "fabulous-premium",
   "metadata": {},
   "source": [
    "**11. Make a comparison between:-**\n",
    "\n",
    "1. Generalization and abstraction\n",
    "\n",
    "2. Learning that is guided and unsupervised\n",
    "\n",
    "3. Regression and classification\n"
   ]
  },
  {
   "cell_type": "code",
   "execution_count": null,
   "id": "thrown-tunnel",
   "metadata": {},
   "outputs": [],
   "source": []
  },
  {
   "cell_type": "code",
   "execution_count": null,
   "id": "dried-particular",
   "metadata": {},
   "outputs": [],
   "source": []
  },
  {
   "cell_type": "code",
   "execution_count": null,
   "id": "declared-reservation",
   "metadata": {},
   "outputs": [],
   "source": []
  },
  {
   "cell_type": "code",
   "execution_count": null,
   "id": "later-coral",
   "metadata": {},
   "outputs": [],
   "source": []
  },
  {
   "cell_type": "code",
   "execution_count": null,
   "id": "tested-means",
   "metadata": {},
   "outputs": [],
   "source": []
  }
 ],
 "metadata": {
  "kernelspec": {
   "display_name": "Python 3",
   "language": "python",
   "name": "python3"
  },
  "language_info": {
   "codemirror_mode": {
    "name": "ipython",
    "version": 3
   },
   "file_extension": ".py",
   "mimetype": "text/x-python",
   "name": "python",
   "nbconvert_exporter": "python",
   "pygments_lexer": "ipython3",
   "version": "3.8.8"
  }
 },
 "nbformat": 4,
 "nbformat_minor": 5
}
