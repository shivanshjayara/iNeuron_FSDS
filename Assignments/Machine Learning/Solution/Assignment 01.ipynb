{
 "cells": [
  {
   "cell_type": "markdown",
   "id": "annual-blair",
   "metadata": {},
   "source": [
    "**1. What does one mean by the term \"machine learning\"?**"
   ]
  },
  {
   "cell_type": "markdown",
   "id": "uniform-authority",
   "metadata": {},
   "source": [
    "Ans.\n",
    "\n",
    "Machine Learning simply means, with a use of some mathematicals algorithms, building up a relationship between independent feature and depenedent variable by optimizing some importanat parameters, which are cofficients and intercept, in such a way that when we predict the value of the dependent variable, it has very minimum error or residual"
   ]
  },
  {
   "cell_type": "markdown",
   "id": "sized-renaissance",
   "metadata": {},
   "source": [
    "**2.Can you think of 4 distinct types of issues where it shines?**"
   ]
  },
  {
   "cell_type": "markdown",
   "id": "integrated-purple",
   "metadata": {},
   "source": [
    "Ans. \n",
    "1) Spam detection in email, \n",
    "2) Cancer diagnosis, \n",
    "3) Fraudulent credit card transactions,\n",
    "4) Automatically driving vehicles"
   ]
  },
  {
   "cell_type": "markdown",
   "id": "foreign-philip",
   "metadata": {},
   "source": [
    "**3.What is a labeled training set, and how does it work?**"
   ]
  },
  {
   "cell_type": "markdown",
   "id": "premier-mission",
   "metadata": {},
   "source": [
    "Ans.\n",
    "Labeled training set refer to those data set in which a target variables is having some tag name, or a class name to identity that to which observation it belongs to.\n",
    "Example: Result is a target variable name and its labels are Pass and Fail.\n",
    "\n",
    "When the model is trained on lebeled training data set then tha datas are given the labeled based on the training so that when we give the test data without labels for prediction then the model could predict the labels with minimu errors."
   ]
  },
  {
   "cell_type": "markdown",
   "id": "eight-whole",
   "metadata": {},
   "source": [
    "**4.What are the two most important tasks that are supervised?**"
   ]
  },
  {
   "cell_type": "markdown",
   "id": "inner-coral",
   "metadata": {},
   "source": [
    "Ans.\n",
    "\n",
    "In supervised learning, target variables are given. Whether it is a numerical or categroical. So the two most important tasks \n",
    "that it do are:\n",
    "\n",
    "    1) Regression- Target variables are numerical in nature.\n",
    "    \n",
    "    2) Classification- Target variables are categoriical in nature\n",
    "    "
   ]
  },
  {
   "cell_type": "markdown",
   "id": "potential-wallace",
   "metadata": {},
   "source": [
    "**5.Can you think of four examples of unsupervised tasks?**"
   ]
  },
  {
   "cell_type": "markdown",
   "id": "dated-engineer",
   "metadata": {},
   "source": [
    "Ans.\n",
    "\n",
    "In supervised learnning, there is no target output column. \n",
    "\n",
    "The four basic unsupervised tasked are :\n",
    "    \n",
    "    1) clustering: Creating a similar groups for indiviual observation.\n",
    "    \n",
    "    2) visualization: Visualization the data set into different different lcusters which we have created.\n",
    "    \n",
    "    3) dimensionality reduction: If there is a huge number of feature then there is a chances of overfiting due to\n",
    "       dimentionality curse. So it tries to reduce the number of features into few components.\n",
    "    \n",
    "    4) association:"
   ]
  },
  {
   "cell_type": "markdown",
   "id": "posted-financing",
   "metadata": {},
   "source": [
    "**6.State the machine learning model that would be best to make a robot walk through various unfamiliar terrains?**"
   ]
  },
  {
   "cell_type": "markdown",
   "id": "functional-consortium",
   "metadata": {},
   "source": [
    "Ans.\n",
    "\n",
    "Reinforced Learning, where the robot can learn from response of the terrain to optimize itself."
   ]
  },
  {
   "cell_type": "markdown",
   "id": "brave-friendship",
   "metadata": {},
   "source": [
    "**7.Which algorithm will you use to divide your customers into different groups?**"
   ]
  },
  {
   "cell_type": "markdown",
   "id": "imperial-beast",
   "metadata": {},
   "source": [
    "Ans.\n",
    "\n",
    "K-Means clustering"
   ]
  },
  {
   "cell_type": "markdown",
   "id": "acting-creator",
   "metadata": {},
   "source": [
    "**8.Will you consider the problem of spam detection to be a supervised or unsupervised learning problem?**"
   ]
  },
  {
   "cell_type": "markdown",
   "id": "unlikely-madagascar",
   "metadata": {},
   "source": [
    "Ans.\n",
    "\n",
    "Spam detection is a supervised machine learning problem. This means you must provide your machine learning model with a set of examples of spam and ham messages and let it find the relevant patterns that separate the two different categories."
   ]
  },
  {
   "cell_type": "markdown",
   "id": "suburban-northern",
   "metadata": {},
   "source": [
    "**9.What is the concept of an online learning system?**"
   ]
  },
  {
   "cell_type": "markdown",
   "id": "sustained-exhibit",
   "metadata": {},
   "source": [
    "And.\n",
    "\n",
    "It is refer to the learning that we can get from the internet. It lets you adapt to your own timing and convenience. It also allows you to learn from anywhere and at any time"
   ]
  },
  {
   "cell_type": "markdown",
   "id": "substantial-yesterday",
   "metadata": {},
   "source": [
    "**10.What is out-of-core learning, and how does it differ from core learning?**"
   ]
  },
  {
   "cell_type": "markdown",
   "id": "initial-journalism",
   "metadata": {},
   "source": [
    "Ans.\n",
    "\n",
    "Out-of-core learning is used when a dataset is too large to fit into a computer's memory. The algorithm loads part of the data, runs a training step, then repeats the process until it has run on all the data."
   ]
  },
  {
   "cell_type": "markdown",
   "id": "suspended-worthy",
   "metadata": {},
   "source": [
    "**11.What kind of learning algorithm makes predictions using a similarity measure?**"
   ]
  },
  {
   "cell_type": "markdown",
   "id": "contemporary-latvia",
   "metadata": {},
   "source": [
    "Ans.\n",
    "\n",
    "Instance-based learning algorithms use a measure of similarity to generalize to new cases. In an instance-based learning system, the algorithm learns the examples by heart, then uses the similarity measure to generalize."
   ]
  },
  {
   "cell_type": "markdown",
   "id": "impressed-sierra",
   "metadata": {},
   "source": [
    "**12.What's the difference between a model parameter and a hyperparameter in a learning algorithm?**"
   ]
  },
  {
   "cell_type": "markdown",
   "id": "white-liberty",
   "metadata": {},
   "source": [
    "Ans\n",
    "\n",
    "A hyperparameter is a parameter of the learning algorithm, not the model. For example, in a simple linear regression problem our model is parameterized by theta which is a vector of weights. In order to find the best values for theta we have a cost function which is run repeatedly by the gradient descent algorithm. Gradient descent has a hyperparameter called alpha which is the learning rate of the algorithm."
   ]
  },
  {
   "cell_type": "markdown",
   "id": "correct-beads",
   "metadata": {},
   "source": [
    "**13.What are the criteria that model-based learning algorithms look for? What is the most popular method they use to achieve success? What method do they use to make predictions?**"
   ]
  },
  {
   "cell_type": "markdown",
   "id": "classified-preservation",
   "metadata": {},
   "source": [
    "Ans.\n",
    "\n",
    "The goal for a model-based algorithm is to be able to generalize to new examples. To do this, model based algorithms search for optimal values for the model's parameters, often called theta. This searching, or \"learning\", is what machine learning is all about. Model-based system learn by minimizing a cost function that measures how bad the system is at making predicitons on new data, plus a penalty for model complexity if the model is regularized. To make a prediction, a new instance's features are fed into a hypothesis function which uses the minimized theta found by repeatedly running the cost function."
   ]
  },
  {
   "cell_type": "markdown",
   "id": "metallic-florence",
   "metadata": {},
   "source": [
    "**14.Can you name four of the most important Machine Learning challenges?**"
   ]
  },
  {
   "cell_type": "markdown",
   "id": "assisted-english",
   "metadata": {},
   "source": [
    "Ans.\n",
    "\n",
    "1) overfitting the data\n",
    "\n",
    "2) underfitting the data\n",
    "\n",
    "3) lacking in data\n",
    "\n",
    "4) nonrepresentative data\n"
   ]
  },
  {
   "cell_type": "markdown",
   "id": "powerful-bedroom",
   "metadata": {},
   "source": [
    "**15.What happens if the model performs well on the training data but fails to generalize the results to new situations? Can you think of three different options?**"
   ]
  },
  {
   "cell_type": "markdown",
   "id": "apart-ordering",
   "metadata": {},
   "source": [
    "Ans\n",
    "\n",
    "This is a case of is overfitting the training data. \n",
    "\n",
    "To overcome this we can do:\n",
    "    \n",
    "1) Reduce the complexity of the model by removing features or constraining the parameters. \n",
    "\n",
    "2) Can gather more data. \n",
    "\n",
    "3) Can reduce noisiness in the data by fixing errors and removing outliers."
   ]
  },
  {
   "cell_type": "markdown",
   "id": "chubby-encoding",
   "metadata": {},
   "source": [
    "**16.What exactly is a test set, and why would you need one?**"
   ]
  },
  {
   "cell_type": "markdown",
   "id": "proprietary-brass",
   "metadata": {},
   "source": [
    "Ans.\n",
    "\n",
    "After we trained the model with our training data set, we require some data out of the total dataset to check out the prediction which we are getting. The score which test data will give shows that how much accusrat eis out model for those data which it has not seen.\n",
    "For that test data is used"
   ]
  },
  {
   "cell_type": "markdown",
   "id": "wanted-language",
   "metadata": {},
   "source": [
    "**17.What is a validation set's purpose?**"
   ]
  },
  {
   "cell_type": "markdown",
   "id": "composed-positive",
   "metadata": {},
   "source": [
    "Ans.\n",
    "\n",
    "In cross validation we generally used validation set.\n",
    "Its purpose is to check the model accuracy in different different subset of data and decie the best possible predcition fo rthe model"
   ]
  },
  {
   "cell_type": "markdown",
   "id": "eligible-bennett",
   "metadata": {},
   "source": [
    "**18.What precisely is the train-dev kit, when will you need it, how do you put it to use?**"
   ]
  },
  {
   "cell_type": "markdown",
   "id": "liable-metabolism",
   "metadata": {},
   "source": [
    "Ans.\n",
    "\n",
    "The goal of dev-set is to rank the models in term of their accuracy and helps us decide which model to proceed further with. Using Dev set we rank all our models in terms of their accuracy and pick the best performing model."
   ]
  },
  {
   "cell_type": "markdown",
   "id": "expensive-marshall",
   "metadata": {},
   "source": [
    "**19.What could go wrong if you use the test set to tune hyperparameters?**"
   ]
  },
  {
   "cell_type": "markdown",
   "id": "comparable-monroe",
   "metadata": {},
   "source": [
    "Ans.\n",
    "\n",
    "Model will not be generalizable to new examples.\n",
    "If we use this data to choose hyperparameters, model will get a chance to \"see\" the test data which is a unseen data and to develop a bias towards this test data. Therefore, we actually lose the possibility to find out how good our model would actually be on unseen data"
   ]
  }
 ],
 "metadata": {
  "kernelspec": {
   "display_name": "Python 3",
   "language": "python",
   "name": "python3"
  },
  "language_info": {
   "codemirror_mode": {
    "name": "ipython",
    "version": 3
   },
   "file_extension": ".py",
   "mimetype": "text/x-python",
   "name": "python",
   "nbconvert_exporter": "python",
   "pygments_lexer": "ipython3",
   "version": "3.7.9"
  }
 },
 "nbformat": 4,
 "nbformat_minor": 5
}
