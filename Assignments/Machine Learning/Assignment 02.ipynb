{
 "cells": [
  {
   "cell_type": "markdown",
   "id": "tested-buying",
   "metadata": {},
   "source": [
    "**1. What is the concept of human learning? Please give two examples.**"
   ]
  },
  {
   "cell_type": "markdown",
   "id": "iraqi-linux",
   "metadata": {},
   "source": [
    "Ans.\n",
    "\n",
    "Human learning starts at birth and continues until death as a consequence of ongoing interactions between people and their environment.\n",
    "Human acquire new understanding, knowledge, behaviors, skills, values, attitudes, and preferences through which he become a good learning and work accordingly.\n",
    "\n",
    "Examples:\n",
    "\n",
    "1) Learning what are dogs\n",
    "\n",
    "2) What are cats"
   ]
  },
  {
   "cell_type": "markdown",
   "id": "collective-gregory",
   "metadata": {},
   "source": [
    "**2. What different forms of human learning are there? Are there any machine learning equivalents?**"
   ]
  },
  {
   "cell_type": "markdown",
   "id": "nervous-fifth",
   "metadata": {},
   "source": [
    "Ans.\n",
    "\n",
    "1) Hebbian learning(Human Learning) <-----> Artificial Neural Network( Machine learning)\n",
    "\n",
    "2) operant conditioning(Human learning) <-----> Reinforcement Learning(Machine Learning)\n",
    "\n",
    "3) Concept learning (Human learning) <----> Supervised Learning (Machine learning)\n",
    "\n",
    "etc"
   ]
  },
  {
   "cell_type": "markdown",
   "id": "acoustic-discretion",
   "metadata": {},
   "source": [
    "**3. What is machine learning, and how does it work? What are the key responsibilities of machine learning?**"
   ]
  },
  {
   "cell_type": "markdown",
   "id": "developed-assurance",
   "metadata": {},
   "source": [
    "Ans.\n",
    "\n",
    "Machine learning is a form of artificial intelligence (AI) that teaches computers to think in a similar way to how humans do: Learning and improving upon past experiences. It works by exploring data and identifying patterns, and involves minimal human intervention.\n",
    "    \n",
    "**Responsibilities**\n",
    "\n",
    "* Perform statistical analysis.\n",
    "* Fine tuning test results.\n",
    "* Train and retrain systems.\n",
    "* Work on frameworks.\n",
    "* Undertaking machine learning experiments and test.\n",
    "* Designing machine learning programs.\n",
    "* Developing deep learning systems to various use cases based on the business needs and.\n"
   ]
  },
  {
   "cell_type": "markdown",
   "id": "serious-monthly",
   "metadata": {},
   "source": [
    "**4. Define the terms \"penalty\" and \"reward\" in the context of reinforcement learning.**"
   ]
  },
  {
   "cell_type": "markdown",
   "id": "second-progress",
   "metadata": {},
   "source": [
    "Ans.\n",
    "\n",
    "Penalty: It means whenever model perform or select something wrongly it will get a penalty as a punishment so that next time it will not repeat that mistake and give the right result.\n",
    "    \n",
    "Reward: It means that model has given the right result and that is why model has given a reward so that model get to know that it has correctly given the right result and so model can proceed further.\n",
    "    \n",
    "Reinforcement learning is a type of dynamic programming that trains algorithms using a system of reward and punishment. ... The agent learns without intervention from a human by maximizing its reward and minimizing its penalty"
   ]
  },
  {
   "cell_type": "markdown",
   "id": "rubber-timer",
   "metadata": {},
   "source": [
    "**5. Explain the term \"learning as a search\"?**"
   ]
  },
  {
   "cell_type": "markdown",
   "id": "exposed-measurement",
   "metadata": {},
   "source": [
    "**6. What are the various goals of machine learning? What is the relationship between these and human learning?**"
   ]
  },
  {
   "cell_type": "markdown",
   "id": "global-affair",
   "metadata": {},
   "source": [
    "Ans.\n",
    "\n",
    "1)To make the computers smarter, more intelligent. \n",
    "\n",
    "2) To dev elop computational models of human learning process and perform computer simulations."
   ]
  },
  {
   "cell_type": "markdown",
   "id": "fabulous-agriculture",
   "metadata": {},
   "source": [
    "**7. Illustrate the various elements of machine learning using a real-life illustration.**"
   ]
  },
  {
   "cell_type": "markdown",
   "id": "wired-sharing",
   "metadata": {},
   "source": [
    "Ans.\n",
    "\n",
    "Machine learning uses various elements to perform them in real life, These elements includes decision trees, sets of rules, instances, graphical models, neural networks, support vector machines, model ensembles and others.\n",
    "\n",
    "These elements are very helpful in real life examples like Image Recognition, Speech Recognition, Medical diagnosis, etc"
   ]
  },
  {
   "cell_type": "markdown",
   "id": "dynamic-investigation",
   "metadata": {},
   "source": [
    "**8. Provide an example of the abstraction method.**"
   ]
  },
  {
   "cell_type": "code",
   "execution_count": 2,
   "id": "corrected-richardson",
   "metadata": {},
   "outputs": [
    {
     "name": "stdout",
     "output_type": "stream",
     "text": [
      "I can walk and run\n",
      "I can crawl\n",
      "I can bark\n",
      "I can roar\n"
     ]
    }
   ],
   "source": [
    "# Ans.\n",
    "\n",
    "from abc import ABC, abstractmethod\n",
    "class Animal(ABC):\n",
    "\n",
    "    def move(self):\n",
    "        pass\n",
    "\n",
    "class Human(Animal):\n",
    "\n",
    "    def move(self):\n",
    "        print(\"I can walk and run\")\n",
    "\n",
    "class Snake(Animal):\n",
    "\n",
    "    def move(self):\n",
    "        print(\"I can crawl\")\n",
    "\n",
    "class Dog(Animal):\n",
    "\n",
    "    def move(self):\n",
    "        print(\"I can bark\")\n",
    "\n",
    "class Lion(Animal):\n",
    "\n",
    "    def move(self):\n",
    "        print(\"I can roar\")\n",
    "\n",
    "R = Human()\n",
    "R.move()\n",
    "\n",
    "K = Snake()\n",
    "K.move()\n",
    "\n",
    "R = Dog()\n",
    "R.move()\n",
    "\n",
    "K = Lion()\n",
    "K.move()\n"
   ]
  },
  {
   "cell_type": "markdown",
   "id": "surprised-ivory",
   "metadata": {},
   "source": [
    "**9. What is the concept of generalization? What function does it play in the machine learning process?**"
   ]
  },
  {
   "cell_type": "markdown",
   "id": "bacterial-sessions",
   "metadata": {},
   "source": [
    "Ans.\n",
    "\n",
    "generalization is a definition to demonstrate how well is a trained model to classify or forecast unseen data. Training a generalized machine learning model means, in general, it works for all subset of unseen data.\n",
    "\n",
    "Loss function or cost function play an important role in order to get a generalised model"
   ]
  },
  {
   "cell_type": "markdown",
   "id": "designed-diameter",
   "metadata": {},
   "source": [
    "**10. What is classification, exactly? What are the main distinctions between classification and regression?**"
   ]
  },
  {
   "cell_type": "markdown",
   "id": "legitimate-piece",
   "metadata": {},
   "source": [
    "Ans. It is probability based classification in which a category is decided based on the probability of occurrence of that particular observation w.r.t. threshold provided by the domain expertiese.\n",
    "\n",
    "The mian difference is, regression is a continuous problem and classification is a categorical problem"
   ]
  },
  {
   "cell_type": "markdown",
   "id": "transsexual-device",
   "metadata": {},
   "source": [
    "**11. What is regression, and how does it work? Give an example of a real-world problem that was solved using regression.**"
   ]
  },
  {
   "cell_type": "markdown",
   "id": "formed-norwegian",
   "metadata": {},
   "source": [
    "Ans.\n",
    "\n",
    "It is a continuos problem which deals with finding out the best possible relation ship between the independent and depened data. \n",
    "\n",
    "For example, if a company's sales have increased steadily every month for the past few years, by conducting a linear analysis on the sales data with monthly sales, the company could forecast sales in future months."
   ]
  },
  {
   "cell_type": "markdown",
   "id": "valid-dallas",
   "metadata": {},
   "source": [
    "**12. Describe the clustering mechanism in detail.**"
   ]
  },
  {
   "cell_type": "markdown",
   "id": "answering-agency",
   "metadata": {},
   "source": [
    "Ans.\n",
    "Clustering is the task of dividing the population or data points into a number of groups such that data points in the same groups are more similar to other data points in the same group than those in other groups.\n",
    "Grouping unlabeled examples is called clustering"
   ]
  }
 ],
 "metadata": {
  "kernelspec": {
   "display_name": "Python 3",
   "language": "python",
   "name": "python3"
  },
  "language_info": {
   "codemirror_mode": {
    "name": "ipython",
    "version": 3
   },
   "file_extension": ".py",
   "mimetype": "text/x-python",
   "name": "python",
   "nbconvert_exporter": "python",
   "pygments_lexer": "ipython3",
   "version": "3.7.9"
  }
 },
 "nbformat": 4,
 "nbformat_minor": 5
}
